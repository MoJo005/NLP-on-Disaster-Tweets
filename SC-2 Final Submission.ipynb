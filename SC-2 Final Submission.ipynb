{
 "cells": [
  {
   "cell_type": "code",
   "execution_count": 3,
   "metadata": {
    "execution": {
     "iopub.execute_input": "2022-08-03T08:57:26.114945Z",
     "iopub.status.busy": "2022-08-03T08:57:26.113732Z",
     "iopub.status.idle": "2022-08-03T08:57:26.122636Z",
     "shell.execute_reply": "2022-08-03T08:57:26.121288Z",
     "shell.execute_reply.started": "2022-08-03T08:57:26.114882Z"
    }
   },
   "outputs": [],
   "source": [
    "import pandas as pd\n",
    "import numpy as np\n",
    "import matplotlib.pyplot as plt\n",
    "import seaborn as sns\n",
    "import re\n",
    "from sklearn.model_selection import train_test_split\n",
    "import warnings\n",
    "warnings.filterwarnings('ignore')\n",
    "from tensorflow.keras.layers import Input,Dense, Dropout\n",
    "from tensorflow.keras import Model\n",
    "import tensorflow as tf\n",
    "from sklearn.model_selection import train_test_split\n",
    "from transformers import BertTokenizer,TFBertModel\n",
    "from sklearn.metrics import confusion_matrix, precision_score, recall_score, f1_score\n",
    "from prettytable import PrettyTable\n",
    "from tensorflow.keras.initializers import GlorotNormal"
   ]
  },
  {
   "cell_type": "code",
   "execution_count": null,
   "metadata": {
    "execution": {
     "iopub.execute_input": "2022-08-03T08:57:27.238489Z",
     "iopub.status.busy": "2022-08-03T08:57:27.237795Z",
     "iopub.status.idle": "2022-08-03T08:57:27.274806Z",
     "shell.execute_reply": "2022-08-03T08:57:27.273886Z",
     "shell.execute_reply.started": "2022-08-03T08:57:27.238454Z"
    }
   },
   "outputs": [],
   "source": [
    "# Importing the data\n",
    "\n",
    "# train_df=pd.read_csv('../input/natural-language-processing-with-disaster-tweets/kaggle nlp/train.csv')\n",
    "# test_df=pd.read_csv('../input/natural-language-processing-with-disaster-tweets/kaggle nlp/test.csv')"
   ]
  },
  {
   "cell_type": "code",
   "execution_count": 4,
   "metadata": {},
   "outputs": [],
   "source": [
    "# # importing the data\n",
    "\n",
    "train_df=pd.read_csv('train.csv')\n",
    "test_df=pd.read_csv('test.csv')"
   ]
  },
  {
   "cell_type": "code",
   "execution_count": 10,
   "metadata": {
    "execution": {
     "iopub.execute_input": "2022-08-03T08:57:28.520127Z",
     "iopub.status.busy": "2022-08-03T08:57:28.518751Z",
     "iopub.status.idle": "2022-08-03T08:57:28.533176Z",
     "shell.execute_reply": "2022-08-03T08:57:28.532013Z",
     "shell.execute_reply.started": "2022-08-03T08:57:28.520085Z"
    }
   },
   "outputs": [
    {
     "name": "stdout",
     "output_type": "stream",
     "text": [
      "(7613,) (7613,)\n",
      "(3263,)\n"
     ]
    }
   ],
   "source": [
    "train_df=train_df[['text','target']].dropna()\n",
    "train_df=train_df.sample(frac=1)\n",
    "\n",
    "X_train=train_df['text']\n",
    "y_train=train_df['target']\n",
    "X_test=test_df['text']\n",
    "\n",
    "print(X_train.shape, y_train.shape)\n",
    "print(X_test.shape)"
   ]
  },
  {
   "cell_type": "markdown",
   "metadata": {},
   "source": [
    "## 1) Main Functions"
   ]
  },
  {
   "cell_type": "code",
   "execution_count": 12,
   "metadata": {
    "execution": {
     "iopub.execute_input": "2022-08-03T08:57:31.220653Z",
     "iopub.status.busy": "2022-08-03T08:57:31.219540Z",
     "iopub.status.idle": "2022-08-03T08:57:31.229909Z",
     "shell.execute_reply": "2022-08-03T08:57:31.228736Z",
     "shell.execute_reply.started": "2022-08-03T08:57:31.220607Z"
    }
   },
   "outputs": [],
   "source": [
    "def lowercase(text):\n",
    "    return text.lower()\n",
    "\n",
    "# 2 Decontracting the text\n",
    "def decontracted(phrase):\n",
    "    # specific\n",
    "    phrase = re.sub(r\"won\\'t\", \"will not\", phrase)\n",
    "    phrase = re.sub(r\"can\\'t\", \"can not\", phrase)\n",
    "    # general\n",
    "    phrase = re.sub(r\"n\\'t\", \" not\", phrase)\n",
    "    phrase = re.sub(r\"\\'re\", \" are\", phrase)\n",
    "    phrase = re.sub(r\"\\'s\", \" is\", phrase)\n",
    "    phrase = re.sub(r\"\\'d\", \" would\", phrase)\n",
    "    phrase = re.sub(r\"\\'ll\", \" will\", phrase)\n",
    "    phrase = re.sub(r\"\\'t\", \" not\", phrase)\n",
    "    phrase = re.sub(r\"\\'ve\", \" have\", phrase)\n",
    "    phrase = re.sub(r\"\\'m\", \" am\", phrase)\n",
    "    phrase = re.sub(r\"\\'cause\", \" because\", phrase)\n",
    "    phrase = re.sub(r\"let\\'s\", \"let us\", phrase)\n",
    "    return phrase\n",
    "\n",
    "# 3 Removing URLs\n",
    "def remove_url(text):\n",
    "    text= re.sub(r'https?://\\S+|www\\.\\S+', '', text)\n",
    "    return text\n",
    "\n",
    "# 4 Removing HTMLs\n",
    "def remove_html(text):\n",
    "    text=re.sub(r'<.*?>','',text)\n",
    "    return text\n"
   ]
  },
  {
   "cell_type": "code",
   "execution_count": 13,
   "metadata": {
    "execution": {
     "iopub.execute_input": "2022-08-03T08:57:32.237598Z",
     "iopub.status.busy": "2022-08-03T08:57:32.236881Z",
     "iopub.status.idle": "2022-08-03T08:57:32.247847Z",
     "shell.execute_reply": "2022-08-03T08:57:32.246897Z",
     "shell.execute_reply.started": "2022-08-03T08:57:32.237560Z"
    }
   },
   "outputs": [],
   "source": [
    "# 5 Removing Slangs or chat words\n",
    "# Converting slangs and chat words like BRB to Be Right Back, FYI to For Your Information\n",
    "slangs=\"\"\"AFAIK=As Far As I Know\n",
    "AFK=Away From Keyboard\n",
    "ASAP=As Soon As Possible\n",
    "ATK=At The Keyboard\n",
    "ATM=At The Moment\n",
    "A3=Anytime, Anywhere, Anyplace\n",
    "BAK=Back At Keyboard\n",
    "BBL=Be Back Later\n",
    "BBS=Be Back Soon\n",
    "BFN=Bye For Now\n",
    "B4N=Bye For Now\n",
    "BRB=Be Right Back\n",
    "BRT=Be Right There\n",
    "BTW=By The Way\n",
    "B4=Before\n",
    "B4N=Bye For Now\n",
    "CU=See You\n",
    "CUL8R=See You Later\n",
    "CYA=See You\n",
    "FAQ=Frequently Asked Questions\n",
    "FC=Fingers Crossed\n",
    "FWIW=For What It's Worth\n",
    "FYI=For Your Information\n",
    "GAL=Get A Life\n",
    "GG=Good Game\n",
    "GN=Good Night\n",
    "GMTA=Great Minds Think Alike\n",
    "GR8=Great!\n",
    "G9=Genius\n",
    "IC=I See\n",
    "ICQ=I Seek you (also a chat program)\n",
    "ILU=ILU: I Love You\n",
    "IMHO=In My Honest/Humble Opinion\n",
    "IMO=In My Opinion\n",
    "IOW=In Other Words\n",
    "IRL=In Real Life\n",
    "KISS=Keep It Simple, Stupid\n",
    "LDR=Long Distance Relationship\n",
    "LMAO=Laugh My A.. Off\n",
    "LOL=Laughing Out Loud\n",
    "LTNS=Long Time No See\n",
    "L8R=Later\n",
    "MTE=My Thoughts Exactly\n",
    "M8=Mate\n",
    "NRN=No Reply Necessary\n",
    "OIC=Oh I See\n",
    "PITA=Pain In The A..\n",
    "PRT=Party\n",
    "PRW=Parents Are Watching\n",
    "QPSA=Que Pasa?\n",
    "ROFL=Rolling On The Floor Laughing\n",
    "ROFLOL=Rolling On The Floor Laughing Out Loud\n",
    "ROTFLMAO=Rolling On The Floor Laughing My A.. Off\n",
    "SK8=Skate\n",
    "STATS=Your sex and age\n",
    "ASL=Age, Sex, Location\n",
    "THX=Thank You\n",
    "TTFN=Ta-Ta For Now!\n",
    "TTYL=Talk To You Later\n",
    "U=You\n",
    "U2=You Too\n",
    "U4E=Yours For Ever\n",
    "WB=Welcome Back\n",
    "WTF=What The F...\n",
    "WTG=Way To Go!\n",
    "WUF=Where Are You From?\n",
    "W8=Wait...\n",
    "7K=Sick:-D Laugher\n",
    "IG=Instagram\n",
    "FB=Facebook\n",
    "PPL=People\n",
    "R=Are\n",
    "PC=Computer\"\"\"\n",
    "\n",
    "# Making the dictionary of the above strings\n",
    "pattern=re.compile('\\\\n')\n",
    "slangs=pattern.sub(r'  ',slangs)\n",
    "slangs_dict={}\n",
    "for i in slangs.split('  '):\n",
    "    lst=i.split('=')\n",
    "    slangs_dict[lst[0]]=lst[1]\n",
    "\n",
    "def remove_slangs(text):\n",
    "    new_text=[]\n",
    "    for word in text.split():\n",
    "        if word.upper() in slangs_dict:\n",
    "            new_text.append(slangs_dict[word.upper()].lower())\n",
    "        else:\n",
    "            new_text.append(word)\n",
    "    return ' '.join(new_text)\n"
   ]
  },
  {
   "cell_type": "code",
   "execution_count": 14,
   "metadata": {
    "execution": {
     "iopub.execute_input": "2022-08-03T08:57:33.656610Z",
     "iopub.status.busy": "2022-08-03T08:57:33.655495Z",
     "iopub.status.idle": "2022-08-03T08:57:33.661926Z",
     "shell.execute_reply": "2022-08-03T08:57:33.660934Z",
     "shell.execute_reply.started": "2022-08-03T08:57:33.656562Z"
    }
   },
   "outputs": [],
   "source": [
    "def basic_preprocessing(text):\n",
    "    \n",
    "    text=lowercase(text)           # 1\n",
    "    text=decontracted(text)        # 2    \n",
    "    text=remove_url(text)          # 3\n",
    "    text=remove_html(text)         # 4\n",
    "    text=remove_slangs(text)       # 5\n",
    "    \n",
    "    return text"
   ]
  },
  {
   "cell_type": "code",
   "execution_count": 50,
   "metadata": {
    "execution": {
     "iopub.execute_input": "2022-08-03T09:11:13.873577Z",
     "iopub.status.busy": "2022-08-03T09:11:13.872785Z",
     "iopub.status.idle": "2022-08-03T09:11:13.883725Z",
     "shell.execute_reply": "2022-08-03T09:11:13.882643Z",
     "shell.execute_reply.started": "2022-08-03T09:11:13.873540Z"
    }
   },
   "outputs": [],
   "source": [
    "def performance_evaluation(y_actual, y_pred):\n",
    "    \n",
    "    \"\"\"This function prints the confusion matrix and all the other evalutaion metrics like Precision, Recall and F1 Score\"\"\"\n",
    "    \n",
    "    \n",
    "    # Plotting Confusion Matrix\n",
    "    c_test=confusion_matrix(y_actual,y_pred)\n",
    "\n",
    "    plt.figure(figsize=(6,6))\n",
    "    sns.heatmap(c_test/np.sum(c_test),annot=True,fmt='.2%',cmap='Blues')\n",
    "    plt.xlabel('Predicted')\n",
    "    plt.ylabel('Actual')\n",
    "    plt.title(\"Confusion Matrix\")\n",
    "    plt.show()\n",
    "    \n",
    "\n",
    "    tn,fp,fn,tp=c_test.ravel()\n",
    "    # print(classification_report(y_test,y_test_pred_value))\n",
    "    print()\n",
    "    \n",
    "    table=PrettyTable(['Metrics','Values'])\n",
    "    table.add_row(['Specificity(%)',np.round((tn/(tn+fp))*100,2)])\n",
    "    table.add_row(['Sensitivity/Recall(%)',np.round((tp/(tp+fn))*100,2)])\n",
    "    table.add_row(['Precision(%)',np.round((tp/(tp+fp))*100,2)])\n",
    "    table.add_row(['Micro F1 Score',np.round(f1_score(y_actual,y_pred,average='micro'),2)])\n",
    "    model_metrics=[np.round((tn/(tn+fp))*100,2),np.round((tp/(tp+fn))*100,2),np.round((tp/(tp+fp))*100,2),np.round(f1_score(y_actual,y_pred,average='micro'),2)]\n",
    "    print(table)\n",
    "\n",
    "    return model_metrics\n",
    "   "
   ]
  },
  {
   "cell_type": "code",
   "execution_count": 16,
   "metadata": {
    "execution": {
     "iopub.execute_input": "2022-08-03T08:57:53.045829Z",
     "iopub.status.busy": "2022-08-03T08:57:53.044765Z",
     "iopub.status.idle": "2022-08-03T08:57:53.053743Z",
     "shell.execute_reply": "2022-08-03T08:57:53.052772Z",
     "shell.execute_reply.started": "2022-08-03T08:57:53.045783Z"
    }
   },
   "outputs": [],
   "source": [
    "def text_encoding(tokenizer, texts, max_length):\n",
    "    \n",
    "    \"\"\"This function return the text embeddings after tokenization and padding the text.\"\"\"\n",
    "    batch_size=256\n",
    "    input_ids = []\n",
    "    attention_mask = []\n",
    "    \n",
    "    for i in range(0, len(texts), batch_size):\n",
    "        batch = texts[i:i+batch_size]\n",
    "        inputs = tokenizer.batch_encode_plus(batch,\n",
    "                                             max_length=max_length, padding='max_length',\n",
    "                                             truncation=True, return_attention_mask=True,\n",
    "                                             return_token_type_ids=False)\n",
    "        input_ids.extend(inputs['input_ids'])\n",
    "        attention_mask.extend(inputs['attention_mask'])\n",
    "    \n",
    "    \n",
    "    return tf.convert_to_tensor(input_ids), tf.convert_to_tensor(attention_mask)"
   ]
  },
  {
   "cell_type": "code",
   "execution_count": 17,
   "metadata": {
    "execution": {
     "iopub.execute_input": "2022-08-03T08:57:56.855549Z",
     "iopub.status.busy": "2022-08-03T08:57:56.855122Z",
     "iopub.status.idle": "2022-08-03T08:57:56.865932Z",
     "shell.execute_reply": "2022-08-03T08:57:56.864888Z",
     "shell.execute_reply.started": "2022-08-03T08:57:56.855517Z"
    }
   },
   "outputs": [],
   "source": [
    "def model_architecture(bert_model, max_len):\n",
    "    # Model architecture\n",
    "\n",
    "    weight_initializer = GlorotNormal(seed=42)\n",
    "\n",
    "    # DistilBERT Layers\n",
    "    input_ids_layer = Input(shape=(max_len,), name='input_ids', dtype='int32')\n",
    "    input_attention_layer = Input(shape=(max_len,), name='input_attention', dtype='int32')\n",
    "    last_hidden_state = bert_model(input_ids_layer,input_attention_layer)[1]\n",
    "#     cls_token = last_hidden_state[:, 0, :]\n",
    "\n",
    "    # NN layer\n",
    "    X = Dropout(0.2)(last_hidden_state)\n",
    "    X = Dense(128, activation='relu')(X)\n",
    "    X = Dropout(0.3)(X)\n",
    "    X = Dense(64, activation='relu')(X)\n",
    "    X = Dropout(0.3)(X)\n",
    "    X = Dense(16, activation='relu')(X)\n",
    "    \n",
    "    output = Dense(1,activation='sigmoid',kernel_initializer=weight_initializer)(X)\n",
    "\n",
    "    model_bert = Model(inputs=[input_ids_layer, input_attention_layer], outputs=output)\n",
    "    \n",
    "    return model_bert"
   ]
  },
  {
   "cell_type": "code",
   "execution_count": 29,
   "metadata": {
    "execution": {
     "iopub.execute_input": "2022-08-03T09:01:18.045771Z",
     "iopub.status.busy": "2022-08-03T09:01:18.044806Z",
     "iopub.status.idle": "2022-08-03T09:01:18.051945Z",
     "shell.execute_reply": "2022-08-03T09:01:18.049889Z",
     "shell.execute_reply.started": "2022-08-03T09:01:18.045735Z"
    }
   },
   "outputs": [],
   "source": [
    "def model_params(max_len):\n",
    "    model_bert=model_architecture(bert_model, max_len)\n",
    "    model_bert.load_weights('../input/sc2bert-weights/bert_weights.h5')\n",
    "    \n",
    "    return model_bert"
   ]
  },
  {
   "cell_type": "markdown",
   "metadata": {},
   "source": [
    "## 2) Final Functions"
   ]
  },
  {
   "cell_type": "code",
   "execution_count": 19,
   "metadata": {
    "execution": {
     "iopub.execute_input": "2022-08-03T08:58:01.018616Z",
     "iopub.status.busy": "2022-08-03T08:58:01.017493Z",
     "iopub.status.idle": "2022-08-03T08:58:18.832932Z",
     "shell.execute_reply": "2022-08-03T08:58:18.831922Z",
     "shell.execute_reply.started": "2022-08-03T08:58:01.018570Z"
    }
   },
   "outputs": [
    {
     "data": {
      "application/vnd.jupyter.widget-view+json": {
       "model_id": "4c7c1e9eefac4b11975d090918656859",
       "version_major": 2,
       "version_minor": 0
      },
      "text/plain": [
       "Downloading:   0%|          | 0.00/226k [00:00<?, ?B/s]"
      ]
     },
     "metadata": {},
     "output_type": "display_data"
    },
    {
     "data": {
      "application/vnd.jupyter.widget-view+json": {
       "model_id": "95adef8cc6104ef18c0012ad2c5ffd14",
       "version_major": 2,
       "version_minor": 0
      },
      "text/plain": [
       "Downloading:   0%|          | 0.00/28.0 [00:00<?, ?B/s]"
      ]
     },
     "metadata": {},
     "output_type": "display_data"
    },
    {
     "data": {
      "application/vnd.jupyter.widget-view+json": {
       "model_id": "b9d7835a2e144cff99b1189ebd2f8cfb",
       "version_major": 2,
       "version_minor": 0
      },
      "text/plain": [
       "Downloading:   0%|          | 0.00/570 [00:00<?, ?B/s]"
      ]
     },
     "metadata": {},
     "output_type": "display_data"
    },
    {
     "data": {
      "application/vnd.jupyter.widget-view+json": {
       "model_id": "c45968d1362846c4b25e453cf2043f42",
       "version_major": 2,
       "version_minor": 0
      },
      "text/plain": [
       "Downloading:   0%|          | 0.00/511M [00:00<?, ?B/s]"
      ]
     },
     "metadata": {},
     "output_type": "display_data"
    },
    {
     "name": "stderr",
     "output_type": "stream",
     "text": [
      "Some layers from the model checkpoint at bert-base-uncased were not used when initializing TFBertModel: ['nsp___cls', 'mlm___cls']\n",
      "- This IS expected if you are initializing TFBertModel from the checkpoint of a model trained on another task or with another architecture (e.g. initializing a BertForSequenceClassification model from a BertForPreTraining model).\n",
      "- This IS NOT expected if you are initializing TFBertModel from the checkpoint of a model that you expect to be exactly identical (initializing a BertForSequenceClassification model from a BertForSequenceClassification model).\n",
      "All the layers of TFBertModel were initialized from the model checkpoint at bert-base-uncased.\n",
      "If your task is similar to the task the model of the checkpoint was trained on, you can already use TFBertModel for predictions without further training.\n"
     ]
    }
   ],
   "source": [
    "# Loading BERT tokenizer and Model\n",
    "\n",
    "bert_tokenizer = BertTokenizer.from_pretrained('bert-base-uncased')\n",
    "bert_model = TFBertModel.from_pretrained('bert-base-uncased')"
   ]
  },
  {
   "cell_type": "markdown",
   "metadata": {},
   "source": [
    "## Function 1"
   ]
  },
  {
   "cell_type": "code",
   "execution_count": 39,
   "metadata": {
    "execution": {
     "iopub.execute_input": "2022-08-03T09:05:17.915867Z",
     "iopub.status.busy": "2022-08-03T09:05:17.915116Z",
     "iopub.status.idle": "2022-08-03T09:05:17.923869Z",
     "shell.execute_reply": "2022-08-03T09:05:17.922789Z",
     "shell.execute_reply.started": "2022-08-03T09:05:17.915812Z"
    }
   },
   "outputs": [],
   "source": [
    "def function_1(X):\n",
    "\n",
    "    max_len=64\n",
    "    model_bert = model_params(max_len)\n",
    "\n",
    "    # 1 Preprocessing the text\n",
    "    if type(X)==str:\n",
    "        text=basic_preprocessing(X)\n",
    "        text_list=[]\n",
    "        text_list.append(text)\n",
    "    else:\n",
    "        text_list=X.apply(basic_preprocessing)\n",
    "\n",
    "    # 2 Encoding the text data\n",
    "    text_ids, text_attention=text_encoding(bert_tokenizer, text_list, max_len)\n",
    "\n",
    "    # Modeling \n",
    "    pred_proba=model_bert.predict([text_ids, text_attention])\n",
    "    prediction= np.where(pred_proba>0.5, 1, 0)\n",
    "\n",
    "    return prediction"
   ]
  },
  {
   "cell_type": "code",
   "execution_count": 48,
   "metadata": {
    "execution": {
     "iopub.execute_input": "2022-08-03T09:08:20.581137Z",
     "iopub.status.busy": "2022-08-03T09:08:20.580757Z",
     "iopub.status.idle": "2022-08-03T09:08:29.485095Z",
     "shell.execute_reply": "2022-08-03T09:08:29.484037Z",
     "shell.execute_reply.started": "2022-08-03T09:08:20.581105Z"
    }
   },
   "outputs": [
    {
     "name": "stdout",
     "output_type": "stream",
     "text": [
      "Just happened a terrible car crash\n",
      "[[1]]\n"
     ]
    }
   ],
   "source": [
    "# Predicting single text\n",
    "text1=X_test[0]\n",
    "print(text1)\n",
    "print(function_1(text1))"
   ]
  },
  {
   "cell_type": "code",
   "execution_count": 49,
   "metadata": {
    "execution": {
     "iopub.execute_input": "2022-08-03T09:08:47.633122Z",
     "iopub.status.busy": "2022-08-03T09:08:47.632080Z",
     "iopub.status.idle": "2022-08-03T09:08:55.796564Z",
     "shell.execute_reply": "2022-08-03T09:08:55.795509Z",
     "shell.execute_reply.started": "2022-08-03T09:08:47.633084Z"
    }
   },
   "outputs": [
    {
     "name": "stdout",
     "output_type": "stream",
     "text": [
      "5                   We're shaking...It's an earthquake\n",
      "6    They'd probably still show more life than Arse...\n",
      "7                                    Hey! How are you?\n",
      "8                                     What a nice hat?\n",
      "9                                            Fuck off!\n",
      "Name: text, dtype: object\n",
      "\n",
      "======Predictions==========\n",
      "[[1]\n",
      " [0]\n",
      " [0]\n",
      " [0]\n",
      " [0]]\n"
     ]
    }
   ],
   "source": [
    "# Predicting multiple text inputs\n",
    "text2=X_test[5:10]\n",
    "print(text2)\n",
    "print()\n",
    "print('======Predictions==========')\n",
    "print(function_1(text2))"
   ]
  },
  {
   "cell_type": "markdown",
   "metadata": {},
   "source": [
    "## Function 2"
   ]
  },
  {
   "cell_type": "code",
   "execution_count": 52,
   "metadata": {
    "execution": {
     "iopub.execute_input": "2022-08-03T09:11:51.925649Z",
     "iopub.status.busy": "2022-08-03T09:11:51.924830Z",
     "iopub.status.idle": "2022-08-03T09:11:51.932590Z",
     "shell.execute_reply": "2022-08-03T09:11:51.931502Z",
     "shell.execute_reply.started": "2022-08-03T09:11:51.925608Z"
    }
   },
   "outputs": [],
   "source": [
    "def function_2(X,y):\n",
    "\n",
    "    max_len=64\n",
    "    model_bert = model_params(max_len)\n",
    "\n",
    "    # 1 Preprocessing the text\n",
    "    text_list=X.apply(basic_preprocessing)\n",
    "   \n",
    "    # 2 Encoding the text data\n",
    "    text_ids, text_attention=text_encoding(bert_tokenizer, text_list, max_len)\n",
    "\n",
    "    # Modeling \n",
    "    pred_proba=model_bert.predict([text_ids, text_attention])\n",
    "    prediction= np.where(pred_proba>0.5, 1, 0)\n",
    "    \n",
    "    model_matrices= performance_evaluation(y,prediction)\n",
    "\n",
    "    return prediction"
   ]
  },
  {
   "cell_type": "code",
   "execution_count": 53,
   "metadata": {
    "execution": {
     "iopub.execute_input": "2022-08-03T09:11:53.370021Z",
     "iopub.status.busy": "2022-08-03T09:11:53.368930Z",
     "iopub.status.idle": "2022-08-03T09:12:28.635429Z",
     "shell.execute_reply": "2022-08-03T09:12:28.634423Z",
     "shell.execute_reply.started": "2022-08-03T09:11:53.369981Z"
    }
   },
   "outputs": [
    {
     "data": {
      "image/png": "[encoded data removed]",
      "text/plain": [
       "<Figure size 432x432 with 2 Axes>"
      ]
     },
     "metadata": {
      "needs_background": "light"
     },
     "output_type": "display_data"
    },
    {
     "name": "stdout",
     "output_type": "stream",
     "text": [
      "\n",
      "+-----------------------+--------+\n",
      "|        Metrics        | Values |\n",
      "+-----------------------+--------+\n",
      "|     Specificity(%)    | 90.35  |\n",
      "| Sensitivity/Recall(%) | 83.49  |\n",
      "|      Precision(%)     |  86.7  |\n",
      "|     Micro F1 Score    |  0.87  |\n",
      "+-----------------------+--------+\n"
     ]
    },
    {
     "data": {
      "text/plain": [
       "array([[0],\n",
       "       [0],\n",
       "       [0],\n",
       "       ...,\n",
       "       [1],\n",
       "       [1],\n",
       "       [1]])"
      ]
     },
     "execution_count": 53,
     "metadata": {},
     "output_type": "execute_result"
    }
   ],
   "source": [
    "function_2(X_train,y_train)"
   ]
  }
 ],
 "metadata": {
  "kernelspec": {
   "display_name": "Python 3",
   "language": "python",
   "name": "python3"
  },
  "language_info": {
   "codemirror_mode": {
    "name": "ipython",
    "version": 3
   },
   "file_extension": ".py",
   "mimetype": "text/x-python",
   "name": "python",
   "nbconvert_exporter": "python",
   "pygments_lexer": "ipython3",
   "version": "3.8.5"
  }
 },
 "nbformat": 4,
 "nbformat_minor": 4
}
