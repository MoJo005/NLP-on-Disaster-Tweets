{
 "cells": [
  {
   "cell_type": "code",
   "execution_count": 32,
   "metadata": {
    "colab": {
     "base_uri": "https://localhost:8080/"
    },
    "execution": {
     "iopub.execute_input": "2022-07-28T11:18:11.573668Z",
     "iopub.status.busy": "2022-07-28T11:18:11.573270Z",
     "iopub.status.idle": "2022-07-28T11:18:45.512266Z",
     "shell.execute_reply": "2022-07-28T11:18:45.511017Z",
     "shell.execute_reply.started": "2022-07-28T11:18:11.573631Z"
    },
    "id": "KvY--OEcwtVL",
    "outputId": "a061661d-83c2-4c66-df61-6d05c5ad6896"
   },
   "outputs": [
    {
     "name": "stdout",
     "output_type": "stream",
     "text": [
      "Looking in indexes: https://pypi.org/simple, https://us-python.pkg.dev/colab-wheels/public/simple/\n",
      "Requirement already satisfied: tensorflow-text==2.6 in /usr/local/lib/python3.7/dist-packages (2.6.0)\n",
      "Requirement already satisfied: tensorflow-hub>=0.8.0 in /usr/local/lib/python3.7/dist-packages (from tensorflow-text==2.6) (0.12.0)\n",
      "Requirement already satisfied: tensorflow<2.7,>=2.6.0 in /usr/local/lib/python3.7/dist-packages (from tensorflow-text==2.6) (2.6.5+zzzcolab20220523104206)\n",
      "Requirement already satisfied: termcolor~=1.1.0 in /usr/local/lib/python3.7/dist-packages (from tensorflow<2.7,>=2.6.0->tensorflow-text==2.6) (1.1.0)\n",
      "Requirement already satisfied: google-pasta~=0.2 in /usr/local/lib/python3.7/dist-packages (from tensorflow<2.7,>=2.6.0->tensorflow-text==2.6) (0.2.0)\n",
      "Requirement already satisfied: protobuf<3.20,>=3.9.2 in /usr/local/lib/python3.7/dist-packages (from tensorflow<2.7,>=2.6.0->tensorflow-text==2.6) (3.17.3)\n",
      "Requirement already satisfied: wheel~=0.35 in /usr/local/lib/python3.7/dist-packages (from tensorflow<2.7,>=2.6.0->tensorflow-text==2.6) (0.37.1)\n",
      "Requirement already satisfied: opt-einsum~=3.3.0 in /usr/local/lib/python3.7/dist-packages (from tensorflow<2.7,>=2.6.0->tensorflow-text==2.6) (3.3.0)\n",
      "Requirement already satisfied: six~=1.15.0 in /usr/local/lib/python3.7/dist-packages (from tensorflow<2.7,>=2.6.0->tensorflow-text==2.6) (1.15.0)\n",
      "Requirement already satisfied: flatbuffers~=1.12.0 in /usr/local/lib/python3.7/dist-packages (from tensorflow<2.7,>=2.6.0->tensorflow-text==2.6) (1.12)\n",
      "Requirement already satisfied: typing-extensions<3.11,>=3.7 in /usr/local/lib/python3.7/dist-packages (from tensorflow<2.7,>=2.6.0->tensorflow-text==2.6) (3.10.0.2)\n",
      "Requirement already satisfied: astunparse~=1.6.3 in /usr/local/lib/python3.7/dist-packages (from tensorflow<2.7,>=2.6.0->tensorflow-text==2.6) (1.6.3)\n",
      "Requirement already satisfied: tensorboard<2.7,>=2.6.0 in /usr/local/lib/python3.7/dist-packages (from tensorflow<2.7,>=2.6.0->tensorflow-text==2.6) (2.6.0)\n",
      "Requirement already satisfied: numpy~=1.19.2 in /usr/local/lib/python3.7/dist-packages (from tensorflow<2.7,>=2.6.0->tensorflow-text==2.6) (1.19.5)\n",
      "Requirement already satisfied: gast==0.4.0 in /usr/local/lib/python3.7/dist-packages (from tensorflow<2.7,>=2.6.0->tensorflow-text==2.6) (0.4.0)\n",
      "Requirement already satisfied: h5py~=3.1.0 in /usr/local/lib/python3.7/dist-packages (from tensorflow<2.7,>=2.6.0->tensorflow-text==2.6) (3.1.0)\n",
      "Requirement already satisfied: grpcio<2.0,>=1.37.0 in /usr/local/lib/python3.7/dist-packages (from tensorflow<2.7,>=2.6.0->tensorflow-text==2.6) (1.47.0)\n",
      "Requirement already satisfied: keras<2.7,>=2.6.0 in /usr/local/lib/python3.7/dist-packages (from tensorflow<2.7,>=2.6.0->tensorflow-text==2.6) (2.6.0)\n",
      "Requirement already satisfied: keras-preprocessing~=1.1.2 in /usr/local/lib/python3.7/dist-packages (from tensorflow<2.7,>=2.6.0->tensorflow-text==2.6) (1.1.2)\n",
      "Requirement already satisfied: clang~=5.0 in /usr/local/lib/python3.7/dist-packages (from tensorflow<2.7,>=2.6.0->tensorflow-text==2.6) (5.0)\n",
      "Requirement already satisfied: wrapt~=1.12.1 in /usr/local/lib/python3.7/dist-packages (from tensorflow<2.7,>=2.6.0->tensorflow-text==2.6) (1.12.1)\n",
      "Requirement already satisfied: absl-py~=0.10 in /usr/local/lib/python3.7/dist-packages (from tensorflow<2.7,>=2.6.0->tensorflow-text==2.6) (0.15.0)\n",
      "Requirement already satisfied: tensorflow-estimator<2.7,>=2.6.0 in /usr/local/lib/python3.7/dist-packages (from tensorflow<2.7,>=2.6.0->tensorflow-text==2.6) (2.6.0)\n",
      "Requirement already satisfied: cached-property in /usr/local/lib/python3.7/dist-packages (from h5py~=3.1.0->tensorflow<2.7,>=2.6.0->tensorflow-text==2.6) (1.5.2)\n",
      "Requirement already satisfied: google-auth-oauthlib<0.5,>=0.4.1 in /usr/local/lib/python3.7/dist-packages (from tensorboard<2.7,>=2.6.0->tensorflow<2.7,>=2.6.0->tensorflow-text==2.6) (0.4.6)\n",
      "Requirement already satisfied: tensorboard-data-server<0.7.0,>=0.6.0 in /usr/local/lib/python3.7/dist-packages (from tensorboard<2.7,>=2.6.0->tensorflow<2.7,>=2.6.0->tensorflow-text==2.6) (0.6.1)\n",
      "Requirement already satisfied: requests<3,>=2.21.0 in /usr/local/lib/python3.7/dist-packages (from tensorboard<2.7,>=2.6.0->tensorflow<2.7,>=2.6.0->tensorflow-text==2.6) (2.23.0)\n",
      "Requirement already satisfied: markdown>=2.6.8 in /usr/local/lib/python3.7/dist-packages (from tensorboard<2.7,>=2.6.0->tensorflow<2.7,>=2.6.0->tensorflow-text==2.6) (3.4.1)\n",
      "Requirement already satisfied: setuptools>=41.0.0 in /usr/local/lib/python3.7/dist-packages (from tensorboard<2.7,>=2.6.0->tensorflow<2.7,>=2.6.0->tensorflow-text==2.6) (57.4.0)\n",
      "Requirement already satisfied: google-auth<2,>=1.6.3 in /usr/local/lib/python3.7/dist-packages (from tensorboard<2.7,>=2.6.0->tensorflow<2.7,>=2.6.0->tensorflow-text==2.6) (1.35.0)\n",
      "Requirement already satisfied: werkzeug>=0.11.15 in /usr/local/lib/python3.7/dist-packages (from tensorboard<2.7,>=2.6.0->tensorflow<2.7,>=2.6.0->tensorflow-text==2.6) (1.0.1)\n",
      "Requirement already satisfied: tensorboard-plugin-wit>=1.6.0 in /usr/local/lib/python3.7/dist-packages (from tensorboard<2.7,>=2.6.0->tensorflow<2.7,>=2.6.0->tensorflow-text==2.6) (1.8.1)\n",
      "Requirement already satisfied: rsa<5,>=3.1.4 in /usr/local/lib/python3.7/dist-packages (from google-auth<2,>=1.6.3->tensorboard<2.7,>=2.6.0->tensorflow<2.7,>=2.6.0->tensorflow-text==2.6) (4.9)\n",
      "Requirement already satisfied: cachetools<5.0,>=2.0.0 in /usr/local/lib/python3.7/dist-packages (from google-auth<2,>=1.6.3->tensorboard<2.7,>=2.6.0->tensorflow<2.7,>=2.6.0->tensorflow-text==2.6) (4.2.4)\n",
      "Requirement already satisfied: pyasn1-modules>=0.2.1 in /usr/local/lib/python3.7/dist-packages (from google-auth<2,>=1.6.3->tensorboard<2.7,>=2.6.0->tensorflow<2.7,>=2.6.0->tensorflow-text==2.6) (0.2.8)\n",
      "Requirement already satisfied: requests-oauthlib>=0.7.0 in /usr/local/lib/python3.7/dist-packages (from google-auth-oauthlib<0.5,>=0.4.1->tensorboard<2.7,>=2.6.0->tensorflow<2.7,>=2.6.0->tensorflow-text==2.6) (1.3.1)\n",
      "Requirement already satisfied: importlib-metadata>=4.4 in /usr/local/lib/python3.7/dist-packages (from markdown>=2.6.8->tensorboard<2.7,>=2.6.0->tensorflow<2.7,>=2.6.0->tensorflow-text==2.6) (4.12.0)\n",
      "Requirement already satisfied: zipp>=0.5 in /usr/local/lib/python3.7/dist-packages (from importlib-metadata>=4.4->markdown>=2.6.8->tensorboard<2.7,>=2.6.0->tensorflow<2.7,>=2.6.0->tensorflow-text==2.6) (3.8.1)\n",
      "Requirement already satisfied: pyasn1<0.5.0,>=0.4.6 in /usr/local/lib/python3.7/dist-packages (from pyasn1-modules>=0.2.1->google-auth<2,>=1.6.3->tensorboard<2.7,>=2.6.0->tensorflow<2.7,>=2.6.0->tensorflow-text==2.6) (0.4.8)\n",
      "Requirement already satisfied: chardet<4,>=3.0.2 in /usr/local/lib/python3.7/dist-packages (from requests<3,>=2.21.0->tensorboard<2.7,>=2.6.0->tensorflow<2.7,>=2.6.0->tensorflow-text==2.6) (3.0.4)\n",
      "Requirement already satisfied: idna<3,>=2.5 in /usr/local/lib/python3.7/dist-packages (from requests<3,>=2.21.0->tensorboard<2.7,>=2.6.0->tensorflow<2.7,>=2.6.0->tensorflow-text==2.6) (2.10)\n",
      "Requirement already satisfied: urllib3!=1.25.0,!=1.25.1,<1.26,>=1.21.1 in /usr/local/lib/python3.7/dist-packages (from requests<3,>=2.21.0->tensorboard<2.7,>=2.6.0->tensorflow<2.7,>=2.6.0->tensorflow-text==2.6) (1.24.3)\n",
      "Requirement already satisfied: certifi>=2017.4.17 in /usr/local/lib/python3.7/dist-packages (from requests<3,>=2.21.0->tensorboard<2.7,>=2.6.0->tensorflow<2.7,>=2.6.0->tensorflow-text==2.6) (2022.6.15)\n",
      "Requirement already satisfied: oauthlib>=3.0.0 in /usr/local/lib/python3.7/dist-packages (from requests-oauthlib>=0.7.0->google-auth-oauthlib<0.5,>=0.4.1->tensorboard<2.7,>=2.6.0->tensorflow<2.7,>=2.6.0->tensorflow-text==2.6) (3.2.0)\n"
     ]
    }
   ],
   "source": [
    "pip install tensorflow-text==2.6"
   ]
  },
  {
   "cell_type": "code",
   "execution_count": 2,
   "metadata": {
    "colab": {
     "base_uri": "https://localhost:8080/"
    },
    "id": "a13UDdl9w_U8",
    "outputId": "2e484a69-5dfa-4e61-ad60-289f9070caed"
   },
   "outputs": [
    {
     "name": "stdout",
     "output_type": "stream",
     "text": [
      "Looking in indexes: https://pypi.org/simple, https://us-python.pkg.dev/colab-wheels/public/simple/\n",
      "Collecting transformers\n",
      "  Downloading transformers-4.21.0-py3-none-any.whl (4.7 MB)\n",
      "\u001b[K     |████████████████████████████████| 4.7 MB 5.1 MB/s \n",
      "\u001b[?25hRequirement already satisfied: filelock in /usr/local/lib/python3.7/dist-packages (from transformers) (3.7.1)\n",
      "Requirement already satisfied: packaging>=20.0 in /usr/local/lib/python3.7/dist-packages (from transformers) (21.3)\n",
      "Requirement already satisfied: numpy>=1.17 in /usr/local/lib/python3.7/dist-packages (from transformers) (1.19.5)\n",
      "Collecting huggingface-hub<1.0,>=0.1.0\n",
      "  Downloading huggingface_hub-0.8.1-py3-none-any.whl (101 kB)\n",
      "\u001b[K     |████████████████████████████████| 101 kB 15.2 MB/s \n",
      "\u001b[?25hRequirement already satisfied: requests in /usr/local/lib/python3.7/dist-packages (from transformers) (2.23.0)\n",
      "Collecting pyyaml>=5.1\n",
      "  Downloading PyYAML-6.0-cp37-cp37m-manylinux_2_5_x86_64.manylinux1_x86_64.manylinux_2_12_x86_64.manylinux2010_x86_64.whl (596 kB)\n",
      "\u001b[K     |████████████████████████████████| 596 kB 72.5 MB/s \n",
      "\u001b[?25hRequirement already satisfied: tqdm>=4.27 in /usr/local/lib/python3.7/dist-packages (from transformers) (4.64.0)\n",
      "Requirement already satisfied: regex!=2019.12.17 in /usr/local/lib/python3.7/dist-packages (from transformers) (2022.6.2)\n",
      "Collecting tokenizers!=0.11.3,<0.13,>=0.11.1\n",
      "  Downloading tokenizers-0.12.1-cp37-cp37m-manylinux_2_12_x86_64.manylinux2010_x86_64.whl (6.6 MB)\n",
      "\u001b[K     |████████████████████████████████| 6.6 MB 68.5 MB/s \n",
      "\u001b[?25hRequirement already satisfied: importlib-metadata in /usr/local/lib/python3.7/dist-packages (from transformers) (4.12.0)\n",
      "Requirement already satisfied: typing-extensions>=3.7.4.3 in /usr/local/lib/python3.7/dist-packages (from huggingface-hub<1.0,>=0.1.0->transformers) (3.10.0.2)\n",
      "Requirement already satisfied: pyparsing!=3.0.5,>=2.0.2 in /usr/local/lib/python3.7/dist-packages (from packaging>=20.0->transformers) (3.0.9)\n",
      "Requirement already satisfied: zipp>=0.5 in /usr/local/lib/python3.7/dist-packages (from importlib-metadata->transformers) (3.8.1)\n",
      "Requirement already satisfied: chardet<4,>=3.0.2 in /usr/local/lib/python3.7/dist-packages (from requests->transformers) (3.0.4)\n",
      "Requirement already satisfied: idna<3,>=2.5 in /usr/local/lib/python3.7/dist-packages (from requests->transformers) (2.10)\n",
      "Requirement already satisfied: certifi>=2017.4.17 in /usr/local/lib/python3.7/dist-packages (from requests->transformers) (2022.6.15)\n",
      "Requirement already satisfied: urllib3!=1.25.0,!=1.25.1,<1.26,>=1.21.1 in /usr/local/lib/python3.7/dist-packages (from requests->transformers) (1.24.3)\n",
      "Installing collected packages: pyyaml, tokenizers, huggingface-hub, transformers\n",
      "  Attempting uninstall: pyyaml\n",
      "    Found existing installation: PyYAML 3.13\n",
      "    Uninstalling PyYAML-3.13:\n",
      "      Successfully uninstalled PyYAML-3.13\n",
      "Successfully installed huggingface-hub-0.8.1 pyyaml-6.0 tokenizers-0.12.1 transformers-4.21.0\n"
     ]
    }
   ],
   "source": [
    "pip install transformers"
   ]
  },
  {
   "cell_type": "code",
   "execution_count": 33,
   "metadata": {
    "_cell_guid": "b1076dfc-b9ad-4769-8c92-a6c4dae69d19",
    "_uuid": "8f2839f25d086af736a60e9eeb907d3b93b6e0e5",
    "execution": {
     "iopub.execute_input": "2022-07-28T11:18:51.024974Z",
     "iopub.status.busy": "2022-07-28T11:18:51.024537Z",
     "iopub.status.idle": "2022-07-28T11:18:56.928209Z",
     "shell.execute_reply": "2022-07-28T11:18:56.927086Z",
     "shell.execute_reply.started": "2022-07-28T11:18:51.024935Z"
    },
    "id": "oauMy6VpwtVO"
   },
   "outputs": [],
   "source": [
    "import pandas as pd\n",
    "import numpy as np\n",
    "import matplotlib.pyplot as plt\n",
    "import seaborn as sns\n",
    "import re\n",
    "# import string\n",
    "import nltk\n",
    "# from nltk.corpus import stopwords\n",
    "from sklearn.model_selection import train_test_split\n",
    "\n",
    "import warnings\n",
    "warnings.filterwarnings('ignore')\n",
    "from tensorflow.keras.layers import Input,Dense, Flatten\n",
    "from tensorflow.keras import Model\n",
    "from tensorflow.keras import regularizers\n",
    "from tensorflow.keras.optimizers import Adam\n",
    "import tensorflow as tf\n",
    "from tensorflow.keras.preprocessing.text import Tokenizer\n",
    "from tensorflow.keras.preprocessing.sequence import pad_sequences\n",
    "from sklearn.model_selection import train_test_split\n",
    "import os\n",
    "import keras\n",
    "# from tensorflow.keras.callbacks import EarlyStopping\n",
    "# from tensorflow.keras.callbacks import ModelCheckpoint\n",
    "import datetime\n",
    "from keras.layers import Dropout,SpatialDropout1D\n",
    "from keras.regularizers import l2\n",
    "from keras.layers import concatenate, BatchNormalization\n",
    "from keras.models import Model\n",
    "from tensorflow.keras.optimizers import Adam\n",
    "from datetime import time\n",
    "# from keras.callbacks import TensorBoard, ModelCheckpoint\n",
    "from nltk.stem import WordNetLemmatizer\n",
    "from keras.preprocessing import sequence\n",
    "from keras.layers import LeakyReLU\n",
    "\n",
    "import tensorflow_hub as hub\n",
    "import tensorflow_text as text\n",
    "from transformers import DistilBertTokenizer,TFDistilBertModel, RobertaTokenizer, TFRobertaModel\n",
    "\n",
    "from sklearn.metrics import confusion_matrix, precision_score, recall_score, f1_score\n",
    "from prettytable import PrettyTable"
   ]
  },
  {
   "cell_type": "code",
   "execution_count": 34,
   "metadata": {
    "colab": {
     "base_uri": "https://localhost:8080/"
    },
    "execution": {
     "iopub.execute_input": "2022-07-28T11:18:56.931076Z",
     "iopub.status.busy": "2022-07-28T11:18:56.930371Z",
     "iopub.status.idle": "2022-07-28T11:18:57.743637Z",
     "shell.execute_reply": "2022-07-28T11:18:57.741720Z",
     "shell.execute_reply.started": "2022-07-28T11:18:56.931035Z"
    },
    "id": "QxU3YvhrwtVQ",
    "outputId": "1db93dad-7832-4c9d-e017-aa0d18f93d29"
   },
   "outputs": [
    {
     "name": "stderr",
     "output_type": "stream",
     "text": [
      "[nltk_data] Downloading package omw-1.4 to /root/nltk_data...\n",
      "[nltk_data]   Package omw-1.4 is already up-to-date!\n"
     ]
    },
    {
     "data": {
      "text/plain": [
       "True"
      ]
     },
     "execution_count": 34,
     "metadata": {},
     "output_type": "execute_result"
    }
   ],
   "source": [
    "nltk.download('omw-1.4')"
   ]
  },
  {
   "cell_type": "markdown",
   "metadata": {
    "id": "8syKXydCwtVS"
   },
   "source": [
    "###  Importing the data"
   ]
  },
  {
   "cell_type": "code",
   "execution_count": 35,
   "metadata": {
    "execution": {
     "iopub.execute_input": "2022-07-28T11:19:02.393773Z",
     "iopub.status.busy": "2022-07-28T11:19:02.393386Z",
     "iopub.status.idle": "2022-07-28T11:19:02.453498Z",
     "shell.execute_reply": "2022-07-28T11:19:02.452490Z",
     "shell.execute_reply.started": "2022-07-28T11:19:02.393742Z"
    },
    "id": "DqCPU1fGwtVU"
   },
   "outputs": [],
   "source": [
    "# train_df=pd.read_csv('../input/nlp-getting-started/train.csv')\n",
    "# test_df=pd.read_csv('../input/nlp-getting-started/test.csv')"
   ]
  },
  {
   "cell_type": "code",
   "execution_count": 36,
   "metadata": {
    "execution": {
     "iopub.execute_input": "2022-07-28T11:19:02.904274Z",
     "iopub.status.busy": "2022-07-28T11:19:02.903894Z",
     "iopub.status.idle": "2022-07-28T11:19:02.908997Z",
     "shell.execute_reply": "2022-07-28T11:19:02.908025Z",
     "shell.execute_reply.started": "2022-07-28T11:19:02.904243Z"
    },
    "id": "i44LEXz1wtVV"
   },
   "outputs": [],
   "source": [
    "# importing the data\n",
    "\n",
    "train_df=pd.read_csv('train.csv')\n",
    "test_df=pd.read_csv('test.csv')"
   ]
  },
  {
   "cell_type": "code",
   "execution_count": 37,
   "metadata": {
    "execution": {
     "iopub.execute_input": "2022-07-28T11:19:03.452825Z",
     "iopub.status.busy": "2022-07-28T11:19:03.451771Z",
     "iopub.status.idle": "2022-07-28T11:19:03.465935Z",
     "shell.execute_reply": "2022-07-28T11:19:03.464867Z",
     "shell.execute_reply.started": "2022-07-28T11:19:03.452759Z"
    },
    "id": "uVH-zcHawtVW"
   },
   "outputs": [],
   "source": [
    "train_df=train_df[['text', 'target']]\n",
    "test_df=test_df[['text']]"
   ]
  },
  {
   "cell_type": "code",
   "execution_count": 38,
   "metadata": {
    "colab": {
     "base_uri": "https://localhost:8080/",
     "height": 206
    },
    "execution": {
     "iopub.execute_input": "2022-07-28T11:19:03.883514Z",
     "iopub.status.busy": "2022-07-28T11:19:03.882780Z",
     "iopub.status.idle": "2022-07-28T11:19:03.900338Z",
     "shell.execute_reply": "2022-07-28T11:19:03.899340Z",
     "shell.execute_reply.started": "2022-07-28T11:19:03.883475Z"
    },
    "id": "VXIooJe1wtVY",
    "outputId": "28a342af-680b-4260-c9a0-6e12bee4d0c1"
   },
   "outputs": [
    {
     "data": {
      "text/html": [
       "\n",
       "  <div id=\"df-508089de-a051-46cb-9a3c-46c744e6da6d\">\n",
       "    <div class=\"colab-df-container\">\n",
       "      <div>\n",
       "<style scoped>\n",
       "    .dataframe tbody tr th:only-of-type {\n",
       "        vertical-align: middle;\n",
       "    }\n",
       "\n",
       "    .dataframe tbody tr th {\n",
       "        vertical-align: top;\n",
       "    }\n",
       "\n",
       "    .dataframe thead th {\n",
       "        text-align: right;\n",
       "    }\n",
       "</style>\n",
       "<table border=\"1\" class=\"dataframe\">\n",
       "  <thead>\n",
       "    <tr style=\"text-align: right;\">\n",
       "      <th></th>\n",
       "      <th>text</th>\n",
       "      <th>target</th>\n",
       "    </tr>\n",
       "  </thead>\n",
       "  <tbody>\n",
       "    <tr>\n",
       "      <th>1113</th>\n",
       "      <td>@ChristophersZen @HunterLove1995 @tblack yeah ...</td>\n",
       "      <td>0</td>\n",
       "    </tr>\n",
       "    <tr>\n",
       "      <th>521</th>\n",
       "      <td>2 TIX 10/3 Frozen Fury XVII: Los Angeles Kings...</td>\n",
       "      <td>0</td>\n",
       "    </tr>\n",
       "    <tr>\n",
       "      <th>4364</th>\n",
       "      <td>Remove the http://t.co/JAb541hHk0 and Linkury ...</td>\n",
       "      <td>1</td>\n",
       "    </tr>\n",
       "    <tr>\n",
       "      <th>6516</th>\n",
       "      <td>In a dream you saw a way to survive and you we...</td>\n",
       "      <td>0</td>\n",
       "    </tr>\n",
       "    <tr>\n",
       "      <th>6025</th>\n",
       "      <td>'Seismic' Apple TV service to stream 25 channe...</td>\n",
       "      <td>0</td>\n",
       "    </tr>\n",
       "  </tbody>\n",
       "</table>\n",
       "</div>\n",
       "      <button class=\"colab-df-convert\" onclick=\"convertToInteractive('df-508089de-a051-46cb-9a3c-46c744e6da6d')\"\n",
       "              title=\"Convert this dataframe to an interactive table.\"\n",
       "              style=\"display:none;\">\n",
       "        \n",
       "  <svg xmlns=\"http://www.w3.org/2000/svg\" height=\"24px\"viewBox=\"0 0 24 24\"\n",
       "       width=\"24px\">\n",
       "    <path d=\"M0 0h24v24H0V0z\" fill=\"none\"/>\n",
       "    <path d=\"M18.56 5.44l.94 2.06.94-2.06 2.06-.94-2.06-.94-.94-2.06-.94 2.06-2.06.94zm-11 1L8.5 8.5l.94-2.06 2.06-.94-2.06-.94L8.5 2.5l-.94 2.06-2.06.94zm10 10l.94 2.06.94-2.06 2.06-.94-2.06-.94-.94-2.06-.94 2.06-2.06.94z\"/><path d=\"M17.41 7.96l-1.37-1.37c-.4-.4-.92-.59-1.43-.59-.52 0-1.04.2-1.43.59L10.3 9.45l-7.72 7.72c-.78.78-.78 2.05 0 2.83L4 21.41c.39.39.9.59 1.41.59.51 0 1.02-.2 1.41-.59l7.78-7.78 2.81-2.81c.8-.78.8-2.07 0-2.86zM5.41 20L4 18.59l7.72-7.72 1.47 1.35L5.41 20z\"/>\n",
       "  </svg>\n",
       "      </button>\n",
       "      \n",
       "  <style>\n",
       "    .colab-df-container {\n",
       "      display:flex;\n",
       "      flex-wrap:wrap;\n",
       "      gap: 12px;\n",
       "    }\n",
       "\n",
       "    .colab-df-convert {\n",
       "      background-color: #E8F0FE;\n",
       "      border: none;\n",
       "      border-radius: 50%;\n",
       "      cursor: pointer;\n",
       "      display: none;\n",
       "      fill: #1967D2;\n",
       "      height: 32px;\n",
       "      padding: 0 0 0 0;\n",
       "      width: 32px;\n",
       "    }\n",
       "\n",
       "    .colab-df-convert:hover {\n",
       "      background-color: #E2EBFA;\n",
       "      box-shadow: 0px 1px 2px rgba(60, 64, 67, 0.3), 0px 1px 3px 1px rgba(60, 64, 67, 0.15);\n",
       "      fill: #174EA6;\n",
       "    }\n",
       "\n",
       "    [theme=dark] .colab-df-convert {\n",
       "      background-color: #3B4455;\n",
       "      fill: #D2E3FC;\n",
       "    }\n",
       "\n",
       "    [theme=dark] .colab-df-convert:hover {\n",
       "      background-color: #434B5C;\n",
       "      box-shadow: 0px 1px 3px 1px rgba(0, 0, 0, 0.15);\n",
       "      filter: drop-shadow(0px 1px 2px rgba(0, 0, 0, 0.3));\n",
       "      fill: #FFFFFF;\n",
       "    }\n",
       "  </style>\n",
       "\n",
       "      <script>\n",
       "        const buttonEl =\n",
       "          document.querySelector('#df-508089de-a051-46cb-9a3c-46c744e6da6d button.colab-df-convert');\n",
       "        buttonEl.style.display =\n",
       "          google.colab.kernel.accessAllowed ? 'block' : 'none';\n",
       "\n",
       "        async function convertToInteractive(key) {\n",
       "          const element = document.querySelector('#df-508089de-a051-46cb-9a3c-46c744e6da6d');\n",
       "          const dataTable =\n",
       "            await google.colab.kernel.invokeFunction('convertToInteractive',\n",
       "                                                     [key], {});\n",
       "          if (!dataTable) return;\n",
       "\n",
       "          const docLinkHtml = 'Like what you see? Visit the ' +\n",
       "            '<a target=\"_blank\" href=https://colab.research.google.com/notebooks/data_table.ipynb>data table notebook</a>'\n",
       "            + ' to learn more about interactive tables.';\n",
       "          element.innerHTML = '';\n",
       "          dataTable['output_type'] = 'display_data';\n",
       "          await google.colab.output.renderOutput(dataTable, element);\n",
       "          const docLink = document.createElement('div');\n",
       "          docLink.innerHTML = docLinkHtml;\n",
       "          element.appendChild(docLink);\n",
       "        }\n",
       "      </script>\n",
       "    </div>\n",
       "  </div>\n",
       "  "
      ],
      "text/plain": [
       "                                                   text  target\n",
       "1113  @ChristophersZen @HunterLove1995 @tblack yeah ...       0\n",
       "521   2 TIX 10/3 Frozen Fury XVII: Los Angeles Kings...       0\n",
       "4364  Remove the http://t.co/JAb541hHk0 and Linkury ...       1\n",
       "6516  In a dream you saw a way to survive and you we...       0\n",
       "6025  'Seismic' Apple TV service to stream 25 channe...       0"
      ]
     },
     "execution_count": 38,
     "metadata": {},
     "output_type": "execute_result"
    }
   ],
   "source": [
    "train_df=train_df.sample(frac=1) # shuffling the dataframe\n",
    "train_df.head()"
   ]
  },
  {
   "cell_type": "markdown",
   "metadata": {
    "id": "dfZDKBSMwtVZ"
   },
   "source": [
    "# 1) Basic Preprocessing"
   ]
  },
  {
   "cell_type": "code",
   "execution_count": 39,
   "metadata": {
    "execution": {
     "iopub.execute_input": "2022-07-28T11:19:04.749938Z",
     "iopub.status.busy": "2022-07-28T11:19:04.748781Z",
     "iopub.status.idle": "2022-07-28T11:19:04.761576Z",
     "shell.execute_reply": "2022-07-28T11:19:04.760547Z",
     "shell.execute_reply.started": "2022-07-28T11:19:04.749891Z"
    },
    "id": "NlcAcra0wtVa"
   },
   "outputs": [],
   "source": [
    "# 1 Converting to lower-case\n",
    "def lowercase(text):\n",
    "    return text.lower()\n",
    "\n",
    "# 2 Decontracting the text\n",
    "def decontracted(phrase):\n",
    "    # specific\n",
    "    phrase = re.sub(r\"won\\'t\", \"will not\", phrase)\n",
    "    phrase = re.sub(r\"can\\'t\", \"can not\", phrase)\n",
    "    # general\n",
    "    phrase = re.sub(r\"n\\'t\", \" not\", phrase)\n",
    "    phrase = re.sub(r\"\\'re\", \" are\", phrase)\n",
    "    phrase = re.sub(r\"\\'s\", \" is\", phrase)\n",
    "    phrase = re.sub(r\"\\'d\", \" would\", phrase)\n",
    "    phrase = re.sub(r\"\\'ll\", \" will\", phrase)\n",
    "    phrase = re.sub(r\"\\'t\", \" not\", phrase)\n",
    "    phrase = re.sub(r\"\\'ve\", \" have\", phrase)\n",
    "    phrase = re.sub(r\"\\'m\", \" am\", phrase)\n",
    "    phrase = re.sub(r\"\\'cause\", \" because\", phrase)\n",
    "    phrase = re.sub(r\"let\\'s\", \"let us\", phrase)\n",
    "    return phrase\n",
    "\n",
    "# 3 Removing URLs\n",
    "def remove_url(text):\n",
    "    text= re.sub(r'https?://\\S+|www\\.\\S+', '', text)\n",
    "    return text\n",
    "\n",
    "# 4 Removing HTMLs\n",
    "def remove_html(text):\n",
    "    text=re.sub(r'<.*?>','',text)\n",
    "    return text\n"
   ]
  },
  {
   "cell_type": "code",
   "execution_count": 40,
   "metadata": {
    "execution": {
     "iopub.execute_input": "2022-07-28T11:19:05.573450Z",
     "iopub.status.busy": "2022-07-28T11:19:05.572758Z",
     "iopub.status.idle": "2022-07-28T11:19:05.584941Z",
     "shell.execute_reply": "2022-07-28T11:19:05.583864Z",
     "shell.execute_reply.started": "2022-07-28T11:19:05.573412Z"
    },
    "id": "udQyEN-LwtVb"
   },
   "outputs": [],
   "source": [
    "# 5 Removing Slangs or chat words\n",
    "# Converting slangs and chat words like BRB to Be Right Back, FYI to For Your Information\n",
    "slangs=\"\"\"AFAIK=As Far As I Know\n",
    "AFK=Away From Keyboard\n",
    "ASAP=As Soon As Possible\n",
    "ATK=At The Keyboard\n",
    "ATM=At The Moment\n",
    "A3=Anytime, Anywhere, Anyplace\n",
    "BAK=Back At Keyboard\n",
    "BBL=Be Back Later\n",
    "BBS=Be Back Soon\n",
    "BFN=Bye For Now\n",
    "B4N=Bye For Now\n",
    "BRB=Be Right Back\n",
    "BRT=Be Right There\n",
    "BTW=By The Way\n",
    "B4=Before\n",
    "B4N=Bye For Now\n",
    "CU=See You\n",
    "CUL8R=See You Later\n",
    "CYA=See You\n",
    "FAQ=Frequently Asked Questions\n",
    "FC=Fingers Crossed\n",
    "FWIW=For What It's Worth\n",
    "FYI=For Your Information\n",
    "GAL=Get A Life\n",
    "GG=Good Game\n",
    "GN=Good Night\n",
    "GMTA=Great Minds Think Alike\n",
    "GR8=Great!\n",
    "G9=Genius\n",
    "IC=I See\n",
    "ICQ=I Seek you (also a chat program)\n",
    "ILU=ILU: I Love You\n",
    "IMHO=In My Honest/Humble Opinion\n",
    "IMO=In My Opinion\n",
    "IOW=In Other Words\n",
    "IRL=In Real Life\n",
    "KISS=Keep It Simple, Stupid\n",
    "LDR=Long Distance Relationship\n",
    "LMAO=Laugh My A.. Off\n",
    "LOL=Laughing Out Loud\n",
    "LTNS=Long Time No See\n",
    "L8R=Later\n",
    "MTE=My Thoughts Exactly\n",
    "M8=Mate\n",
    "NRN=No Reply Necessary\n",
    "OIC=Oh I See\n",
    "PITA=Pain In The A..\n",
    "PRT=Party\n",
    "PRW=Parents Are Watching\n",
    "QPSA=Que Pasa?\n",
    "ROFL=Rolling On The Floor Laughing\n",
    "ROFLOL=Rolling On The Floor Laughing Out Loud\n",
    "ROTFLMAO=Rolling On The Floor Laughing My A.. Off\n",
    "SK8=Skate\n",
    "STATS=Your sex and age\n",
    "ASL=Age, Sex, Location\n",
    "THX=Thank You\n",
    "TTFN=Ta-Ta For Now!\n",
    "TTYL=Talk To You Later\n",
    "U=You\n",
    "U2=You Too\n",
    "U4E=Yours For Ever\n",
    "WB=Welcome Back\n",
    "WTF=What The F...\n",
    "WTG=Way To Go!\n",
    "WUF=Where Are You From?\n",
    "W8=Wait...\n",
    "7K=Sick:-D Laugher\n",
    "IG=Instagram\n",
    "FB=Facebook\n",
    "PPL=People\n",
    "R=Are\n",
    "PC=Computer\"\"\"\n",
    "\n",
    "# Making the dictionary of the above strings\n",
    "pattern=re.compile('\\\\n')\n",
    "slangs=pattern.sub(r'  ',slangs)\n",
    "slangs_dict={}\n",
    "for i in slangs.split('  '):\n",
    "    lst=i.split('=')\n",
    "    slangs_dict[lst[0]]=lst[1]\n",
    "\n",
    "def remove_slangs(text):\n",
    "    new_text=[]\n",
    "    for word in text.split():\n",
    "        if word.upper() in slangs_dict:\n",
    "            new_text.append(slangs_dict[word.upper()].lower())\n",
    "        else:\n",
    "            new_text.append(word)\n",
    "    return ' '.join(new_text)\n"
   ]
  },
  {
   "cell_type": "code",
   "execution_count": 41,
   "metadata": {
    "execution": {
     "iopub.execute_input": "2022-07-28T11:19:06.173513Z",
     "iopub.status.busy": "2022-07-28T11:19:06.172819Z",
     "iopub.status.idle": "2022-07-28T11:19:06.179490Z",
     "shell.execute_reply": "2022-07-28T11:19:06.178376Z",
     "shell.execute_reply.started": "2022-07-28T11:19:06.173477Z"
    },
    "id": "UsiVBQ6qwtVc"
   },
   "outputs": [],
   "source": [
    "def basic_preprocessing(text):\n",
    "    \n",
    "    text=lowercase(text)           # 1\n",
    "    text=decontracted(text)        # 2    \n",
    "    text=remove_url(text)          # 3\n",
    "    text=remove_html(text)         # 4\n",
    "    text=remove_slangs(text)       # 5\n",
    "    \n",
    "    return text"
   ]
  },
  {
   "cell_type": "code",
   "execution_count": 42,
   "metadata": {
    "execution": {
     "iopub.execute_input": "2022-07-28T11:19:06.744770Z",
     "iopub.status.busy": "2022-07-28T11:19:06.744085Z",
     "iopub.status.idle": "2022-07-28T11:19:07.086815Z",
     "shell.execute_reply": "2022-07-28T11:19:07.085779Z",
     "shell.execute_reply.started": "2022-07-28T11:19:06.744732Z"
    },
    "id": "NkrAQnhvwtVd"
   },
   "outputs": [],
   "source": [
    "# preprocessing train data\n",
    "train_df_preprocessed=train_df.copy()\n",
    "train_df_preprocessed['text']=train_df['text'].apply(basic_preprocessing)\n",
    "\n",
    "# preprocessing test data\n",
    "X_test_preprocessed=test_df.copy()\n",
    "X_test_preprocessed['text']=X_test_preprocessed['text'].apply(basic_preprocessing)"
   ]
  },
  {
   "cell_type": "code",
   "execution_count": 43,
   "metadata": {
    "colab": {
     "base_uri": "https://localhost:8080/"
    },
    "execution": {
     "iopub.execute_input": "2022-07-28T11:19:07.429939Z",
     "iopub.status.busy": "2022-07-28T11:19:07.429130Z",
     "iopub.status.idle": "2022-07-28T11:19:07.438297Z",
     "shell.execute_reply": "2022-07-28T11:19:07.437216Z",
     "shell.execute_reply.started": "2022-07-28T11:19:07.429899Z"
    },
    "id": "qe7eK_VAwtVd",
    "outputId": "ec129ab1-5080-4e39-dc79-3f70cb7d0767"
   },
   "outputs": [
    {
     "data": {
      "text/plain": [
       "1113    @christopherszen @hunterlove1995 @tblack yeah ...\n",
       "521     2 tix 10/3 frozen fury xvii: los angeles kings...\n",
       "4364              remove the and linkury browser hijacker\n",
       "6516    in a dream you saw a way to survive and you we...\n",
       "6025    iseismic' apple tv service to stream 25 channe...\n",
       "Name: text, dtype: object"
      ]
     },
     "execution_count": 43,
     "metadata": {},
     "output_type": "execute_result"
    }
   ],
   "source": [
    "train_df_preprocessed['text'].head()"
   ]
  },
  {
   "cell_type": "markdown",
   "metadata": {
    "id": "4yWIUI92wtVe"
   },
   "source": [
    "###  Splitting the data"
   ]
  },
  {
   "cell_type": "code",
   "execution_count": 44,
   "metadata": {
    "colab": {
     "base_uri": "https://localhost:8080/"
    },
    "execution": {
     "iopub.execute_input": "2022-07-28T11:19:09.238871Z",
     "iopub.status.busy": "2022-07-28T11:19:09.238451Z",
     "iopub.status.idle": "2022-07-28T11:19:09.255322Z",
     "shell.execute_reply": "2022-07-28T11:19:09.253974Z",
     "shell.execute_reply.started": "2022-07-28T11:19:09.238811Z"
    },
    "id": "BopWRQ1lwtVe",
    "outputId": "fe9d2282-2281-4209-b899-5690bf85ed17"
   },
   "outputs": [
    {
     "name": "stdout",
     "output_type": "stream",
     "text": [
      "(6090,) (6090,)\n",
      "(1523,) (1523,)\n",
      "(3263,)\n"
     ]
    }
   ],
   "source": [
    "X=train_df_preprocessed['text']\n",
    "y=train_df_preprocessed['target']\n",
    "\n",
    "# Splitting the train data into train and cv\n",
    "\n",
    "X_train, X_val, y_train, y_val = train_test_split(X, y, test_size=0.2, stratify=y, random_state=1)\n",
    "X_test=X_test_preprocessed['text']\n",
    "print(X_train.shape, y_train.shape)\n",
    "print(X_val.shape, y_val.shape)\n",
    "print(X_test.shape)"
   ]
  },
  {
   "cell_type": "code",
   "execution_count": 45,
   "metadata": {
    "execution": {
     "iopub.execute_input": "2022-07-28T11:19:09.855255Z",
     "iopub.status.busy": "2022-07-28T11:19:09.854613Z",
     "iopub.status.idle": "2022-07-28T11:19:09.872657Z",
     "shell.execute_reply": "2022-07-28T11:19:09.871596Z",
     "shell.execute_reply.started": "2022-07-28T11:19:09.855191Z"
    },
    "id": "SElUZB_FwtVe"
   },
   "outputs": [],
   "source": [
    "def performance_evaluation(model,X_test,y_test):\n",
    "    \n",
    "    \"\"\"This function prints the confusion matrix and all the other evalutaion metrics like Precision, Recall and F1 Score\"\"\"\n",
    "    \n",
    "    # Predicted probabilities\n",
    "    y_pred_proba=model.predict(X_test)\n",
    "    \n",
    "    # Converting to Binary Values (Threshold=0.5)\n",
    "    y_pred=np.where(y_pred_proba>0.5, 1, 0)\n",
    "\n",
    "    \n",
    "    # Plotting Confusion Matrix\n",
    "    c_test=confusion_matrix(y_test,y_pred)\n",
    "\n",
    "    plt.figure(figsize=(6,6))\n",
    "    sns.heatmap(c_test/np.sum(c_test),annot=True,fmt='.2%',cmap='Blues')\n",
    "    plt.xlabel('Predicted')\n",
    "    plt.ylabel('Actual')\n",
    "    plt.title(\"Confusion Matrix\")\n",
    "    plt.show()\n",
    "    \n",
    "\n",
    "    tn,fp,fn,tp=c_test.ravel()\n",
    "    # print(classification_report(y_test,y_test_pred_value))\n",
    "    print()\n",
    "    \n",
    "    table=PrettyTable(['Metrics','Values'])\n",
    "    table.add_row(['Specificity(%)',np.round((tn/(tn+fp))*100,2)])\n",
    "    table.add_row(['Sensitivity/Recall(%)',np.round((tp/(tp+fn))*100,2)])\n",
    "    table.add_row(['Precision(%)',np.round((tp/(tp+fp))*100,2)])\n",
    "    table.add_row(['Micro F1 Score',np.round(f1_score(y_test,y_pred,average='micro'),2)])\n",
    "    model_metrics=[np.round((tn/(tn+fp))*100,2),np.round((tp/(tp+fn))*100,2),np.round((tp/(tp+fp))*100,2),np.round(f1_score(y_test,y_pred,average='micro'),2)]\n",
    "    print(table)\n",
    "\n",
    "    return model_metrics\n",
    "   "
   ]
  },
  {
   "cell_type": "markdown",
   "metadata": {
    "id": "OdKXU7h1wtVf"
   },
   "source": [
    "# 2) Modelling"
   ]
  },
  {
   "cell_type": "markdown",
   "metadata": {
    "id": "SaBiQ8sxwtVf"
   },
   "source": [
    "## 1) BERT-Base( 12 layers, 768 hidden size, 12 self-attention heads, 110M parameters)"
   ]
  },
  {
   "cell_type": "code",
   "execution_count": 17,
   "metadata": {
    "execution": {
     "iopub.execute_input": "2022-07-28T11:19:11.907556Z",
     "iopub.status.busy": "2022-07-28T11:19:11.906937Z",
     "iopub.status.idle": "2022-07-28T11:19:35.634614Z",
     "shell.execute_reply": "2022-07-28T11:19:35.633517Z",
     "shell.execute_reply.started": "2022-07-28T11:19:11.907521Z"
    },
    "id": "Uf8oSZRiwtVf"
   },
   "outputs": [],
   "source": [
    "## ref - https://tfhub.dev/google/collections/bert/1\n",
    "## ref - https://www.tensorflow.org/text/tutorials/classify_text_with_bert\n",
    "## ref - https://www.youtube.com/watch?v=hOCDJyZ6quA\n",
    "\n",
    "preprocess_url = 'https://tfhub.dev/tensorflow/bert_en_uncased_preprocess/3'\n",
    "encoder_url='https://tfhub.dev/tensorflow/bert_en_uncased_L-12_H-768_A-12/4'\n",
    "\n",
    "bert_preprocess=hub.KerasLayer(preprocess_url)\n",
    "bert_encoder=hub.KerasLayer(encoder_url)"
   ]
  },
  {
   "cell_type": "code",
   "execution_count": 18,
   "metadata": {
    "execution": {
     "iopub.execute_input": "2022-07-28T11:19:35.637317Z",
     "iopub.status.busy": "2022-07-28T11:19:35.636909Z",
     "iopub.status.idle": "2022-07-28T11:19:36.574884Z",
     "shell.execute_reply": "2022-07-28T11:19:36.573838Z",
     "shell.execute_reply.started": "2022-07-28T11:19:35.637276Z"
    },
    "id": "laRgzaCcwtVg"
   },
   "outputs": [],
   "source": [
    "## Model Architecture\n",
    "\n",
    "\n",
    "# BERT Layers\n",
    "input_text=Input(shape=(), dtype=tf.string, name='text')\n",
    "preprocessed_text=bert_preprocess(input_text)\n",
    "outputs= bert_encoder(preprocessed_text)\n",
    "\n",
    "# NN layers\n",
    "l1= Dropout(0.1, name='dropout')(outputs['pooled_output']) # Pooled output is the output of the last encoder which is 12th encoder\n",
    "l2=Dense(1, activation='sigmoid', name='output')(l1)\n",
    "\n",
    "# Functional Model\n",
    "model_bert_base=Model(inputs=[input_text], outputs=[l2])"
   ]
  },
  {
   "cell_type": "code",
   "execution_count": 19,
   "metadata": {
    "colab": {
     "base_uri": "https://localhost:8080/"
    },
    "execution": {
     "iopub.execute_input": "2022-07-28T11:19:36.576837Z",
     "iopub.status.busy": "2022-07-28T11:19:36.576436Z",
     "iopub.status.idle": "2022-07-28T11:19:36.881174Z",
     "shell.execute_reply": "2022-07-28T11:19:36.879723Z",
     "shell.execute_reply.started": "2022-07-28T11:19:36.576780Z"
    },
    "id": "cF8r4s3ewtVg",
    "outputId": "d112dc38-4a39-4cfd-8dab-637241c69ab2"
   },
   "outputs": [
    {
     "name": "stdout",
     "output_type": "stream",
     "text": [
      "Model: \"model\"\n",
      "__________________________________________________________________________________________________\n",
      "Layer (type)                    Output Shape         Param #     Connected to                     \n",
      "==================================================================================================\n",
      "text (InputLayer)               [(None,)]            0                                            \n",
      "__________________________________________________________________________________________________\n",
      "keras_layer (KerasLayer)        {'input_type_ids': ( 0           text[0][0]                       \n",
      "__________________________________________________________________________________________________\n",
      "keras_layer_1 (KerasLayer)      {'sequence_output':  109482241   keras_layer[0][0]                \n",
      "                                                                 keras_layer[0][1]                \n",
      "                                                                 keras_layer[0][2]                \n",
      "__________________________________________________________________________________________________\n",
      "dropout (Dropout)               (None, 768)          0           keras_layer_1[0][13]             \n",
      "__________________________________________________________________________________________________\n",
      "output (Dense)                  (None, 1)            769         dropout[0][0]                    \n",
      "==================================================================================================\n",
      "Total params: 109,483,010\n",
      "Trainable params: 769\n",
      "Non-trainable params: 109,482,241\n",
      "__________________________________________________________________________________________________\n"
     ]
    }
   ],
   "source": [
    "model_bert_base.summary()"
   ]
  },
  {
   "cell_type": "code",
   "execution_count": 20,
   "metadata": {
    "execution": {
     "iopub.execute_input": "2022-07-28T11:19:36.886187Z",
     "iopub.status.busy": "2022-07-28T11:19:36.885334Z",
     "iopub.status.idle": "2022-07-28T11:19:36.905813Z",
     "shell.execute_reply": "2022-07-28T11:19:36.904844Z",
     "shell.execute_reply.started": "2022-07-28T11:19:36.886145Z"
    },
    "id": "eWj4y84_wtVg"
   },
   "outputs": [],
   "source": [
    "Metrics=[tf.keras.metrics.BinaryAccuracy(name='accuracy')]\n",
    "#          tf.keras.metrics.Precision(name='precision'),\n",
    "#         tf.keras.metrics.Recall(name='recall')]\n",
    "\n",
    "model_bert_base.compile(optimizer='adam', loss='binary_crossentropy', metrics=Metrics)"
   ]
  },
  {
   "cell_type": "code",
   "execution_count": 21,
   "metadata": {
    "colab": {
     "base_uri": "https://localhost:8080/"
    },
    "execution": {
     "iopub.execute_input": "2022-07-28T11:19:36.907919Z",
     "iopub.status.busy": "2022-07-28T11:19:36.907270Z",
     "iopub.status.idle": "2022-07-28T11:55:07.073630Z",
     "shell.execute_reply": "2022-07-28T11:55:07.072583Z",
     "shell.execute_reply.started": "2022-07-28T11:19:36.907879Z"
    },
    "id": "4HLGqnMZwtVh",
    "outputId": "3dad3924-2c5b-40dd-e150-bdd804cf6872"
   },
   "outputs": [
    {
     "name": "stdout",
     "output_type": "stream",
     "text": [
      "Epoch 1/30\n",
      "48/48 [==============================] - 108s 2s/step - loss: 0.6729 - accuracy: 0.5880 - val_loss: 0.6210 - val_accuracy: 0.6566\n",
      "Epoch 2/30\n",
      "48/48 [==============================] - 96s 2s/step - loss: 0.6217 - accuracy: 0.6534 - val_loss: 0.5950 - val_accuracy: 0.7045\n",
      "Epoch 3/30\n",
      "48/48 [==============================] - 97s 2s/step - loss: 0.5996 - accuracy: 0.6811 - val_loss: 0.5801 - val_accuracy: 0.7190\n",
      "Epoch 4/30\n",
      "48/48 [==============================] - 97s 2s/step - loss: 0.5934 - accuracy: 0.6892 - val_loss: 0.5704 - val_accuracy: 0.7367\n",
      "Epoch 5/30\n",
      "48/48 [==============================] - 97s 2s/step - loss: 0.5777 - accuracy: 0.7057 - val_loss: 0.5710 - val_accuracy: 0.7098\n",
      "Epoch 6/30\n",
      "48/48 [==============================] - 97s 2s/step - loss: 0.5731 - accuracy: 0.7136 - val_loss: 0.5570 - val_accuracy: 0.7387\n",
      "Epoch 7/30\n",
      "48/48 [==============================] - 97s 2s/step - loss: 0.5675 - accuracy: 0.7164 - val_loss: 0.5555 - val_accuracy: 0.7341\n",
      "Epoch 8/30\n",
      "48/48 [==============================] - 97s 2s/step - loss: 0.5561 - accuracy: 0.7241 - val_loss: 0.5449 - val_accuracy: 0.7479\n",
      "Epoch 9/30\n",
      "48/48 [==============================] - 97s 2s/step - loss: 0.5515 - accuracy: 0.7245 - val_loss: 0.5422 - val_accuracy: 0.7446\n",
      "Epoch 10/30\n",
      "48/48 [==============================] - 97s 2s/step - loss: 0.5526 - accuracy: 0.7268 - val_loss: 0.5365 - val_accuracy: 0.7492\n",
      "Epoch 11/30\n",
      "48/48 [==============================] - 97s 2s/step - loss: 0.5447 - accuracy: 0.7337 - val_loss: 0.5314 - val_accuracy: 0.7571\n",
      "Epoch 12/30\n",
      "48/48 [==============================] - 97s 2s/step - loss: 0.5418 - accuracy: 0.7392 - val_loss: 0.5408 - val_accuracy: 0.7321\n",
      "Epoch 13/30\n",
      "48/48 [==============================] - 97s 2s/step - loss: 0.5403 - accuracy: 0.7346 - val_loss: 0.5258 - val_accuracy: 0.7617\n",
      "Epoch 14/30\n",
      "48/48 [==============================] - 97s 2s/step - loss: 0.5392 - accuracy: 0.7304 - val_loss: 0.5215 - val_accuracy: 0.7577\n",
      "Epoch 15/30\n",
      "48/48 [==============================] - 96s 2s/step - loss: 0.5358 - accuracy: 0.7432 - val_loss: 0.5195 - val_accuracy: 0.7571\n",
      "Epoch 16/30\n",
      "48/48 [==============================] - 97s 2s/step - loss: 0.5320 - accuracy: 0.7412 - val_loss: 0.5164 - val_accuracy: 0.7603\n",
      "Epoch 17/30\n",
      "48/48 [==============================] - 97s 2s/step - loss: 0.5286 - accuracy: 0.7460 - val_loss: 0.5236 - val_accuracy: 0.7551\n",
      "Epoch 18/30\n",
      "48/48 [==============================] - 96s 2s/step - loss: 0.5272 - accuracy: 0.7476 - val_loss: 0.5196 - val_accuracy: 0.7590\n",
      "Epoch 19/30\n",
      "48/48 [==============================] - 96s 2s/step - loss: 0.5228 - accuracy: 0.7498 - val_loss: 0.5102 - val_accuracy: 0.7643\n",
      "Epoch 20/30\n",
      "48/48 [==============================] - 97s 2s/step - loss: 0.5219 - accuracy: 0.7532 - val_loss: 0.5076 - val_accuracy: 0.7597\n",
      "Epoch 21/30\n",
      "48/48 [==============================] - 96s 2s/step - loss: 0.5193 - accuracy: 0.7512 - val_loss: 0.5063 - val_accuracy: 0.7676\n",
      "Epoch 22/30\n",
      "48/48 [==============================] - 97s 2s/step - loss: 0.5197 - accuracy: 0.7504 - val_loss: 0.5039 - val_accuracy: 0.7597\n",
      "Epoch 23/30\n",
      "48/48 [==============================] - 96s 2s/step - loss: 0.5157 - accuracy: 0.7544 - val_loss: 0.5059 - val_accuracy: 0.7689\n",
      "Epoch 24/30\n",
      "48/48 [==============================] - 96s 2s/step - loss: 0.5140 - accuracy: 0.7491 - val_loss: 0.5026 - val_accuracy: 0.7663\n",
      "Epoch 25/30\n",
      "48/48 [==============================] - 96s 2s/step - loss: 0.5114 - accuracy: 0.7576 - val_loss: 0.4991 - val_accuracy: 0.7623\n",
      "Epoch 26/30\n",
      "48/48 [==============================] - 96s 2s/step - loss: 0.5116 - accuracy: 0.7557 - val_loss: 0.4992 - val_accuracy: 0.7663\n",
      "Epoch 27/30\n",
      "48/48 [==============================] - 96s 2s/step - loss: 0.5132 - accuracy: 0.7522 - val_loss: 0.5021 - val_accuracy: 0.7722\n",
      "Epoch 28/30\n",
      "48/48 [==============================] - 96s 2s/step - loss: 0.5109 - accuracy: 0.7588 - val_loss: 0.5013 - val_accuracy: 0.7649\n",
      "Epoch 29/30\n",
      "48/48 [==============================] - 96s 2s/step - loss: 0.5111 - accuracy: 0.7571 - val_loss: 0.4970 - val_accuracy: 0.7636\n",
      "Epoch 30/30\n",
      "48/48 [==============================] - 96s 2s/step - loss: 0.5079 - accuracy: 0.7603 - val_loss: 0.4938 - val_accuracy: 0.7676\n"
     ]
    }
   ],
   "source": [
    "## Training the model \n",
    "Epochs = 30\n",
    "model_bert_base_results= model_bert_base.fit(X_train, y_train, batch_size=128 ,epochs = Epochs, validation_data=(X_val, y_val))"
   ]
  },
  {
   "cell_type": "code",
   "execution_count": 22,
   "metadata": {
    "colab": {
     "base_uri": "https://localhost:8080/",
     "height": 404
    },
    "execution": {
     "iopub.execute_input": "2022-07-28T11:55:07.076336Z",
     "iopub.status.busy": "2022-07-28T11:55:07.075941Z",
     "iopub.status.idle": "2022-07-28T11:55:07.447743Z",
     "shell.execute_reply": "2022-07-28T11:55:07.446730Z",
     "shell.execute_reply.started": "2022-07-28T11:55:07.076298Z"
    },
    "id": "o8Fanim-wtVh",
    "outputId": "ec30a2d3-74e3-469d-ba54-5f99fb285fb3"
   },
   "outputs": [
    {
     "data": {
      "image/png": "[encoded data removed]",
      "text/plain": [
       "<Figure size 1152x432 with 2 Axes>"
      ]
     },
     "metadata": {
      "needs_background": "light"
     },
     "output_type": "display_data"
    }
   ],
   "source": [
    "plt.figure(figsize=(16,6))\n",
    "\n",
    "## Loss vs Epochs for train and validation data\n",
    "plt.subplot(1,2,1)\n",
    "plt.plot(model_bert_base_results.history['loss'], label='training data')\n",
    "plt.plot(model_bert_base_results.history['val_loss'], label='validation data')\n",
    "plt.title('Loss for Text Classification')\n",
    "plt.ylabel('Loss value')\n",
    "plt.xlabel('No. epoch')\n",
    "plt.legend(loc=\"upper left\")\n",
    "\n",
    "## Accuracy vs Epochs for train and validation data\n",
    "plt.subplot(1,2,2)\n",
    "plt.plot(model_bert_base_results.history['accuracy'], label=' training data')\n",
    "plt.plot(model_bert_base_results.history['val_accuracy'], label='validation data')\n",
    "plt.title('Accuracy for Text Classification')\n",
    "plt.ylabel('Accuracy value')\n",
    "plt.xlabel('No. epoch')\n",
    "plt.legend(loc=\"upper left\")\n",
    "plt.show()"
   ]
  },
  {
   "cell_type": "code",
   "execution_count": 23,
   "metadata": {
    "colab": {
     "base_uri": "https://localhost:8080/",
     "height": 560
    },
    "execution": {
     "iopub.execute_input": "2022-07-28T11:55:07.450183Z",
     "iopub.status.busy": "2022-07-28T11:55:07.449203Z",
     "iopub.status.idle": "2022-07-28T11:55:18.701584Z",
     "shell.execute_reply": "2022-07-28T11:55:18.700448Z",
     "shell.execute_reply.started": "2022-07-28T11:55:07.450142Z"
    },
    "id": "o_NeesAawtVh",
    "outputId": "70e5f96b-3b7e-42e5-af52-9fb37957f3da"
   },
   "outputs": [
    {
     "data": {
      "image/png": "[encoded data removed]",
      "text/plain": [
       "<Figure size 432x432 with 2 Axes>"
      ]
     },
     "metadata": {
      "needs_background": "light"
     },
     "output_type": "display_data"
    },
    {
     "name": "stdout",
     "output_type": "stream",
     "text": [
      "\n",
      "+-----------------------+--------+\n",
      "|        Metrics        | Values |\n",
      "+-----------------------+--------+\n",
      "|     Specificity(%)    | 83.66  |\n",
      "| Sensitivity/Recall(%) | 67.58  |\n",
      "|      Precision(%)     | 75.68  |\n",
      "|     Micro F1 Score    |  0.77  |\n",
      "+-----------------------+--------+\n"
     ]
    }
   ],
   "source": [
    "model_bert_base_metrices=performance_evaluation(model_bert_base, X_val,y_val)"
   ]
  },
  {
   "cell_type": "markdown",
   "metadata": {
    "id": "4TE4Uz2QwtVi"
   },
   "source": [
    "## 2) DistilBERT (40% less parameters, 60% faster than BERT-Base)"
   ]
  },
  {
   "cell_type": "code",
   "execution_count": 46,
   "metadata": {
    "colab": {
     "base_uri": "https://localhost:8080/"
    },
    "execution": {
     "iopub.execute_input": "2022-07-28T11:55:18.703683Z",
     "iopub.status.busy": "2022-07-28T11:55:18.703286Z",
     "iopub.status.idle": "2022-07-28T11:55:49.630945Z",
     "shell.execute_reply": "2022-07-28T11:55:49.629974Z",
     "shell.execute_reply.started": "2022-07-28T11:55:18.703644Z"
    },
    "id": "t3QZ6tvawtVi",
    "outputId": "0abe3a95-a3fe-4d6f-9e95-7e99ea27a667"
   },
   "outputs": [
    {
     "name": "stderr",
     "output_type": "stream",
     "text": [
      "Some layers from the model checkpoint at distilbert-base-uncased were not used when initializing TFDistilBertModel: ['activation_13', 'vocab_transform', 'vocab_layer_norm', 'vocab_projector']\n",
      "- This IS expected if you are initializing TFDistilBertModel from the checkpoint of a model trained on another task or with another architecture (e.g. initializing a BertForSequenceClassification model from a BertForPreTraining model).\n",
      "- This IS NOT expected if you are initializing TFDistilBertModel from the checkpoint of a model that you expect to be exactly identical (initializing a BertForSequenceClassification model from a BertForSequenceClassification model).\n",
      "All the layers of TFDistilBertModel were initialized from the model checkpoint at distilbert-base-uncased.\n",
      "If your task is similar to the task the model of the checkpoint was trained on, you can already use TFDistilBertModel for predictions without further training.\n"
     ]
    }
   ],
   "source": [
    "# Loading BERT tokenizer and Model\n",
    "\n",
    "dbert_tokenizer = DistilBertTokenizer.from_pretrained('distilbert-base-uncased')\n",
    "dbert_model = TFDistilBertModel.from_pretrained('distilbert-base-uncased')"
   ]
  },
  {
   "cell_type": "code",
   "execution_count": 47,
   "metadata": {
    "execution": {
     "iopub.execute_input": "2022-07-28T11:55:49.635684Z",
     "iopub.status.busy": "2022-07-28T11:55:49.635242Z",
     "iopub.status.idle": "2022-07-28T11:55:49.650753Z",
     "shell.execute_reply": "2022-07-28T11:55:49.649170Z",
     "shell.execute_reply.started": "2022-07-28T11:55:49.635641Z"
    },
    "id": "z_kDOCf2wtVi"
   },
   "outputs": [],
   "source": [
    "def text_encoding(tokenizer, texts, max_length, batch_size=256):\n",
    "    \n",
    "    \"\"\"This function return the text embeddings after tokenization and padding the text.\"\"\"\n",
    "    \n",
    "    input_ids = []\n",
    "    attention_mask = []\n",
    "    \n",
    "    for i in range(0, len(texts), batch_size):\n",
    "        batch = texts[i:i+batch_size]\n",
    "        inputs = tokenizer.batch_encode_plus(batch,\n",
    "                                             max_length=max_len, padding='longest',\n",
    "                                             truncation=True, return_attention_mask=True,\n",
    "                                             return_token_type_ids=False)\n",
    "        input_ids.extend(inputs['input_ids'])\n",
    "        attention_mask.extend(inputs['attention_mask'])\n",
    "    \n",
    "    \n",
    "    return tf.convert_to_tensor(input_ids), tf.convert_to_tensor(attention_mask)"
   ]
  },
  {
   "cell_type": "code",
   "execution_count": 48,
   "metadata": {
    "execution": {
     "iopub.execute_input": "2022-07-28T11:55:49.656854Z",
     "iopub.status.busy": "2022-07-28T11:55:49.656147Z",
     "iopub.status.idle": "2022-07-28T11:55:58.458773Z",
     "shell.execute_reply": "2022-07-28T11:55:58.457654Z",
     "shell.execute_reply.started": "2022-07-28T11:55:49.656782Z"
    },
    "id": "FhYXImzzwtVi"
   },
   "outputs": [],
   "source": [
    "max_len = 32\n",
    "X_train_ids, X_train_attention = text_encoding(dbert_tokenizer, X_train.tolist(),max_len)\n",
    "X_val_ids, X_val_attention = text_encoding(dbert_tokenizer, X_val.tolist(), max_len)\n",
    "X_test_ids, X_test_attention = text_encoding(dbert_tokenizer, X_test.tolist(), max_len)"
   ]
  },
  {
   "cell_type": "code",
   "execution_count": 49,
   "metadata": {
    "execution": {
     "iopub.execute_input": "2022-07-28T11:55:58.460615Z",
     "iopub.status.busy": "2022-07-28T11:55:58.460214Z",
     "iopub.status.idle": "2022-07-28T11:55:58.469765Z",
     "shell.execute_reply": "2022-07-28T11:55:58.468465Z",
     "shell.execute_reply.started": "2022-07-28T11:55:58.460577Z"
    },
    "id": "sebmCBdrwtVj"
   },
   "outputs": [],
   "source": [
    "# Making the layers untrainable\n",
    "for layer in dbert_model.layers:\n",
    "    layer.trainable = False"
   ]
  },
  {
   "cell_type": "code",
   "execution_count": 50,
   "metadata": {
    "execution": {
     "iopub.execute_input": "2022-07-28T11:58:23.030667Z",
     "iopub.status.busy": "2022-07-28T11:58:23.029976Z",
     "iopub.status.idle": "2022-07-28T11:58:28.720825Z",
     "shell.execute_reply": "2022-07-28T11:58:28.719805Z",
     "shell.execute_reply.started": "2022-07-28T11:58:23.030628Z"
    },
    "id": "21fECC8cwtVj"
   },
   "outputs": [],
   "source": [
    "# Model architecture\n",
    "\n",
    "weight_initializer = tf.keras.initializers.GlorotNormal(seed=42)\n",
    "\n",
    "# DistilBERT Layers\n",
    "input_ids_layer = Input(shape=(max_len,), name='input_ids', dtype='int32')\n",
    "input_attention_layer = Input(shape=(max_len,), name='input_attention', dtype='int32')\n",
    "last_hidden_state = dbert_model([input_ids_layer, input_attention_layer])[0]\n",
    "cls_token = last_hidden_state[:, 0, :]\n",
    "\n",
    "# NN layer\n",
    "output = Dense(1,activation='sigmoid',kernel_initializer=weight_initializer)(cls_token)\n",
    "\n",
    "model_dbert = Model(inputs=[input_ids_layer, input_attention_layer], outputs=output)"
   ]
  },
  {
   "cell_type": "code",
   "execution_count": 51,
   "metadata": {
    "colab": {
     "base_uri": "https://localhost:8080/"
    },
    "execution": {
     "iopub.execute_input": "2022-07-28T11:58:28.723419Z",
     "iopub.status.busy": "2022-07-28T11:58:28.722814Z",
     "iopub.status.idle": "2022-07-28T11:58:28.736747Z",
     "shell.execute_reply": "2022-07-28T11:58:28.735682Z",
     "shell.execute_reply.started": "2022-07-28T11:58:28.723388Z"
    },
    "id": "-s3QwbNbwtVk",
    "outputId": "9f357094-c087-4dad-c4f3-baab0ddfec57"
   },
   "outputs": [
    {
     "name": "stdout",
     "output_type": "stream",
     "text": [
      "Model: \"model_2\"\n",
      "__________________________________________________________________________________________________\n",
      "Layer (type)                    Output Shape         Param #     Connected to                     \n",
      "==================================================================================================\n",
      "input_ids (InputLayer)          [(None, 32)]         0                                            \n",
      "__________________________________________________________________________________________________\n",
      "input_attention (InputLayer)    [(None, 32)]         0                                            \n",
      "__________________________________________________________________________________________________\n",
      "tf_distil_bert_model_1 (TFDisti TFBaseModelOutput(la 66362880    input_ids[0][0]                  \n",
      "                                                                 input_attention[0][0]            \n",
      "__________________________________________________________________________________________________\n",
      "tf.__operators__.getitem_1 (Sli (None, 768)          0           tf_distil_bert_model_1[0][0]     \n",
      "__________________________________________________________________________________________________\n",
      "dense_1 (Dense)                 (None, 1)            769         tf.__operators__.getitem_1[0][0] \n",
      "==================================================================================================\n",
      "Total params: 66,363,649\n",
      "Trainable params: 769\n",
      "Non-trainable params: 66,362,880\n",
      "__________________________________________________________________________________________________\n"
     ]
    }
   ],
   "source": [
    "model_dbert.summary()"
   ]
  },
  {
   "cell_type": "code",
   "execution_count": 52,
   "metadata": {
    "execution": {
     "iopub.execute_input": "2022-07-28T11:58:28.738987Z",
     "iopub.status.busy": "2022-07-28T11:58:28.738347Z",
     "iopub.status.idle": "2022-07-28T11:58:28.755592Z",
     "shell.execute_reply": "2022-07-28T11:58:28.754243Z",
     "shell.execute_reply.started": "2022-07-28T11:58:28.738947Z"
    },
    "id": "lN7QV8NmwtVk"
   },
   "outputs": [],
   "source": [
    "model_dbert.compile(optimizer='adam',loss=tf.keras.losses.BinaryCrossentropy(), metrics=['accuracy'])"
   ]
  },
  {
   "cell_type": "code",
   "execution_count": 53,
   "metadata": {
    "colab": {
     "base_uri": "https://localhost:8080/"
    },
    "execution": {
     "iopub.execute_input": "2022-07-28T11:58:45.355416Z",
     "iopub.status.busy": "2022-07-28T11:58:45.354745Z",
     "iopub.status.idle": "2022-07-28T12:02:13.074139Z",
     "shell.execute_reply": "2022-07-28T12:02:13.073041Z",
     "shell.execute_reply.started": "2022-07-28T11:58:45.355377Z"
    },
    "id": "kSU2iLQbwtVk",
    "outputId": "964c7806-22d2-442d-94e7-415765d4f091"
   },
   "outputs": [
    {
     "name": "stdout",
     "output_type": "stream",
     "text": [
      "Epoch 1/30\n",
      "48/48 [==============================] - 15s 198ms/step - loss: 0.5992 - accuracy: 0.7003 - val_loss: 0.5258 - val_accuracy: 0.7676\n",
      "Epoch 2/30\n",
      "48/48 [==============================] - 8s 173ms/step - loss: 0.5203 - accuracy: 0.7603 - val_loss: 0.4826 - val_accuracy: 0.7853\n",
      "Epoch 3/30\n",
      "48/48 [==============================] - 9s 178ms/step - loss: 0.4881 - accuracy: 0.7741 - val_loss: 0.4601 - val_accuracy: 0.7932\n",
      "Epoch 4/30\n",
      "48/48 [==============================] - 8s 175ms/step - loss: 0.4723 - accuracy: 0.7823 - val_loss: 0.4480 - val_accuracy: 0.8024\n",
      "Epoch 5/30\n",
      "48/48 [==============================] - 8s 173ms/step - loss: 0.4597 - accuracy: 0.7910 - val_loss: 0.4395 - val_accuracy: 0.8102\n",
      "Epoch 6/30\n",
      "48/48 [==============================] - 8s 171ms/step - loss: 0.4552 - accuracy: 0.7933 - val_loss: 0.4351 - val_accuracy: 0.8109\n",
      "Epoch 7/30\n",
      "48/48 [==============================] - 8s 169ms/step - loss: 0.4463 - accuracy: 0.8000 - val_loss: 0.4319 - val_accuracy: 0.8116\n",
      "Epoch 8/30\n",
      "48/48 [==============================] - 8s 169ms/step - loss: 0.4425 - accuracy: 0.8041 - val_loss: 0.4305 - val_accuracy: 0.8175\n",
      "Epoch 9/30\n",
      "48/48 [==============================] - 8s 169ms/step - loss: 0.4420 - accuracy: 0.8046 - val_loss: 0.4265 - val_accuracy: 0.8214\n",
      "Epoch 10/30\n",
      "48/48 [==============================] - 8s 169ms/step - loss: 0.4394 - accuracy: 0.8051 - val_loss: 0.4253 - val_accuracy: 0.8207\n",
      "Epoch 11/30\n",
      "48/48 [==============================] - 8s 170ms/step - loss: 0.4355 - accuracy: 0.8057 - val_loss: 0.4236 - val_accuracy: 0.8194\n",
      "Epoch 12/30\n",
      "48/48 [==============================] - 8s 170ms/step - loss: 0.4337 - accuracy: 0.8103 - val_loss: 0.4240 - val_accuracy: 0.8168\n",
      "Epoch 13/30\n",
      "48/48 [==============================] - 8s 171ms/step - loss: 0.4322 - accuracy: 0.8077 - val_loss: 0.4222 - val_accuracy: 0.8175\n",
      "Epoch 14/30\n",
      "48/48 [==============================] - 8s 172ms/step - loss: 0.4287 - accuracy: 0.8100 - val_loss: 0.4221 - val_accuracy: 0.8194\n",
      "Epoch 15/30\n",
      "48/48 [==============================] - 8s 172ms/step - loss: 0.4274 - accuracy: 0.8110 - val_loss: 0.4204 - val_accuracy: 0.8175\n",
      "Epoch 16/30\n",
      "48/48 [==============================] - 8s 172ms/step - loss: 0.4245 - accuracy: 0.8066 - val_loss: 0.4214 - val_accuracy: 0.8168\n",
      "Epoch 17/30\n",
      "48/48 [==============================] - 8s 172ms/step - loss: 0.4233 - accuracy: 0.8099 - val_loss: 0.4193 - val_accuracy: 0.8194\n",
      "Epoch 18/30\n",
      "48/48 [==============================] - 8s 171ms/step - loss: 0.4241 - accuracy: 0.8079 - val_loss: 0.4192 - val_accuracy: 0.8181\n",
      "Epoch 19/30\n",
      "48/48 [==============================] - 8s 170ms/step - loss: 0.4267 - accuracy: 0.8087 - val_loss: 0.4191 - val_accuracy: 0.8175\n",
      "Epoch 20/30\n",
      "48/48 [==============================] - 8s 170ms/step - loss: 0.4231 - accuracy: 0.8118 - val_loss: 0.4178 - val_accuracy: 0.8181\n",
      "Epoch 21/30\n",
      "48/48 [==============================] - 8s 170ms/step - loss: 0.4207 - accuracy: 0.8118 - val_loss: 0.4180 - val_accuracy: 0.8168\n",
      "Epoch 22/30\n",
      "48/48 [==============================] - 8s 170ms/step - loss: 0.4208 - accuracy: 0.8082 - val_loss: 0.4179 - val_accuracy: 0.8168\n",
      "Epoch 23/30\n",
      "48/48 [==============================] - 8s 170ms/step - loss: 0.4153 - accuracy: 0.8166 - val_loss: 0.4172 - val_accuracy: 0.8162\n",
      "Epoch 24/30\n",
      "48/48 [==============================] - 8s 170ms/step - loss: 0.4183 - accuracy: 0.8115 - val_loss: 0.4180 - val_accuracy: 0.8168\n",
      "Epoch 25/30\n",
      "48/48 [==============================] - 8s 170ms/step - loss: 0.4181 - accuracy: 0.8144 - val_loss: 0.4169 - val_accuracy: 0.8162\n",
      "Epoch 26/30\n",
      "48/48 [==============================] - 8s 170ms/step - loss: 0.4157 - accuracy: 0.8154 - val_loss: 0.4203 - val_accuracy: 0.8122\n",
      "Epoch 27/30\n",
      "48/48 [==============================] - 8s 170ms/step - loss: 0.4161 - accuracy: 0.8161 - val_loss: 0.4191 - val_accuracy: 0.8122\n",
      "Epoch 28/30\n",
      "48/48 [==============================] - 8s 170ms/step - loss: 0.4126 - accuracy: 0.8192 - val_loss: 0.4169 - val_accuracy: 0.8142\n",
      "Epoch 29/30\n",
      "48/48 [==============================] - 8s 171ms/step - loss: 0.4212 - accuracy: 0.8130 - val_loss: 0.4151 - val_accuracy: 0.8181\n",
      "Epoch 30/30\n",
      "48/48 [==============================] - 8s 171ms/step - loss: 0.4148 - accuracy: 0.8138 - val_loss: 0.4162 - val_accuracy: 0.8194\n"
     ]
    }
   ],
   "source": [
    "Epochs=30\n",
    "Batch_size=128\n",
    "\n",
    "model_dbert_results = model_dbert.fit(\n",
    "    x = [X_train_ids, X_train_attention],\n",
    "    y = y_train,\n",
    "    epochs = Epochs,\n",
    "    batch_size = Batch_size,\n",
    "    validation_data = ([X_val_ids, X_val_attention], y_val))\n",
    "\n"
   ]
  },
  {
   "cell_type": "code",
   "execution_count": 54,
   "metadata": {
    "colab": {
     "base_uri": "https://localhost:8080/",
     "height": 404
    },
    "execution": {
     "iopub.execute_input": "2022-07-28T12:02:13.077622Z",
     "iopub.status.busy": "2022-07-28T12:02:13.077198Z",
     "iopub.status.idle": "2022-07-28T12:02:13.439732Z",
     "shell.execute_reply": "2022-07-28T12:02:13.438748Z",
     "shell.execute_reply.started": "2022-07-28T12:02:13.077580Z"
    },
    "id": "P3PLChIOwtVk",
    "outputId": "438225d6-7562-4011-da12-b501c3da6ed8"
   },
   "outputs": [
    {
     "data": {
      "image/png": "[encoded data removed]",
      "text/plain": [
       "<Figure size 1152x432 with 2 Axes>"
      ]
     },
     "metadata": {
      "needs_background": "light"
     },
     "output_type": "display_data"
    }
   ],
   "source": [
    "plt.figure(figsize=(16,6))\n",
    "\n",
    "## Loss vs Epochs for train and validation data\n",
    "plt.subplot(1,2,1)\n",
    "plt.plot(model_dbert_results.history['loss'], label='training data')\n",
    "plt.plot(model_dbert_results.history['val_loss'], label='validation data')\n",
    "plt.title('Loss for Text Classification')\n",
    "plt.ylabel('Loss value')\n",
    "plt.xlabel('No. epoch')\n",
    "plt.legend(loc=\"upper left\")\n",
    "\n",
    "## Accuracy vs Epochs for train and validation data\n",
    "plt.subplot(1,2,2)\n",
    "plt.plot(model_dbert_results.history['accuracy'], label=' training data')\n",
    "plt.plot(model_dbert_results.history['val_accuracy'], label='validation data')\n",
    "plt.title('Accuracy for Text Classification')\n",
    "plt.ylabel('Accuracy value')\n",
    "plt.xlabel('No. epoch')\n",
    "plt.legend(loc=\"upper left\")\n",
    "plt.show()"
   ]
  },
  {
   "cell_type": "code",
   "execution_count": 55,
   "metadata": {
    "colab": {
     "base_uri": "https://localhost:8080/",
     "height": 560
    },
    "execution": {
     "iopub.execute_input": "2022-07-28T12:05:20.531613Z",
     "iopub.status.busy": "2022-07-28T12:05:20.530687Z",
     "iopub.status.idle": "2022-07-28T12:05:23.762443Z",
     "shell.execute_reply": "2022-07-28T12:05:23.761261Z",
     "shell.execute_reply.started": "2022-07-28T12:05:20.531564Z"
    },
    "id": "GOvZ7R4NwtVl",
    "outputId": "77a60932-1f5f-486e-ea8d-3e337bb52507"
   },
   "outputs": [
    {
     "data": {
      "image/png": "[encoded data removed]",
      "text/plain": [
       "<Figure size 432x432 with 2 Axes>"
      ]
     },
     "metadata": {
      "needs_background": "light"
     },
     "output_type": "display_data"
    },
    {
     "name": "stdout",
     "output_type": "stream",
     "text": [
      "\n",
      "+-----------------------+--------+\n",
      "|        Metrics        | Values |\n",
      "+-----------------------+--------+\n",
      "|     Specificity(%)    | 90.91  |\n",
      "| Sensitivity/Recall(%) | 70.03  |\n",
      "|      Precision(%)     | 85.29  |\n",
      "|     Micro F1 Score    |  0.82  |\n",
      "+-----------------------+--------+\n"
     ]
    }
   ],
   "source": [
    "model_dbert_metrices=performance_evaluation(model_dbert, [X_val_ids, X_val_attention], y_val)"
   ]
  },
  {
   "cell_type": "markdown",
   "metadata": {
    "id": "lTgh5M8lwtVl"
   },
   "source": [
    "## 3) RoBERTa"
   ]
  },
  {
   "cell_type": "code",
   "execution_count": 56,
   "metadata": {
    "colab": {
     "base_uri": "https://localhost:8080/",
     "height": 252,
     "referenced_widgets": [
      "750fee46e614451191dc5e71c50d892f",
      "7a5bed23c07946ab9d21253693d29c8d",
      "2c5e6ef14a0147399ce89ba46759d597",
      "e6e4ebbc3ce74e4a865c943ace07f293",
      "44d2ff6c3e2b459ea67f749eaf43fb6c",
      "7101e57ca2ae43fc81c676a32a5f84d5",
      "4853f88462d747639298a281f5a6fb59",
      "a598b6e7595e44d086fd39ed0067438e",
      "949f4cabac6141f086f770080ca7e477",
      "c33b8883802e4d19ba2a5973a4f2004d",
      "71cfca7963f54e53bc24a69efe1756c0",
      "3e11c0fef9af4fe9815257f06021fcab",
      "093cb07401b54371aa0ba2e899715e25",
      "ca7d4d7d0dea47f98cd270038e77d9f9",
      "e6df70e665b54ebe8fc366de2b52cc64",
      "784e9ab1a99140f1b74604198b34da20",
      "d0630809608f4f96a0037596d45635fc",
      "adc921b21d724407a3e3c11f10f3f041",
      "4cf60483003d4f578b7438a00924bb97",
      "08533ea83a124991a7d158130eb2c2f1",
      "73501f246afb40d1a879c3633fd59a91",
      "375b8173fadc4191a7f25494fde329a2",
      "56a0140a81b84e739d8011b1c7e9566c",
      "29beb92a394e45a2af02bde4d3a5e653",
      "bdcbead70fbd4048b8c7254cc8bee209",
      "9d83a8642046484584b9ba5d3f7ca43f",
      "be382308104e4bb8b5c537e63b447ed5",
      "22c889a3ef1945eb96613afa02d2e913",
      "c912c7dc99bf49aa804dd41ccfa02815",
      "e8376da1bb7844e681799220cd07e907",
      "1700c0dd2c9441998126cceae1f908d0",
      "6711d981c5c04d949b9a01a65e33fc15",
      "d549c7b01b8745258b84948a5172b2a7",
      "bb8756ebbe804b3781ef095afb9c70e6",
      "62424a773ffa4618b7047f12ecea6a33",
      "339eb5c69053450cb40b2390fed82dc8",
      "3f1c8d2b7a1a4b968e05707ab960c05a",
      "70cdbb4307e744ef948ac4a7776cc477",
      "d9fa889b616b45d595ebaf2f315dde59",
      "2f7e6051c8564916816c4a2764425db5",
      "38544df67c6e4734bf696dc2c0a8ba7a",
      "713e18aad2374ba6be485b5a408840dc",
      "6af171578639408a84383761f282b246",
      "93ec4c309811448b90f49d7876381ec6"
     ]
    },
    "execution": {
     "iopub.execute_input": "2022-07-28T12:05:30.443458Z",
     "iopub.status.busy": "2022-07-28T12:05:30.442745Z",
     "iopub.status.idle": "2022-07-28T12:06:18.075928Z",
     "shell.execute_reply": "2022-07-28T12:06:18.074936Z",
     "shell.execute_reply.started": "2022-07-28T12:05:30.443421Z"
    },
    "id": "vwL-77hqwtVl",
    "outputId": "e4098952-2ea9-4839-e9a7-99e21f77e547"
   },
   "outputs": [
    {
     "data": {
      "application/vnd.jupyter.widget-view+json": {
       "model_id": "750fee46e614451191dc5e71c50d892f",
       "version_major": 2,
       "version_minor": 0
      },
      "text/plain": [
       "Downloading vocab.json:   0%|          | 0.00/878k [00:00<?, ?B/s]"
      ]
     },
     "metadata": {},
     "output_type": "display_data"
    },
    {
     "data": {
      "application/vnd.jupyter.widget-view+json": {
       "model_id": "3e11c0fef9af4fe9815257f06021fcab",
       "version_major": 2,
       "version_minor": 0
      },
      "text/plain": [
       "Downloading merges.txt:   0%|          | 0.00/446k [00:00<?, ?B/s]"
      ]
     },
     "metadata": {},
     "output_type": "display_data"
    },
    {
     "data": {
      "application/vnd.jupyter.widget-view+json": {
       "model_id": "56a0140a81b84e739d8011b1c7e9566c",
       "version_major": 2,
       "version_minor": 0
      },
      "text/plain": [
       "Downloading config.json:   0%|          | 0.00/481 [00:00<?, ?B/s]"
      ]
     },
     "metadata": {},
     "output_type": "display_data"
    },
    {
     "data": {
      "application/vnd.jupyter.widget-view+json": {
       "model_id": "bb8756ebbe804b3781ef095afb9c70e6",
       "version_major": 2,
       "version_minor": 0
      },
      "text/plain": [
       "Downloading tf_model.h5:   0%|          | 0.00/627M [00:00<?, ?B/s]"
      ]
     },
     "metadata": {},
     "output_type": "display_data"
    },
    {
     "name": "stderr",
     "output_type": "stream",
     "text": [
      "Some layers from the model checkpoint at roberta-base were not used when initializing TFRobertaModel: ['lm_head']\n",
      "- This IS expected if you are initializing TFRobertaModel from the checkpoint of a model trained on another task or with another architecture (e.g. initializing a BertForSequenceClassification model from a BertForPreTraining model).\n",
      "- This IS NOT expected if you are initializing TFRobertaModel from the checkpoint of a model that you expect to be exactly identical (initializing a BertForSequenceClassification model from a BertForSequenceClassification model).\n",
      "All the layers of TFRobertaModel were initialized from the model checkpoint at roberta-base.\n",
      "If your task is similar to the task the model of the checkpoint was trained on, you can already use TFRobertaModel for predictions without further training.\n"
     ]
    }
   ],
   "source": [
    "# Loading BERT tokenizer and Model\n",
    "\n",
    "roberta_tokenizer = RobertaTokenizer.from_pretrained('roberta-base')\n",
    "roberta_model = TFRobertaModel.from_pretrained('roberta-base')"
   ]
  },
  {
   "cell_type": "code",
   "execution_count": 57,
   "metadata": {
    "execution": {
     "iopub.execute_input": "2022-07-28T12:06:18.079157Z",
     "iopub.status.busy": "2022-07-28T12:06:18.078429Z",
     "iopub.status.idle": "2022-07-28T12:06:18.088080Z",
     "shell.execute_reply": "2022-07-28T12:06:18.086482Z",
     "shell.execute_reply.started": "2022-07-28T12:06:18.079116Z"
    },
    "id": "9xfsGVFlwtVl"
   },
   "outputs": [],
   "source": [
    "def text_encoding(tokenizer, texts, max_length, batch_size=256):\n",
    "    \n",
    "    \"\"\"This function return the text embeddings after tokenization and padding the text.\"\"\"\n",
    "    \n",
    "    input_ids = []\n",
    "    attention_mask = []\n",
    "    \n",
    "    for i in range(0, len(texts), batch_size):\n",
    "        batch = texts[i:i+batch_size]\n",
    "        inputs = tokenizer.batch_encode_plus(batch,\n",
    "                                             max_length=max_len, padding='longest',\n",
    "                                             truncation=True, return_attention_mask=True,\n",
    "                                             return_token_type_ids=False)\n",
    "        input_ids.extend(inputs['input_ids'])\n",
    "        attention_mask.extend(inputs['attention_mask'])\n",
    "    \n",
    "    \n",
    "    return tf.convert_to_tensor(input_ids), tf.convert_to_tensor(attention_mask)"
   ]
  },
  {
   "cell_type": "code",
   "execution_count": 58,
   "metadata": {
    "execution": {
     "iopub.execute_input": "2022-07-28T12:06:18.091910Z",
     "iopub.status.busy": "2022-07-28T12:06:18.091284Z",
     "iopub.status.idle": "2022-07-28T12:06:25.133665Z",
     "shell.execute_reply": "2022-07-28T12:06:25.132595Z",
     "shell.execute_reply.started": "2022-07-28T12:06:18.091861Z"
    },
    "id": "6VQlU_hXwtVm"
   },
   "outputs": [],
   "source": [
    "max_len = 32\n",
    "X_train_ids, X_train_attention = text_encoding(roberta_tokenizer, X_train.tolist(),max_len)\n",
    "X_val_ids, X_val_attention = text_encoding(roberta_tokenizer, X_val.tolist(), max_len)\n",
    "X_test_ids, X_test_attention = text_encoding(roberta_tokenizer, X_test.tolist(), max_len)"
   ]
  },
  {
   "cell_type": "code",
   "execution_count": 59,
   "metadata": {
    "execution": {
     "iopub.execute_input": "2022-07-28T12:06:25.136960Z",
     "iopub.status.busy": "2022-07-28T12:06:25.136534Z",
     "iopub.status.idle": "2022-07-28T12:06:25.149288Z",
     "shell.execute_reply": "2022-07-28T12:06:25.148165Z",
     "shell.execute_reply.started": "2022-07-28T12:06:25.136918Z"
    },
    "id": "gsnaSqDdwtVm"
   },
   "outputs": [],
   "source": [
    "# Making the layers untrainable\n",
    "for layer in roberta_model.layers:\n",
    "    layer.trainable = False"
   ]
  },
  {
   "cell_type": "code",
   "execution_count": 60,
   "metadata": {
    "execution": {
     "iopub.execute_input": "2022-07-28T12:06:25.151446Z",
     "iopub.status.busy": "2022-07-28T12:06:25.150833Z",
     "iopub.status.idle": "2022-07-28T12:06:29.786077Z",
     "shell.execute_reply": "2022-07-28T12:06:29.785076Z",
     "shell.execute_reply.started": "2022-07-28T12:06:25.151399Z"
    },
    "id": "cvMOnKKswtVm"
   },
   "outputs": [],
   "source": [
    "# Model architecture\n",
    "\n",
    "weight_initializer = tf.keras.initializers.GlorotNormal(seed=42)\n",
    "\n",
    "# DistilBERT Layers\n",
    "input_ids_layer = Input(shape=(max_len,), name='input_ids', dtype='int32')\n",
    "input_attention_layer = Input(shape=(max_len,), name='input_attention', dtype='int32')\n",
    "last_hidden_state = roberta_model([input_ids_layer, input_attention_layer])[0]\n",
    "cls_token = last_hidden_state[:, 0, :]\n",
    "\n",
    "# NN layer\n",
    "output = Dense(1,activation='sigmoid',kernel_initializer=weight_initializer)(cls_token)\n",
    "\n",
    "model_roberta = Model(inputs=[input_ids_layer, input_attention_layer], outputs=output)"
   ]
  },
  {
   "cell_type": "code",
   "execution_count": 61,
   "metadata": {
    "colab": {
     "base_uri": "https://localhost:8080/"
    },
    "execution": {
     "iopub.execute_input": "2022-07-28T12:06:29.788018Z",
     "iopub.status.busy": "2022-07-28T12:06:29.787628Z",
     "iopub.status.idle": "2022-07-28T12:06:29.808893Z",
     "shell.execute_reply": "2022-07-28T12:06:29.807560Z",
     "shell.execute_reply.started": "2022-07-28T12:06:29.787982Z"
    },
    "id": "3mFm-5WxwtVm",
    "outputId": "a7772dbd-f740-4312-ce60-1cee39f9151b"
   },
   "outputs": [
    {
     "name": "stdout",
     "output_type": "stream",
     "text": [
      "Model: \"model_3\"\n",
      "__________________________________________________________________________________________________\n",
      "Layer (type)                    Output Shape         Param #     Connected to                     \n",
      "==================================================================================================\n",
      "input_ids (InputLayer)          [(None, 32)]         0                                            \n",
      "__________________________________________________________________________________________________\n",
      "input_attention (InputLayer)    [(None, 32)]         0                                            \n",
      "__________________________________________________________________________________________________\n",
      "tf_roberta_model (TFRobertaMode TFBaseModelOutputWit 124645632   input_ids[0][0]                  \n",
      "                                                                 input_attention[0][0]            \n",
      "__________________________________________________________________________________________________\n",
      "tf.__operators__.getitem_2 (Sli (None, 768)          0           tf_roberta_model[0][0]           \n",
      "__________________________________________________________________________________________________\n",
      "dense_2 (Dense)                 (None, 1)            769         tf.__operators__.getitem_2[0][0] \n",
      "==================================================================================================\n",
      "Total params: 124,646,401\n",
      "Trainable params: 769\n",
      "Non-trainable params: 124,645,632\n",
      "__________________________________________________________________________________________________\n"
     ]
    }
   ],
   "source": [
    "model_roberta.summary()"
   ]
  },
  {
   "cell_type": "code",
   "execution_count": 62,
   "metadata": {
    "execution": {
     "iopub.execute_input": "2022-07-28T12:06:29.811371Z",
     "iopub.status.busy": "2022-07-28T12:06:29.810805Z",
     "iopub.status.idle": "2022-07-28T12:06:29.828130Z",
     "shell.execute_reply": "2022-07-28T12:06:29.826859Z",
     "shell.execute_reply.started": "2022-07-28T12:06:29.811330Z"
    },
    "id": "jwR27H2bwtVm"
   },
   "outputs": [],
   "source": [
    "model_roberta.compile(optimizer='adam',loss=tf.keras.losses.BinaryCrossentropy(), metrics=['accuracy'])"
   ]
  },
  {
   "cell_type": "code",
   "execution_count": 63,
   "metadata": {
    "colab": {
     "base_uri": "https://localhost:8080/"
    },
    "execution": {
     "iopub.execute_input": "2022-07-28T12:06:29.832204Z",
     "iopub.status.busy": "2022-07-28T12:06:29.831911Z",
     "iopub.status.idle": "2022-07-28T12:11:53.215780Z",
     "shell.execute_reply": "2022-07-28T12:11:53.214783Z",
     "shell.execute_reply.started": "2022-07-28T12:06:29.832177Z"
    },
    "id": "a3_wZet6wtVn",
    "outputId": "80927f7c-a9e0-41c2-dbd1-6a0335d4622f"
   },
   "outputs": [
    {
     "name": "stdout",
     "output_type": "stream",
     "text": [
      "Epoch 1/30\n",
      "48/48 [==============================] - 30s 391ms/step - loss: 0.6784 - accuracy: 0.5709 - val_loss: 0.6702 - val_accuracy: 0.5706\n",
      "Epoch 2/30\n",
      "48/48 [==============================] - 16s 341ms/step - loss: 0.6623 - accuracy: 0.5791 - val_loss: 0.6562 - val_accuracy: 0.5726\n",
      "Epoch 3/30\n",
      "48/48 [==============================] - 16s 335ms/step - loss: 0.6466 - accuracy: 0.6023 - val_loss: 0.6429 - val_accuracy: 0.5955\n",
      "Epoch 4/30\n",
      "48/48 [==============================] - 16s 332ms/step - loss: 0.6360 - accuracy: 0.6401 - val_loss: 0.6317 - val_accuracy: 0.6664\n",
      "Epoch 5/30\n",
      "48/48 [==============================] - 16s 331ms/step - loss: 0.6212 - accuracy: 0.6862 - val_loss: 0.6207 - val_accuracy: 0.7052\n",
      "Epoch 6/30\n",
      "48/48 [==============================] - 16s 334ms/step - loss: 0.6141 - accuracy: 0.7102 - val_loss: 0.6106 - val_accuracy: 0.7190\n",
      "Epoch 7/30\n",
      "48/48 [==============================] - 16s 336ms/step - loss: 0.6044 - accuracy: 0.7250 - val_loss: 0.6022 - val_accuracy: 0.7275\n",
      "Epoch 8/30\n",
      "48/48 [==============================] - 16s 336ms/step - loss: 0.5965 - accuracy: 0.7376 - val_loss: 0.5942 - val_accuracy: 0.7301\n",
      "Epoch 9/30\n",
      "48/48 [==============================] - 16s 334ms/step - loss: 0.5881 - accuracy: 0.7379 - val_loss: 0.5859 - val_accuracy: 0.7630\n",
      "Epoch 10/30\n",
      "48/48 [==============================] - 16s 334ms/step - loss: 0.5805 - accuracy: 0.7553 - val_loss: 0.5795 - val_accuracy: 0.7840\n",
      "Epoch 11/30\n",
      "48/48 [==============================] - 16s 333ms/step - loss: 0.5763 - accuracy: 0.7626 - val_loss: 0.5729 - val_accuracy: 0.7853\n",
      "Epoch 12/30\n",
      "48/48 [==============================] - 16s 333ms/step - loss: 0.5699 - accuracy: 0.7644 - val_loss: 0.5679 - val_accuracy: 0.7938\n",
      "Epoch 13/30\n",
      "48/48 [==============================] - 16s 333ms/step - loss: 0.5652 - accuracy: 0.7658 - val_loss: 0.5615 - val_accuracy: 0.7859\n",
      "Epoch 14/30\n",
      "48/48 [==============================] - 16s 335ms/step - loss: 0.5596 - accuracy: 0.7727 - val_loss: 0.5563 - val_accuracy: 0.7840\n",
      "Epoch 15/30\n",
      "48/48 [==============================] - 16s 334ms/step - loss: 0.5558 - accuracy: 0.7698 - val_loss: 0.5512 - val_accuracy: 0.7879\n",
      "Epoch 16/30\n",
      "48/48 [==============================] - 16s 335ms/step - loss: 0.5503 - accuracy: 0.7745 - val_loss: 0.5470 - val_accuracy: 0.7951\n",
      "Epoch 17/30\n",
      "48/48 [==============================] - 16s 335ms/step - loss: 0.5436 - accuracy: 0.7742 - val_loss: 0.5422 - val_accuracy: 0.7951\n",
      "Epoch 18/30\n",
      "48/48 [==============================] - 16s 334ms/step - loss: 0.5423 - accuracy: 0.7823 - val_loss: 0.5378 - val_accuracy: 0.7892\n",
      "Epoch 19/30\n",
      "48/48 [==============================] - 16s 334ms/step - loss: 0.5413 - accuracy: 0.7754 - val_loss: 0.5350 - val_accuracy: 0.7958\n",
      "Epoch 20/30\n",
      "48/48 [==============================] - 16s 333ms/step - loss: 0.5384 - accuracy: 0.7808 - val_loss: 0.5305 - val_accuracy: 0.7997\n",
      "Epoch 21/30\n",
      "48/48 [==============================] - 16s 333ms/step - loss: 0.5372 - accuracy: 0.7798 - val_loss: 0.5273 - val_accuracy: 0.7978\n",
      "Epoch 22/30\n",
      "48/48 [==============================] - 16s 332ms/step - loss: 0.5333 - accuracy: 0.7773 - val_loss: 0.5245 - val_accuracy: 0.7958\n",
      "Epoch 23/30\n",
      "48/48 [==============================] - 16s 333ms/step - loss: 0.5297 - accuracy: 0.7849 - val_loss: 0.5208 - val_accuracy: 0.7965\n",
      "Epoch 24/30\n",
      "48/48 [==============================] - 16s 334ms/step - loss: 0.5250 - accuracy: 0.7836 - val_loss: 0.5183 - val_accuracy: 0.7965\n",
      "Epoch 25/30\n",
      "48/48 [==============================] - 16s 335ms/step - loss: 0.5269 - accuracy: 0.7844 - val_loss: 0.5158 - val_accuracy: 0.7965\n",
      "Epoch 26/30\n",
      "48/48 [==============================] - 16s 336ms/step - loss: 0.5220 - accuracy: 0.7811 - val_loss: 0.5127 - val_accuracy: 0.7997\n",
      "Epoch 27/30\n",
      "48/48 [==============================] - 16s 335ms/step - loss: 0.5169 - accuracy: 0.7862 - val_loss: 0.5113 - val_accuracy: 0.7951\n",
      "Epoch 28/30\n",
      "48/48 [==============================] - 16s 334ms/step - loss: 0.5172 - accuracy: 0.7842 - val_loss: 0.5084 - val_accuracy: 0.7945\n",
      "Epoch 29/30\n",
      "48/48 [==============================] - 16s 333ms/step - loss: 0.5193 - accuracy: 0.7810 - val_loss: 0.5067 - val_accuracy: 0.7958\n",
      "Epoch 30/30\n",
      "48/48 [==============================] - 16s 333ms/step - loss: 0.5143 - accuracy: 0.7890 - val_loss: 0.5032 - val_accuracy: 0.8004\n"
     ]
    }
   ],
   "source": [
    "Epochs=30\n",
    "Batch_size=128\n",
    "\n",
    "model_roberta_results = model_roberta.fit(\n",
    "    x = [X_train_ids, X_train_attention],\n",
    "    y = y_train,\n",
    "    epochs = Epochs,\n",
    "    batch_size = Batch_size,\n",
    "    validation_data = ([X_val_ids, X_val_attention], y_val))\n"
   ]
  },
  {
   "cell_type": "code",
   "execution_count": 64,
   "metadata": {
    "colab": {
     "base_uri": "https://localhost:8080/",
     "height": 404
    },
    "execution": {
     "iopub.execute_input": "2022-07-28T12:12:45.675570Z",
     "iopub.status.busy": "2022-07-28T12:12:45.674771Z",
     "iopub.status.idle": "2022-07-28T12:12:46.021074Z",
     "shell.execute_reply": "2022-07-28T12:12:46.019885Z",
     "shell.execute_reply.started": "2022-07-28T12:12:45.675531Z"
    },
    "id": "gdkz9JclwtVn",
    "outputId": "49227ac1-9538-48f0-eff1-d14354e7681e"
   },
   "outputs": [
    {
     "data": {
      "image/png": "[encoded data removed]",
      "text/plain": [
       "<Figure size 1152x432 with 2 Axes>"
      ]
     },
     "metadata": {
      "needs_background": "light"
     },
     "output_type": "display_data"
    }
   ],
   "source": [
    "plt.figure(figsize=(16,6))\n",
    "\n",
    "## Loss vs Epochs for train and validation data\n",
    "plt.subplot(1,2,1)\n",
    "plt.plot(model_roberta_results.history['loss'], label='training data')\n",
    "plt.plot(model_roberta_results.history['val_loss'], label='validation data')\n",
    "plt.title('Loss for Text Classification')\n",
    "plt.ylabel('Loss value')\n",
    "plt.xlabel('No. epoch')\n",
    "plt.legend(loc=\"upper left\")\n",
    "\n",
    "## Accuracy vs Epochs for train and validation data\n",
    "plt.subplot(1,2,2)\n",
    "plt.plot(model_roberta_results.history['accuracy'], label=' training data')\n",
    "plt.plot(model_roberta_results.history['val_accuracy'], label='validation data')\n",
    "plt.title('Accuracy for Text Classification')\n",
    "plt.ylabel('Accuracy value')\n",
    "plt.xlabel('No. epoch')\n",
    "plt.legend(loc=\"upper left\")\n",
    "plt.show()"
   ]
  },
  {
   "cell_type": "code",
   "execution_count": 65,
   "metadata": {
    "colab": {
     "base_uri": "https://localhost:8080/",
     "height": 560
    },
    "execution": {
     "iopub.execute_input": "2022-07-28T12:12:58.415634Z",
     "iopub.status.busy": "2022-07-28T12:12:58.414915Z",
     "iopub.status.idle": "2022-07-28T12:13:04.610217Z",
     "shell.execute_reply": "2022-07-28T12:13:04.608962Z",
     "shell.execute_reply.started": "2022-07-28T12:12:58.415593Z"
    },
    "id": "eteN0RaBwtVn",
    "outputId": "fd26a12a-e978-48f3-dd8d-3d0b3a96982e"
   },
   "outputs": [
    {
     "data": {
      "image/png": "[encoded data removed]",
      "text/plain": [
       "<Figure size 432x432 with 2 Axes>"
      ]
     },
     "metadata": {
      "needs_background": "light"
     },
     "output_type": "display_data"
    },
    {
     "name": "stdout",
     "output_type": "stream",
     "text": [
      "\n",
      "+-----------------------+--------+\n",
      "|        Metrics        | Values |\n",
      "+-----------------------+--------+\n",
      "|     Specificity(%)    | 89.87  |\n",
      "| Sensitivity/Recall(%) | 66.97  |\n",
      "|      Precision(%)     | 83.27  |\n",
      "|     Micro F1 Score    |  0.8   |\n",
      "+-----------------------+--------+\n"
     ]
    }
   ],
   "source": [
    "model_roberta_metrices=performance_evaluation(model_roberta, [X_val_ids, X_val_attention], y_val)"
   ]
  },
  {
   "cell_type": "markdown",
   "metadata": {
    "id": "jd-HeP9NBo-L"
   },
   "source": [
    "## Conclusions \n",
    "- We trained 3 Bert models- Bert Base, DistilBERT and ROFL\n",
    "- Our metric is F1 Score\n",
    "- Best F1 Score is given by DistilBERT\n",
    "- Overall AUC scores are also highest for DistilBERT"
   ]
  }
 ],
 "metadata": {
  "accelerator": "GPU",
  "colab": {
   "name": "SC2 -BERT+DistilBERT+RoBERTa.ipynb",
   "provenance": []
  },
  "gpuClass": "standard",
  "kernelspec": {
   "display_name": "Python 3",
   "language": "python",
   "name": "python3"
  },
  "language_info": {
   "codemirror_mode": {
    "name": "ipython",
    "version": 3
   },
   "file_extension": ".py",
   "mimetype": "text/x-python",
   "name": "python",
   "nbconvert_exporter": "python",
   "pygments_lexer": "ipython3",
   "version": "3.8.5"
  },
  "widgets": {
   "application/vnd.jupyter.widget-state+json": {
    "08533ea83a124991a7d158130eb2c2f1": {
     "model_module": "@jupyter-widgets/controls",
     "model_module_version": "1.5.0",
     "model_name": "ProgressStyleModel",
     "state": {
      "_model_module": "@jupyter-widgets/controls",
      "_model_module_version": "1.5.0",
      "_model_name": "ProgressStyleModel",
      "_view_count": null,
      "_view_module": "@jupyter-widgets/base",
      "_view_module_version": "1.2.0",
      "_view_name": "StyleView",
      "bar_color": null,
      "description_width": ""
     }
    },
    "093cb07401b54371aa0ba2e899715e25": {
     "model_module": "@jupyter-widgets/controls",
     "model_module_version": "1.5.0",
     "model_name": "HTMLModel",
     "state": {
      "_dom_classes": [],
      "_model_module": "@jupyter-widgets/controls",
      "_model_module_version": "1.5.0",
      "_model_name": "HTMLModel",
      "_view_count": null,
      "_view_module": "@jupyter-widgets/controls",
      "_view_module_version": "1.5.0",
      "_view_name": "HTMLView",
      "description": "",
      "description_tooltip": null,
      "layout": "IPY_MODEL_d0630809608f4f96a0037596d45635fc",
      "placeholder": "​",
      "style": "IPY_MODEL_adc921b21d724407a3e3c11f10f3f041",
      "value": "Downloading merges.txt: 100%"
     }
    },
    "1700c0dd2c9441998126cceae1f908d0": {
     "model_module": "@jupyter-widgets/controls",
     "model_module_version": "1.5.0",
     "model_name": "ProgressStyleModel",
     "state": {
      "_model_module": "@jupyter-widgets/controls",
      "_model_module_version": "1.5.0",
      "_model_name": "ProgressStyleModel",
      "_view_count": null,
      "_view_module": "@jupyter-widgets/base",
      "_view_module_version": "1.2.0",
      "_view_name": "StyleView",
      "bar_color": null,
      "description_width": ""
     }
    },
    "22c889a3ef1945eb96613afa02d2e913": {
     "model_module": "@jupyter-widgets/base",
     "model_module_version": "1.2.0",
     "model_name": "LayoutModel",
     "state": {
      "_model_module": "@jupyter-widgets/base",
      "_model_module_version": "1.2.0",
      "_model_name": "LayoutModel",
      "_view_count": null,
      "_view_module": "@jupyter-widgets/base",
      "_view_module_version": "1.2.0",
      "_view_name": "LayoutView",
      "align_content": null,
      "align_items": null,
      "align_self": null,
      "border": null,
      "bottom": null,
      "display": null,
      "flex": null,
      "flex_flow": null,
      "grid_area": null,
      "grid_auto_columns": null,
      "grid_auto_flow": null,
      "grid_auto_rows": null,
      "grid_column": null,
      "grid_gap": null,
      "grid_row": null,
      "grid_template_areas": null,
      "grid_template_columns": null,
      "grid_template_rows": null,
      "height": null,
      "justify_content": null,
      "justify_items": null,
      "left": null,
      "margin": null,
      "max_height": null,
      "max_width": null,
      "min_height": null,
      "min_width": null,
      "object_fit": null,
      "object_position": null,
      "order": null,
      "overflow": null,
      "overflow_x": null,
      "overflow_y": null,
      "padding": null,
      "right": null,
      "top": null,
      "visibility": null,
      "width": null
     }
    },
    "29beb92a394e45a2af02bde4d3a5e653": {
     "model_module": "@jupyter-widgets/controls",
     "model_module_version": "1.5.0",
     "model_name": "HTMLModel",
     "state": {
      "_dom_classes": [],
      "_model_module": "@jupyter-widgets/controls",
      "_model_module_version": "1.5.0",
      "_model_name": "HTMLModel",
      "_view_count": null,
      "_view_module": "@jupyter-widgets/controls",
      "_view_module_version": "1.5.0",
      "_view_name": "HTMLView",
      "description": "",
      "description_tooltip": null,
      "layout": "IPY_MODEL_22c889a3ef1945eb96613afa02d2e913",
      "placeholder": "​",
      "style": "IPY_MODEL_c912c7dc99bf49aa804dd41ccfa02815",
      "value": "Downloading config.json: 100%"
     }
    },
    "2c5e6ef14a0147399ce89ba46759d597": {
     "model_module": "@jupyter-widgets/controls",
     "model_module_version": "1.5.0",
     "model_name": "FloatProgressModel",
     "state": {
      "_dom_classes": [],
      "_model_module": "@jupyter-widgets/controls",
      "_model_module_version": "1.5.0",
      "_model_name": "FloatProgressModel",
      "_view_count": null,
      "_view_module": "@jupyter-widgets/controls",
      "_view_module_version": "1.5.0",
      "_view_name": "ProgressView",
      "bar_style": "success",
      "description": "",
      "description_tooltip": null,
      "layout": "IPY_MODEL_a598b6e7595e44d086fd39ed0067438e",
      "max": 898823,
      "min": 0,
      "orientation": "horizontal",
      "style": "IPY_MODEL_949f4cabac6141f086f770080ca7e477",
      "value": 898823
     }
    },
    "2f7e6051c8564916816c4a2764425db5": {
     "model_module": "@jupyter-widgets/controls",
     "model_module_version": "1.5.0",
     "model_name": "DescriptionStyleModel",
     "state": {
      "_model_module": "@jupyter-widgets/controls",
      "_model_module_version": "1.5.0",
      "_model_name": "DescriptionStyleModel",
      "_view_count": null,
      "_view_module": "@jupyter-widgets/base",
      "_view_module_version": "1.2.0",
      "_view_name": "StyleView",
      "description_width": ""
     }
    },
    "339eb5c69053450cb40b2390fed82dc8": {
     "model_module": "@jupyter-widgets/controls",
     "model_module_version": "1.5.0",
     "model_name": "FloatProgressModel",
     "state": {
      "_dom_classes": [],
      "_model_module": "@jupyter-widgets/controls",
      "_model_module_version": "1.5.0",
      "_model_name": "FloatProgressModel",
      "_view_count": null,
      "_view_module": "@jupyter-widgets/controls",
      "_view_module_version": "1.5.0",
      "_view_name": "ProgressView",
      "bar_style": "success",
      "description": "",
      "description_tooltip": null,
      "layout": "IPY_MODEL_38544df67c6e4734bf696dc2c0a8ba7a",
      "max": 657434796,
      "min": 0,
      "orientation": "horizontal",
      "style": "IPY_MODEL_713e18aad2374ba6be485b5a408840dc",
      "value": 657434796
     }
    },
    "375b8173fadc4191a7f25494fde329a2": {
     "model_module": "@jupyter-widgets/controls",
     "model_module_version": "1.5.0",
     "model_name": "DescriptionStyleModel",
     "state": {
      "_model_module": "@jupyter-widgets/controls",
      "_model_module_version": "1.5.0",
      "_model_name": "DescriptionStyleModel",
      "_view_count": null,
      "_view_module": "@jupyter-widgets/base",
      "_view_module_version": "1.2.0",
      "_view_name": "StyleView",
      "description_width": ""
     }
    },
    "38544df67c6e4734bf696dc2c0a8ba7a": {
     "model_module": "@jupyter-widgets/base",
     "model_module_version": "1.2.0",
     "model_name": "LayoutModel",
     "state": {
      "_model_module": "@jupyter-widgets/base",
      "_model_module_version": "1.2.0",
      "_model_name": "LayoutModel",
      "_view_count": null,
      "_view_module": "@jupyter-widgets/base",
      "_view_module_version": "1.2.0",
      "_view_name": "LayoutView",
      "align_content": null,
      "align_items": null,
      "align_self": null,
      "border": null,
      "bottom": null,
      "display": null,
      "flex": null,
      "flex_flow": null,
      "grid_area": null,
      "grid_auto_columns": null,
      "grid_auto_flow": null,
      "grid_auto_rows": null,
      "grid_column": null,
      "grid_gap": null,
      "grid_row": null,
      "grid_template_areas": null,
      "grid_template_columns": null,
      "grid_template_rows": null,
      "height": null,
      "justify_content": null,
      "justify_items": null,
      "left": null,
      "margin": null,
      "max_height": null,
      "max_width": null,
      "min_height": null,
      "min_width": null,
      "object_fit": null,
      "object_position": null,
      "order": null,
      "overflow": null,
      "overflow_x": null,
      "overflow_y": null,
      "padding": null,
      "right": null,
      "top": null,
      "visibility": null,
      "width": null
     }
    },
    "3e11c0fef9af4fe9815257f06021fcab": {
     "model_module": "@jupyter-widgets/controls",
     "model_module_version": "1.5.0",
     "model_name": "HBoxModel",
     "state": {
      "_dom_classes": [],
      "_model_module": "@jupyter-widgets/controls",
      "_model_module_version": "1.5.0",
      "_model_name": "HBoxModel",
      "_view_count": null,
      "_view_module": "@jupyter-widgets/controls",
      "_view_module_version": "1.5.0",
      "_view_name": "HBoxView",
      "box_style": "",
      "children": [
       "IPY_MODEL_093cb07401b54371aa0ba2e899715e25",
       "IPY_MODEL_ca7d4d7d0dea47f98cd270038e77d9f9",
       "IPY_MODEL_e6df70e665b54ebe8fc366de2b52cc64"
      ],
      "layout": "IPY_MODEL_784e9ab1a99140f1b74604198b34da20"
     }
    },
    "3f1c8d2b7a1a4b968e05707ab960c05a": {
     "model_module": "@jupyter-widgets/controls",
     "model_module_version": "1.5.0",
     "model_name": "HTMLModel",
     "state": {
      "_dom_classes": [],
      "_model_module": "@jupyter-widgets/controls",
      "_model_module_version": "1.5.0",
      "_model_name": "HTMLModel",
      "_view_count": null,
      "_view_module": "@jupyter-widgets/controls",
      "_view_module_version": "1.5.0",
      "_view_name": "HTMLView",
      "description": "",
      "description_tooltip": null,
      "layout": "IPY_MODEL_6af171578639408a84383761f282b246",
      "placeholder": "​",
      "style": "IPY_MODEL_93ec4c309811448b90f49d7876381ec6",
      "value": " 627M/627M [00:14&lt;00:00, 59.9MB/s]"
     }
    },
    "44d2ff6c3e2b459ea67f749eaf43fb6c": {
     "model_module": "@jupyter-widgets/base",
     "model_module_version": "1.2.0",
     "model_name": "LayoutModel",
     "state": {
      "_model_module": "@jupyter-widgets/base",
      "_model_module_version": "1.2.0",
      "_model_name": "LayoutModel",
      "_view_count": null,
      "_view_module": "@jupyter-widgets/base",
      "_view_module_version": "1.2.0",
      "_view_name": "LayoutView",
      "align_content": null,
      "align_items": null,
      "align_self": null,
      "border": null,
      "bottom": null,
      "display": null,
      "flex": null,
      "flex_flow": null,
      "grid_area": null,
      "grid_auto_columns": null,
      "grid_auto_flow": null,
      "grid_auto_rows": null,
      "grid_column": null,
      "grid_gap": null,
      "grid_row": null,
      "grid_template_areas": null,
      "grid_template_columns": null,
      "grid_template_rows": null,
      "height": null,
      "justify_content": null,
      "justify_items": null,
      "left": null,
      "margin": null,
      "max_height": null,
      "max_width": null,
      "min_height": null,
      "min_width": null,
      "object_fit": null,
      "object_position": null,
      "order": null,
      "overflow": null,
      "overflow_x": null,
      "overflow_y": null,
      "padding": null,
      "right": null,
      "top": null,
      "visibility": null,
      "width": null
     }
    },
    "4853f88462d747639298a281f5a6fb59": {
     "model_module": "@jupyter-widgets/controls",
     "model_module_version": "1.5.0",
     "model_name": "DescriptionStyleModel",
     "state": {
      "_model_module": "@jupyter-widgets/controls",
      "_model_module_version": "1.5.0",
      "_model_name": "DescriptionStyleModel",
      "_view_count": null,
      "_view_module": "@jupyter-widgets/base",
      "_view_module_version": "1.2.0",
      "_view_name": "StyleView",
      "description_width": ""
     }
    },
    "4cf60483003d4f578b7438a00924bb97": {
     "model_module": "@jupyter-widgets/base",
     "model_module_version": "1.2.0",
     "model_name": "LayoutModel",
     "state": {
      "_model_module": "@jupyter-widgets/base",
      "_model_module_version": "1.2.0",
      "_model_name": "LayoutModel",
      "_view_count": null,
      "_view_module": "@jupyter-widgets/base",
      "_view_module_version": "1.2.0",
      "_view_name": "LayoutView",
      "align_content": null,
      "align_items": null,
      "align_self": null,
      "border": null,
      "bottom": null,
      "display": null,
      "flex": null,
      "flex_flow": null,
      "grid_area": null,
      "grid_auto_columns": null,
      "grid_auto_flow": null,
      "grid_auto_rows": null,
      "grid_column": null,
      "grid_gap": null,
      "grid_row": null,
      "grid_template_areas": null,
      "grid_template_columns": null,
      "grid_template_rows": null,
      "height": null,
      "justify_content": null,
      "justify_items": null,
      "left": null,
      "margin": null,
      "max_height": null,
      "max_width": null,
      "min_height": null,
      "min_width": null,
      "object_fit": null,
      "object_position": null,
      "order": null,
      "overflow": null,
      "overflow_x": null,
      "overflow_y": null,
      "padding": null,
      "right": null,
      "top": null,
      "visibility": null,
      "width": null
     }
    },
    "56a0140a81b84e739d8011b1c7e9566c": {
     "model_module": "@jupyter-widgets/controls",
     "model_module_version": "1.5.0",
     "model_name": "HBoxModel",
     "state": {
      "_dom_classes": [],
      "_model_module": "@jupyter-widgets/controls",
      "_model_module_version": "1.5.0",
      "_model_name": "HBoxModel",
      "_view_count": null,
      "_view_module": "@jupyter-widgets/controls",
      "_view_module_version": "1.5.0",
      "_view_name": "HBoxView",
      "box_style": "",
      "children": [
       "IPY_MODEL_29beb92a394e45a2af02bde4d3a5e653",
       "IPY_MODEL_bdcbead70fbd4048b8c7254cc8bee209",
       "IPY_MODEL_9d83a8642046484584b9ba5d3f7ca43f"
      ],
      "layout": "IPY_MODEL_be382308104e4bb8b5c537e63b447ed5"
     }
    },
    "62424a773ffa4618b7047f12ecea6a33": {
     "model_module": "@jupyter-widgets/controls",
     "model_module_version": "1.5.0",
     "model_name": "HTMLModel",
     "state": {
      "_dom_classes": [],
      "_model_module": "@jupyter-widgets/controls",
      "_model_module_version": "1.5.0",
      "_model_name": "HTMLModel",
      "_view_count": null,
      "_view_module": "@jupyter-widgets/controls",
      "_view_module_version": "1.5.0",
      "_view_name": "HTMLView",
      "description": "",
      "description_tooltip": null,
      "layout": "IPY_MODEL_d9fa889b616b45d595ebaf2f315dde59",
      "placeholder": "​",
      "style": "IPY_MODEL_2f7e6051c8564916816c4a2764425db5",
      "value": "Downloading tf_model.h5: 100%"
     }
    },
    "6711d981c5c04d949b9a01a65e33fc15": {
     "model_module": "@jupyter-widgets/base",
     "model_module_version": "1.2.0",
     "model_name": "LayoutModel",
     "state": {
      "_model_module": "@jupyter-widgets/base",
      "_model_module_version": "1.2.0",
      "_model_name": "LayoutModel",
      "_view_count": null,
      "_view_module": "@jupyter-widgets/base",
      "_view_module_version": "1.2.0",
      "_view_name": "LayoutView",
      "align_content": null,
      "align_items": null,
      "align_self": null,
      "border": null,
      "bottom": null,
      "display": null,
      "flex": null,
      "flex_flow": null,
      "grid_area": null,
      "grid_auto_columns": null,
      "grid_auto_flow": null,
      "grid_auto_rows": null,
      "grid_column": null,
      "grid_gap": null,
      "grid_row": null,
      "grid_template_areas": null,
      "grid_template_columns": null,
      "grid_template_rows": null,
      "height": null,
      "justify_content": null,
      "justify_items": null,
      "left": null,
      "margin": null,
      "max_height": null,
      "max_width": null,
      "min_height": null,
      "min_width": null,
      "object_fit": null,
      "object_position": null,
      "order": null,
      "overflow": null,
      "overflow_x": null,
      "overflow_y": null,
      "padding": null,
      "right": null,
      "top": null,
      "visibility": null,
      "width": null
     }
    },
    "6af171578639408a84383761f282b246": {
     "model_module": "@jupyter-widgets/base",
     "model_module_version": "1.2.0",
     "model_name": "LayoutModel",
     "state": {
      "_model_module": "@jupyter-widgets/base",
      "_model_module_version": "1.2.0",
      "_model_name": "LayoutModel",
      "_view_count": null,
      "_view_module": "@jupyter-widgets/base",
      "_view_module_version": "1.2.0",
      "_view_name": "LayoutView",
      "align_content": null,
      "align_items": null,
      "align_self": null,
      "border": null,
      "bottom": null,
      "display": null,
      "flex": null,
      "flex_flow": null,
      "grid_area": null,
      "grid_auto_columns": null,
      "grid_auto_flow": null,
      "grid_auto_rows": null,
      "grid_column": null,
      "grid_gap": null,
      "grid_row": null,
      "grid_template_areas": null,
      "grid_template_columns": null,
      "grid_template_rows": null,
      "height": null,
      "justify_content": null,
      "justify_items": null,
      "left": null,
      "margin": null,
      "max_height": null,
      "max_width": null,
      "min_height": null,
      "min_width": null,
      "object_fit": null,
      "object_position": null,
      "order": null,
      "overflow": null,
      "overflow_x": null,
      "overflow_y": null,
      "padding": null,
      "right": null,
      "top": null,
      "visibility": null,
      "width": null
     }
    },
    "70cdbb4307e744ef948ac4a7776cc477": {
     "model_module": "@jupyter-widgets/base",
     "model_module_version": "1.2.0",
     "model_name": "LayoutModel",
     "state": {
      "_model_module": "@jupyter-widgets/base",
      "_model_module_version": "1.2.0",
      "_model_name": "LayoutModel",
      "_view_count": null,
      "_view_module": "@jupyter-widgets/base",
      "_view_module_version": "1.2.0",
      "_view_name": "LayoutView",
      "align_content": null,
      "align_items": null,
      "align_self": null,
      "border": null,
      "bottom": null,
      "display": null,
      "flex": null,
      "flex_flow": null,
      "grid_area": null,
      "grid_auto_columns": null,
      "grid_auto_flow": null,
      "grid_auto_rows": null,
      "grid_column": null,
      "grid_gap": null,
      "grid_row": null,
      "grid_template_areas": null,
      "grid_template_columns": null,
      "grid_template_rows": null,
      "height": null,
      "justify_content": null,
      "justify_items": null,
      "left": null,
      "margin": null,
      "max_height": null,
      "max_width": null,
      "min_height": null,
      "min_width": null,
      "object_fit": null,
      "object_position": null,
      "order": null,
      "overflow": null,
      "overflow_x": null,
      "overflow_y": null,
      "padding": null,
      "right": null,
      "top": null,
      "visibility": null,
      "width": null
     }
    },
    "7101e57ca2ae43fc81c676a32a5f84d5": {
     "model_module": "@jupyter-widgets/base",
     "model_module_version": "1.2.0",
     "model_name": "LayoutModel",
     "state": {
      "_model_module": "@jupyter-widgets/base",
      "_model_module_version": "1.2.0",
      "_model_name": "LayoutModel",
      "_view_count": null,
      "_view_module": "@jupyter-widgets/base",
      "_view_module_version": "1.2.0",
      "_view_name": "LayoutView",
      "align_content": null,
      "align_items": null,
      "align_self": null,
      "border": null,
      "bottom": null,
      "display": null,
      "flex": null,
      "flex_flow": null,
      "grid_area": null,
      "grid_auto_columns": null,
      "grid_auto_flow": null,
      "grid_auto_rows": null,
      "grid_column": null,
      "grid_gap": null,
      "grid_row": null,
      "grid_template_areas": null,
      "grid_template_columns": null,
      "grid_template_rows": null,
      "height": null,
      "justify_content": null,
      "justify_items": null,
      "left": null,
      "margin": null,
      "max_height": null,
      "max_width": null,
      "min_height": null,
      "min_width": null,
      "object_fit": null,
      "object_position": null,
      "order": null,
      "overflow": null,
      "overflow_x": null,
      "overflow_y": null,
      "padding": null,
      "right": null,
      "top": null,
      "visibility": null,
      "width": null
     }
    },
    "713e18aad2374ba6be485b5a408840dc": {
     "model_module": "@jupyter-widgets/controls",
     "model_module_version": "1.5.0",
     "model_name": "ProgressStyleModel",
     "state": {
      "_model_module": "@jupyter-widgets/controls",
      "_model_module_version": "1.5.0",
      "_model_name": "ProgressStyleModel",
      "_view_count": null,
      "_view_module": "@jupyter-widgets/base",
      "_view_module_version": "1.2.0",
      "_view_name": "StyleView",
      "bar_color": null,
      "description_width": ""
     }
    },
    "71cfca7963f54e53bc24a69efe1756c0": {
     "model_module": "@jupyter-widgets/controls",
     "model_module_version": "1.5.0",
     "model_name": "DescriptionStyleModel",
     "state": {
      "_model_module": "@jupyter-widgets/controls",
      "_model_module_version": "1.5.0",
      "_model_name": "DescriptionStyleModel",
      "_view_count": null,
      "_view_module": "@jupyter-widgets/base",
      "_view_module_version": "1.2.0",
      "_view_name": "StyleView",
      "description_width": ""
     }
    },
    "73501f246afb40d1a879c3633fd59a91": {
     "model_module": "@jupyter-widgets/base",
     "model_module_version": "1.2.0",
     "model_name": "LayoutModel",
     "state": {
      "_model_module": "@jupyter-widgets/base",
      "_model_module_version": "1.2.0",
      "_model_name": "LayoutModel",
      "_view_count": null,
      "_view_module": "@jupyter-widgets/base",
      "_view_module_version": "1.2.0",
      "_view_name": "LayoutView",
      "align_content": null,
      "align_items": null,
      "align_self": null,
      "border": null,
      "bottom": null,
      "display": null,
      "flex": null,
      "flex_flow": null,
      "grid_area": null,
      "grid_auto_columns": null,
      "grid_auto_flow": null,
      "grid_auto_rows": null,
      "grid_column": null,
      "grid_gap": null,
      "grid_row": null,
      "grid_template_areas": null,
      "grid_template_columns": null,
      "grid_template_rows": null,
      "height": null,
      "justify_content": null,
      "justify_items": null,
      "left": null,
      "margin": null,
      "max_height": null,
      "max_width": null,
      "min_height": null,
      "min_width": null,
      "object_fit": null,
      "object_position": null,
      "order": null,
      "overflow": null,
      "overflow_x": null,
      "overflow_y": null,
      "padding": null,
      "right": null,
      "top": null,
      "visibility": null,
      "width": null
     }
    },
    "750fee46e614451191dc5e71c50d892f": {
     "model_module": "@jupyter-widgets/controls",
     "model_module_version": "1.5.0",
     "model_name": "HBoxModel",
     "state": {
      "_dom_classes": [],
      "_model_module": "@jupyter-widgets/controls",
      "_model_module_version": "1.5.0",
      "_model_name": "HBoxModel",
      "_view_count": null,
      "_view_module": "@jupyter-widgets/controls",
      "_view_module_version": "1.5.0",
      "_view_name": "HBoxView",
      "box_style": "",
      "children": [
       "IPY_MODEL_7a5bed23c07946ab9d21253693d29c8d",
       "IPY_MODEL_2c5e6ef14a0147399ce89ba46759d597",
       "IPY_MODEL_e6e4ebbc3ce74e4a865c943ace07f293"
      ],
      "layout": "IPY_MODEL_44d2ff6c3e2b459ea67f749eaf43fb6c"
     }
    },
    "784e9ab1a99140f1b74604198b34da20": {
     "model_module": "@jupyter-widgets/base",
     "model_module_version": "1.2.0",
     "model_name": "LayoutModel",
     "state": {
      "_model_module": "@jupyter-widgets/base",
      "_model_module_version": "1.2.0",
      "_model_name": "LayoutModel",
      "_view_count": null,
      "_view_module": "@jupyter-widgets/base",
      "_view_module_version": "1.2.0",
      "_view_name": "LayoutView",
      "align_content": null,
      "align_items": null,
      "align_self": null,
      "border": null,
      "bottom": null,
      "display": null,
      "flex": null,
      "flex_flow": null,
      "grid_area": null,
      "grid_auto_columns": null,
      "grid_auto_flow": null,
      "grid_auto_rows": null,
      "grid_column": null,
      "grid_gap": null,
      "grid_row": null,
      "grid_template_areas": null,
      "grid_template_columns": null,
      "grid_template_rows": null,
      "height": null,
      "justify_content": null,
      "justify_items": null,
      "left": null,
      "margin": null,
      "max_height": null,
      "max_width": null,
      "min_height": null,
      "min_width": null,
      "object_fit": null,
      "object_position": null,
      "order": null,
      "overflow": null,
      "overflow_x": null,
      "overflow_y": null,
      "padding": null,
      "right": null,
      "top": null,
      "visibility": null,
      "width": null
     }
    },
    "7a5bed23c07946ab9d21253693d29c8d": {
     "model_module": "@jupyter-widgets/controls",
     "model_module_version": "1.5.0",
     "model_name": "HTMLModel",
     "state": {
      "_dom_classes": [],
      "_model_module": "@jupyter-widgets/controls",
      "_model_module_version": "1.5.0",
      "_model_name": "HTMLModel",
      "_view_count": null,
      "_view_module": "@jupyter-widgets/controls",
      "_view_module_version": "1.5.0",
      "_view_name": "HTMLView",
      "description": "",
      "description_tooltip": null,
      "layout": "IPY_MODEL_7101e57ca2ae43fc81c676a32a5f84d5",
      "placeholder": "​",
      "style": "IPY_MODEL_4853f88462d747639298a281f5a6fb59",
      "value": "Downloading vocab.json: 100%"
     }
    },
    "93ec4c309811448b90f49d7876381ec6": {
     "model_module": "@jupyter-widgets/controls",
     "model_module_version": "1.5.0",
     "model_name": "DescriptionStyleModel",
     "state": {
      "_model_module": "@jupyter-widgets/controls",
      "_model_module_version": "1.5.0",
      "_model_name": "DescriptionStyleModel",
      "_view_count": null,
      "_view_module": "@jupyter-widgets/base",
      "_view_module_version": "1.2.0",
      "_view_name": "StyleView",
      "description_width": ""
     }
    },
    "949f4cabac6141f086f770080ca7e477": {
     "model_module": "@jupyter-widgets/controls",
     "model_module_version": "1.5.0",
     "model_name": "ProgressStyleModel",
     "state": {
      "_model_module": "@jupyter-widgets/controls",
      "_model_module_version": "1.5.0",
      "_model_name": "ProgressStyleModel",
      "_view_count": null,
      "_view_module": "@jupyter-widgets/base",
      "_view_module_version": "1.2.0",
      "_view_name": "StyleView",
      "bar_color": null,
      "description_width": ""
     }
    },
    "9d83a8642046484584b9ba5d3f7ca43f": {
     "model_module": "@jupyter-widgets/controls",
     "model_module_version": "1.5.0",
     "model_name": "HTMLModel",
     "state": {
      "_dom_classes": [],
      "_model_module": "@jupyter-widgets/controls",
      "_model_module_version": "1.5.0",
      "_model_name": "HTMLModel",
      "_view_count": null,
      "_view_module": "@jupyter-widgets/controls",
      "_view_module_version": "1.5.0",
      "_view_name": "HTMLView",
      "description": "",
      "description_tooltip": null,
      "layout": "IPY_MODEL_6711d981c5c04d949b9a01a65e33fc15",
      "placeholder": "​",
      "style": "IPY_MODEL_d549c7b01b8745258b84948a5172b2a7",
      "value": " 481/481 [00:00&lt;00:00, 12.4kB/s]"
     }
    },
    "a598b6e7595e44d086fd39ed0067438e": {
     "model_module": "@jupyter-widgets/base",
     "model_module_version": "1.2.0",
     "model_name": "LayoutModel",
     "state": {
      "_model_module": "@jupyter-widgets/base",
      "_model_module_version": "1.2.0",
      "_model_name": "LayoutModel",
      "_view_count": null,
      "_view_module": "@jupyter-widgets/base",
      "_view_module_version": "1.2.0",
      "_view_name": "LayoutView",
      "align_content": null,
      "align_items": null,
      "align_self": null,
      "border": null,
      "bottom": null,
      "display": null,
      "flex": null,
      "flex_flow": null,
      "grid_area": null,
      "grid_auto_columns": null,
      "grid_auto_flow": null,
      "grid_auto_rows": null,
      "grid_column": null,
      "grid_gap": null,
      "grid_row": null,
      "grid_template_areas": null,
      "grid_template_columns": null,
      "grid_template_rows": null,
      "height": null,
      "justify_content": null,
      "justify_items": null,
      "left": null,
      "margin": null,
      "max_height": null,
      "max_width": null,
      "min_height": null,
      "min_width": null,
      "object_fit": null,
      "object_position": null,
      "order": null,
      "overflow": null,
      "overflow_x": null,
      "overflow_y": null,
      "padding": null,
      "right": null,
      "top": null,
      "visibility": null,
      "width": null
     }
    },
    "adc921b21d724407a3e3c11f10f3f041": {
     "model_module": "@jupyter-widgets/controls",
     "model_module_version": "1.5.0",
     "model_name": "DescriptionStyleModel",
     "state": {
      "_model_module": "@jupyter-widgets/controls",
      "_model_module_version": "1.5.0",
      "_model_name": "DescriptionStyleModel",
      "_view_count": null,
      "_view_module": "@jupyter-widgets/base",
      "_view_module_version": "1.2.0",
      "_view_name": "StyleView",
      "description_width": ""
     }
    },
    "bb8756ebbe804b3781ef095afb9c70e6": {
     "model_module": "@jupyter-widgets/controls",
     "model_module_version": "1.5.0",
     "model_name": "HBoxModel",
     "state": {
      "_dom_classes": [],
      "_model_module": "@jupyter-widgets/controls",
      "_model_module_version": "1.5.0",
      "_model_name": "HBoxModel",
      "_view_count": null,
      "_view_module": "@jupyter-widgets/controls",
      "_view_module_version": "1.5.0",
      "_view_name": "HBoxView",
      "box_style": "",
      "children": [
       "IPY_MODEL_62424a773ffa4618b7047f12ecea6a33",
       "IPY_MODEL_339eb5c69053450cb40b2390fed82dc8",
       "IPY_MODEL_3f1c8d2b7a1a4b968e05707ab960c05a"
      ],
      "layout": "IPY_MODEL_70cdbb4307e744ef948ac4a7776cc477"
     }
    },
    "bdcbead70fbd4048b8c7254cc8bee209": {
     "model_module": "@jupyter-widgets/controls",
     "model_module_version": "1.5.0",
     "model_name": "FloatProgressModel",
     "state": {
      "_dom_classes": [],
      "_model_module": "@jupyter-widgets/controls",
      "_model_module_version": "1.5.0",
      "_model_name": "FloatProgressModel",
      "_view_count": null,
      "_view_module": "@jupyter-widgets/controls",
      "_view_module_version": "1.5.0",
      "_view_name": "ProgressView",
      "bar_style": "success",
      "description": "",
      "description_tooltip": null,
      "layout": "IPY_MODEL_e8376da1bb7844e681799220cd07e907",
      "max": 481,
      "min": 0,
      "orientation": "horizontal",
      "style": "IPY_MODEL_1700c0dd2c9441998126cceae1f908d0",
      "value": 481
     }
    },
    "be382308104e4bb8b5c537e63b447ed5": {
     "model_module": "@jupyter-widgets/base",
     "model_module_version": "1.2.0",
     "model_name": "LayoutModel",
     "state": {
      "_model_module": "@jupyter-widgets/base",
      "_model_module_version": "1.2.0",
      "_model_name": "LayoutModel",
      "_view_count": null,
      "_view_module": "@jupyter-widgets/base",
      "_view_module_version": "1.2.0",
      "_view_name": "LayoutView",
      "align_content": null,
      "align_items": null,
      "align_self": null,
      "border": null,
      "bottom": null,
      "display": null,
      "flex": null,
      "flex_flow": null,
      "grid_area": null,
      "grid_auto_columns": null,
      "grid_auto_flow": null,
      "grid_auto_rows": null,
      "grid_column": null,
      "grid_gap": null,
      "grid_row": null,
      "grid_template_areas": null,
      "grid_template_columns": null,
      "grid_template_rows": null,
      "height": null,
      "justify_content": null,
      "justify_items": null,
      "left": null,
      "margin": null,
      "max_height": null,
      "max_width": null,
      "min_height": null,
      "min_width": null,
      "object_fit": null,
      "object_position": null,
      "order": null,
      "overflow": null,
      "overflow_x": null,
      "overflow_y": null,
      "padding": null,
      "right": null,
      "top": null,
      "visibility": null,
      "width": null
     }
    },
    "c33b8883802e4d19ba2a5973a4f2004d": {
     "model_module": "@jupyter-widgets/base",
     "model_module_version": "1.2.0",
     "model_name": "LayoutModel",
     "state": {
      "_model_module": "@jupyter-widgets/base",
      "_model_module_version": "1.2.0",
      "_model_name": "LayoutModel",
      "_view_count": null,
      "_view_module": "@jupyter-widgets/base",
      "_view_module_version": "1.2.0",
      "_view_name": "LayoutView",
      "align_content": null,
      "align_items": null,
      "align_self": null,
      "border": null,
      "bottom": null,
      "display": null,
      "flex": null,
      "flex_flow": null,
      "grid_area": null,
      "grid_auto_columns": null,
      "grid_auto_flow": null,
      "grid_auto_rows": null,
      "grid_column": null,
      "grid_gap": null,
      "grid_row": null,
      "grid_template_areas": null,
      "grid_template_columns": null,
      "grid_template_rows": null,
      "height": null,
      "justify_content": null,
      "justify_items": null,
      "left": null,
      "margin": null,
      "max_height": null,
      "max_width": null,
      "min_height": null,
      "min_width": null,
      "object_fit": null,
      "object_position": null,
      "order": null,
      "overflow": null,
      "overflow_x": null,
      "overflow_y": null,
      "padding": null,
      "right": null,
      "top": null,
      "visibility": null,
      "width": null
     }
    },
    "c912c7dc99bf49aa804dd41ccfa02815": {
     "model_module": "@jupyter-widgets/controls",
     "model_module_version": "1.5.0",
     "model_name": "DescriptionStyleModel",
     "state": {
      "_model_module": "@jupyter-widgets/controls",
      "_model_module_version": "1.5.0",
      "_model_name": "DescriptionStyleModel",
      "_view_count": null,
      "_view_module": "@jupyter-widgets/base",
      "_view_module_version": "1.2.0",
      "_view_name": "StyleView",
      "description_width": ""
     }
    },
    "ca7d4d7d0dea47f98cd270038e77d9f9": {
     "model_module": "@jupyter-widgets/controls",
     "model_module_version": "1.5.0",
     "model_name": "FloatProgressModel",
     "state": {
      "_dom_classes": [],
      "_model_module": "@jupyter-widgets/controls",
      "_model_module_version": "1.5.0",
      "_model_name": "FloatProgressModel",
      "_view_count": null,
      "_view_module": "@jupyter-widgets/controls",
      "_view_module_version": "1.5.0",
      "_view_name": "ProgressView",
      "bar_style": "success",
      "description": "",
      "description_tooltip": null,
      "layout": "IPY_MODEL_4cf60483003d4f578b7438a00924bb97",
      "max": 456318,
      "min": 0,
      "orientation": "horizontal",
      "style": "IPY_MODEL_08533ea83a124991a7d158130eb2c2f1",
      "value": 456318
     }
    },
    "d0630809608f4f96a0037596d45635fc": {
     "model_module": "@jupyter-widgets/base",
     "model_module_version": "1.2.0",
     "model_name": "LayoutModel",
     "state": {
      "_model_module": "@jupyter-widgets/base",
      "_model_module_version": "1.2.0",
      "_model_name": "LayoutModel",
      "_view_count": null,
      "_view_module": "@jupyter-widgets/base",
      "_view_module_version": "1.2.0",
      "_view_name": "LayoutView",
      "align_content": null,
      "align_items": null,
      "align_self": null,
      "border": null,
      "bottom": null,
      "display": null,
      "flex": null,
      "flex_flow": null,
      "grid_area": null,
      "grid_auto_columns": null,
      "grid_auto_flow": null,
      "grid_auto_rows": null,
      "grid_column": null,
      "grid_gap": null,
      "grid_row": null,
      "grid_template_areas": null,
      "grid_template_columns": null,
      "grid_template_rows": null,
      "height": null,
      "justify_content": null,
      "justify_items": null,
      "left": null,
      "margin": null,
      "max_height": null,
      "max_width": null,
      "min_height": null,
      "min_width": null,
      "object_fit": null,
      "object_position": null,
      "order": null,
      "overflow": null,
      "overflow_x": null,
      "overflow_y": null,
      "padding": null,
      "right": null,
      "top": null,
      "visibility": null,
      "width": null
     }
    },
    "d549c7b01b8745258b84948a5172b2a7": {
     "model_module": "@jupyter-widgets/controls",
     "model_module_version": "1.5.0",
     "model_name": "DescriptionStyleModel",
     "state": {
      "_model_module": "@jupyter-widgets/controls",
      "_model_module_version": "1.5.0",
      "_model_name": "DescriptionStyleModel",
      "_view_count": null,
      "_view_module": "@jupyter-widgets/base",
      "_view_module_version": "1.2.0",
      "_view_name": "StyleView",
      "description_width": ""
     }
    },
    "d9fa889b616b45d595ebaf2f315dde59": {
     "model_module": "@jupyter-widgets/base",
     "model_module_version": "1.2.0",
     "model_name": "LayoutModel",
     "state": {
      "_model_module": "@jupyter-widgets/base",
      "_model_module_version": "1.2.0",
      "_model_name": "LayoutModel",
      "_view_count": null,
      "_view_module": "@jupyter-widgets/base",
      "_view_module_version": "1.2.0",
      "_view_name": "LayoutView",
      "align_content": null,
      "align_items": null,
      "align_self": null,
      "border": null,
      "bottom": null,
      "display": null,
      "flex": null,
      "flex_flow": null,
      "grid_area": null,
      "grid_auto_columns": null,
      "grid_auto_flow": null,
      "grid_auto_rows": null,
      "grid_column": null,
      "grid_gap": null,
      "grid_row": null,
      "grid_template_areas": null,
      "grid_template_columns": null,
      "grid_template_rows": null,
      "height": null,
      "justify_content": null,
      "justify_items": null,
      "left": null,
      "margin": null,
      "max_height": null,
      "max_width": null,
      "min_height": null,
      "min_width": null,
      "object_fit": null,
      "object_position": null,
      "order": null,
      "overflow": null,
      "overflow_x": null,
      "overflow_y": null,
      "padding": null,
      "right": null,
      "top": null,
      "visibility": null,
      "width": null
     }
    },
    "e6df70e665b54ebe8fc366de2b52cc64": {
     "model_module": "@jupyter-widgets/controls",
     "model_module_version": "1.5.0",
     "model_name": "HTMLModel",
     "state": {
      "_dom_classes": [],
      "_model_module": "@jupyter-widgets/controls",
      "_model_module_version": "1.5.0",
      "_model_name": "HTMLModel",
      "_view_count": null,
      "_view_module": "@jupyter-widgets/controls",
      "_view_module_version": "1.5.0",
      "_view_name": "HTMLView",
      "description": "",
      "description_tooltip": null,
      "layout": "IPY_MODEL_73501f246afb40d1a879c3633fd59a91",
      "placeholder": "​",
      "style": "IPY_MODEL_375b8173fadc4191a7f25494fde329a2",
      "value": " 446k/446k [00:00&lt;00:00, 1.65MB/s]"
     }
    },
    "e6e4ebbc3ce74e4a865c943ace07f293": {
     "model_module": "@jupyter-widgets/controls",
     "model_module_version": "1.5.0",
     "model_name": "HTMLModel",
     "state": {
      "_dom_classes": [],
      "_model_module": "@jupyter-widgets/controls",
      "_model_module_version": "1.5.0",
      "_model_name": "HTMLModel",
      "_view_count": null,
      "_view_module": "@jupyter-widgets/controls",
      "_view_module_version": "1.5.0",
      "_view_name": "HTMLView",
      "description": "",
      "description_tooltip": null,
      "layout": "IPY_MODEL_c33b8883802e4d19ba2a5973a4f2004d",
      "placeholder": "​",
      "style": "IPY_MODEL_71cfca7963f54e53bc24a69efe1756c0",
      "value": " 878k/878k [00:00&lt;00:00, 1.54MB/s]"
     }
    },
    "e8376da1bb7844e681799220cd07e907": {
     "model_module": "@jupyter-widgets/base",
     "model_module_version": "1.2.0",
     "model_name": "LayoutModel",
     "state": {
      "_model_module": "@jupyter-widgets/base",
      "_model_module_version": "1.2.0",
      "_model_name": "LayoutModel",
      "_view_count": null,
      "_view_module": "@jupyter-widgets/base",
      "_view_module_version": "1.2.0",
      "_view_name": "LayoutView",
      "align_content": null,
      "align_items": null,
      "align_self": null,
      "border": null,
      "bottom": null,
      "display": null,
      "flex": null,
      "flex_flow": null,
      "grid_area": null,
      "grid_auto_columns": null,
      "grid_auto_flow": null,
      "grid_auto_rows": null,
      "grid_column": null,
      "grid_gap": null,
      "grid_row": null,
      "grid_template_areas": null,
      "grid_template_columns": null,
      "grid_template_rows": null,
      "height": null,
      "justify_content": null,
      "justify_items": null,
      "left": null,
      "margin": null,
      "max_height": null,
      "max_width": null,
      "min_height": null,
      "min_width": null,
      "object_fit": null,
      "object_position": null,
      "order": null,
      "overflow": null,
      "overflow_x": null,
      "overflow_y": null,
      "padding": null,
      "right": null,
      "top": null,
      "visibility": null,
      "width": null
     }
    }
   }
  }
 },
 "nbformat": 4,
 "nbformat_minor": 1
}
