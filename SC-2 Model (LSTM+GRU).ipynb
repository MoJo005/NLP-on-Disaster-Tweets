{
 "cells": [
  {
   "cell_type": "code",
   "execution_count": 86,
   "metadata": {
    "_cell_guid": "b1076dfc-b9ad-4769-8c92-a6c4dae69d19",
    "_uuid": "8f2839f25d086af736a60e9eeb907d3b93b6e0e5",
    "execution": {
     "iopub.execute_input": "2022-07-23T11:18:33.007419Z",
     "iopub.status.busy": "2022-07-23T11:18:33.006998Z",
     "iopub.status.idle": "2022-07-23T11:18:33.018231Z",
     "shell.execute_reply": "2022-07-23T11:18:33.017035Z",
     "shell.execute_reply.started": "2022-07-23T11:18:33.007382Z"
    }
   },
   "outputs": [],
   "source": [
    "import pandas as pd\n",
    "import numpy as np\n",
    "import matplotlib.pyplot as plt\n",
    "import re\n",
    "import string\n",
    "import nltk\n",
    "from nltk.corpus import stopwords\n",
    "from sklearn.model_selection import train_test_split\n",
    "\n",
    "import warnings\n",
    "warnings.filterwarnings('ignore')\n",
    "from tensorflow.keras.layers import Input,Dense, LSTM, Flatten, Bidirectional, GlobalMaxPool1D, GRU\n",
    "from tensorflow.keras import regularizers\n",
    "from tensorflow.keras.optimizers import Adam\n",
    "import tensorflow as tf\n",
    "from tensorflow.keras.preprocessing.text import Tokenizer\n",
    "from tensorflow.keras.preprocessing.sequence import pad_sequences\n",
    "from sklearn.model_selection import train_test_split\n",
    "import os\n",
    "import keras\n",
    "# from tensorflow.keras.callbacks import EarlyStopping\n",
    "# from tensorflow.keras.callbacks import ModelCheckpoint\n",
    "import datetime\n",
    "# from keras.layers import Dense\n",
    "# from keras.layers import Flatten\n",
    "# from keras.layers import Embedding\n",
    "from keras.layers import Dropout,SpatialDropout1D\n",
    "from keras.regularizers import l2\n",
    "from keras.layers import concatenate, BatchNormalization\n",
    "from keras.models import Model\n",
    "from tensorflow.keras.optimizers import Adam\n",
    "from datetime import time\n",
    "# from keras.callbacks import TensorBoard, ModelCheckpoint\n",
    "from nltk.stem import WordNetLemmatizer\n",
    "from keras.preprocessing import sequence\n",
    "from keras.initializers import he_normal\n",
    "\n",
    "from keras.layers import LeakyReLU\n",
    "\n",
    "import tensorflow_hub as hub\n",
    "import pydot"
   ]
  },
  {
   "cell_type": "code",
   "execution_count": 49,
   "metadata": {
    "execution": {
     "iopub.execute_input": "2022-07-23T11:12:04.296624Z",
     "iopub.status.busy": "2022-07-23T11:12:04.296255Z",
     "iopub.status.idle": "2022-07-23T11:12:04.357200Z",
     "shell.execute_reply": "2022-07-23T11:12:04.356110Z",
     "shell.execute_reply.started": "2022-07-23T11:12:04.296576Z"
    }
   },
   "outputs": [
    {
     "name": "stderr",
     "output_type": "stream",
     "text": [
      "[nltk_data] Downloading package omw-1.4 to /usr/share/nltk_data...\n",
      "[nltk_data]   Package omw-1.4 is already up-to-date!\n"
     ]
    },
    {
     "data": {
      "text/plain": [
       "True"
      ]
     },
     "execution_count": 49,
     "metadata": {},
     "output_type": "execute_result"
    }
   ],
   "source": [
    "nltk.download('omw-1.4')"
   ]
  },
  {
   "cell_type": "code",
   "execution_count": 50,
   "metadata": {
    "execution": {
     "iopub.execute_input": "2022-07-23T11:12:04.974473Z",
     "iopub.status.busy": "2022-07-23T11:12:04.972660Z",
     "iopub.status.idle": "2022-07-23T11:12:05.012642Z",
     "shell.execute_reply": "2022-07-23T11:12:05.011657Z",
     "shell.execute_reply.started": "2022-07-23T11:12:04.974424Z"
    }
   },
   "outputs": [],
   "source": [
    "# importing the data\n",
    "\n",
    "train_df=pd.read_csv('../input/nlp-getting-started/train.csv')\n",
    "test_df=pd.read_csv('../input/nlp-getting-started/test.csv')"
   ]
  },
  {
   "cell_type": "code",
   "execution_count": 51,
   "metadata": {
    "execution": {
     "iopub.execute_input": "2022-07-23T11:12:05.198398Z",
     "iopub.status.busy": "2022-07-23T11:12:05.197740Z",
     "iopub.status.idle": "2022-07-23T11:12:05.203308Z",
     "shell.execute_reply": "2022-07-23T11:12:05.202322Z",
     "shell.execute_reply.started": "2022-07-23T11:12:05.198357Z"
    }
   },
   "outputs": [],
   "source": [
    "# importing the data\n",
    "\n",
    "# train_df=pd.read_csv('train.csv')\n",
    "# test_df=pd.read_csv('test.csv')"
   ]
  },
  {
   "cell_type": "code",
   "execution_count": 52,
   "metadata": {
    "execution": {
     "iopub.execute_input": "2022-07-23T11:12:05.345126Z",
     "iopub.status.busy": "2022-07-23T11:12:05.344121Z",
     "iopub.status.idle": "2022-07-23T11:12:05.352918Z",
     "shell.execute_reply": "2022-07-23T11:12:05.351884Z",
     "shell.execute_reply.started": "2022-07-23T11:12:05.345077Z"
    }
   },
   "outputs": [],
   "source": [
    "train_df=train_df[['text', 'target']]\n",
    "test_df=test_df[['text']]"
   ]
  },
  {
   "cell_type": "code",
   "execution_count": 53,
   "metadata": {
    "execution": {
     "iopub.execute_input": "2022-07-23T11:12:05.691832Z",
     "iopub.status.busy": "2022-07-23T11:12:05.691513Z",
     "iopub.status.idle": "2022-07-23T11:12:05.702264Z",
     "shell.execute_reply": "2022-07-23T11:12:05.701234Z",
     "shell.execute_reply.started": "2022-07-23T11:12:05.691805Z"
    }
   },
   "outputs": [
    {
     "data": {
      "text/html": [
       "<div>\n",
       "<style scoped>\n",
       "    .dataframe tbody tr th:only-of-type {\n",
       "        vertical-align: middle;\n",
       "    }\n",
       "\n",
       "    .dataframe tbody tr th {\n",
       "        vertical-align: top;\n",
       "    }\n",
       "\n",
       "    .dataframe thead th {\n",
       "        text-align: right;\n",
       "    }\n",
       "</style>\n",
       "<table border=\"1\" class=\"dataframe\">\n",
       "  <thead>\n",
       "    <tr style=\"text-align: right;\">\n",
       "      <th></th>\n",
       "      <th>text</th>\n",
       "      <th>target</th>\n",
       "    </tr>\n",
       "  </thead>\n",
       "  <tbody>\n",
       "    <tr>\n",
       "      <th>0</th>\n",
       "      <td>Our Deeds are the Reason of this #earthquake M...</td>\n",
       "      <td>1</td>\n",
       "    </tr>\n",
       "    <tr>\n",
       "      <th>1</th>\n",
       "      <td>Forest fire near La Ronge Sask. Canada</td>\n",
       "      <td>1</td>\n",
       "    </tr>\n",
       "    <tr>\n",
       "      <th>2</th>\n",
       "      <td>All residents asked to 'shelter in place' are ...</td>\n",
       "      <td>1</td>\n",
       "    </tr>\n",
       "    <tr>\n",
       "      <th>3</th>\n",
       "      <td>13,000 people receive #wildfires evacuation or...</td>\n",
       "      <td>1</td>\n",
       "    </tr>\n",
       "    <tr>\n",
       "      <th>4</th>\n",
       "      <td>Just got sent this photo from Ruby #Alaska as ...</td>\n",
       "      <td>1</td>\n",
       "    </tr>\n",
       "  </tbody>\n",
       "</table>\n",
       "</div>"
      ],
      "text/plain": [
       "                                                text  target\n",
       "0  Our Deeds are the Reason of this #earthquake M...       1\n",
       "1             Forest fire near La Ronge Sask. Canada       1\n",
       "2  All residents asked to 'shelter in place' are ...       1\n",
       "3  13,000 people receive #wildfires evacuation or...       1\n",
       "4  Just got sent this photo from Ruby #Alaska as ...       1"
      ]
     },
     "execution_count": 53,
     "metadata": {},
     "output_type": "execute_result"
    }
   ],
   "source": [
    "train_df.head()"
   ]
  },
  {
   "cell_type": "markdown",
   "metadata": {},
   "source": [
    "## Data Preprocessing "
   ]
  },
  {
   "cell_type": "code",
   "execution_count": 54,
   "metadata": {
    "execution": {
     "iopub.execute_input": "2022-07-23T11:12:06.037792Z",
     "iopub.status.busy": "2022-07-23T11:12:06.037103Z",
     "iopub.status.idle": "2022-07-23T11:12:06.044013Z",
     "shell.execute_reply": "2022-07-23T11:12:06.042856Z",
     "shell.execute_reply.started": "2022-07-23T11:12:06.037757Z"
    }
   },
   "outputs": [],
   "source": [
    "# ref - https://stackoverflow.com/questions/19790188/expanding-english-language-contractions-in-python\n",
    "# ref - https://datagy.io/python-remove-punctuation-from-string/#:~:text=One%20of%20the%20easiest%20ways,maketrans()%20method.\n",
    "# ref - https://www.kaggle.com/code/sudalairajkumar/getting-started-with-text-preprocessing\n",
    "# ref - https://stackoverflow.com/questions/33404752/removing-emojis-from-a-string-in-python\n",
    "\n",
    "\n",
    "# Preprocessing steps:\n",
    "# 1) Converting to lower-case\n",
    "# 2) Decontracting the text\n",
    "# 3) Removing URLs\n",
    "# 4) Removing HTMLs\n",
    "# 5) Removing special characters\n",
    "# 6) Removing emojis\n",
    "# 7) Removing Slangs or chat words\n",
    "# 8) Removing stopwords\n",
    "# 9) Lemmatizing the data"
   ]
  },
  {
   "cell_type": "code",
   "execution_count": 55,
   "metadata": {
    "execution": {
     "iopub.execute_input": "2022-07-23T11:12:06.177680Z",
     "iopub.status.busy": "2022-07-23T11:12:06.176559Z",
     "iopub.status.idle": "2022-07-23T11:12:06.190336Z",
     "shell.execute_reply": "2022-07-23T11:12:06.189229Z",
     "shell.execute_reply.started": "2022-07-23T11:12:06.177633Z"
    }
   },
   "outputs": [],
   "source": [
    "# 1 Converting to lower-case\n",
    "def lowercase(text):\n",
    "    return text.lower()\n",
    "\n",
    "# 2 Decontracting the text\n",
    "def decontracted(phrase):\n",
    "    # specific\n",
    "    phrase = re.sub(r\"won\\'t\", \"will not\", phrase)\n",
    "    phrase = re.sub(r\"can\\'t\", \"can not\", phrase)\n",
    "\n",
    "    # general\n",
    "    phrase = re.sub(r\"n\\'t\", \" not\", phrase)\n",
    "    phrase = re.sub(r\"\\'re\", \" are\", phrase)\n",
    "    phrase = re.sub(r\"\\'s\", \" is\", phrase)\n",
    "    phrase = re.sub(r\"\\'d\", \" would\", phrase)\n",
    "    phrase = re.sub(r\"\\'ll\", \" will\", phrase)\n",
    "    phrase = re.sub(r\"\\'t\", \" not\", phrase)\n",
    "    phrase = re.sub(r\"\\'ve\", \" have\", phrase)\n",
    "    phrase = re.sub(r\"\\'m\", \" am\", phrase)\n",
    "    phrase = re.sub(r\"\\'cause\", \" because\", phrase)\n",
    "    phrase = re.sub(r\"let\\'s\", \"let us\", phrase)\n",
    "\n",
    "    return phrase\n",
    "\n",
    "# 3 Removing URLs\n",
    "def remove_url(text):\n",
    "    text= re.sub(r'https?://\\S+|www\\.\\S+', '', text)\n",
    "    return text\n",
    "\n",
    "# 4 Removing HTMLs\n",
    "def remove_html(text):\n",
    "    text=re.sub(r'<.*?>','',text)\n",
    "    return text\n",
    "\n",
    "# 5 Removing special characters\n",
    "punctuations=string.punctuation\n",
    "def remove_punc(text):\n",
    "#     return text.translate(str.maketrans('', '', punctuations))\n",
    "    text=re.sub(r'[^\\w\\s\\d]', '', text)\n",
    "    text =re.sub(r'[^A-za-z0-9\\s]','',text)\n",
    "    return text\n",
    "    \n",
    "# 6 Removing emojis\n",
    "def remove_emoji(text):\n",
    "    emoji_pattern = re.compile(\"[\"\n",
    "            u\"\\U0001F600-\\U0001F64F\"  # emoticons\n",
    "            u\"\\U0001F300-\\U0001F5FF\"  # symbols & pictographs\n",
    "            u\"\\U0001F680-\\U0001F6FF\"  # transport & map symbols\n",
    "            u\"\\U0001F1E0-\\U0001F1FF\"  # flags (iOS)\n",
    "                               \"]+\", flags=re.UNICODE)\n",
    "    text=emoji_pattern.sub(r'', text) # no emoji\n",
    "    return text\n"
   ]
  },
  {
   "cell_type": "code",
   "execution_count": 56,
   "metadata": {
    "execution": {
     "iopub.execute_input": "2022-07-23T11:12:06.357860Z",
     "iopub.status.busy": "2022-07-23T11:12:06.357083Z",
     "iopub.status.idle": "2022-07-23T11:12:06.369859Z",
     "shell.execute_reply": "2022-07-23T11:12:06.368822Z",
     "shell.execute_reply.started": "2022-07-23T11:12:06.357815Z"
    }
   },
   "outputs": [],
   "source": [
    "# 7 Removing Slangs or chat words\n",
    "# Converting slangs and chat words like BRB to Be Right Back, FYI to For Your Information\n",
    "slangs=\"\"\"AFAIK=As Far As I Know\n",
    "AFK=Away From Keyboard\n",
    "ASAP=As Soon As Possible\n",
    "ATK=At The Keyboard\n",
    "ATM=At The Moment\n",
    "A3=Anytime, Anywhere, Anyplace\n",
    "BAK=Back At Keyboard\n",
    "BBL=Be Back Later\n",
    "BBS=Be Back Soon\n",
    "BFN=Bye For Now\n",
    "B4N=Bye For Now\n",
    "BRB=Be Right Back\n",
    "BRT=Be Right There\n",
    "BTW=By The Way\n",
    "B4=Before\n",
    "B4N=Bye For Now\n",
    "CU=See You\n",
    "CUL8R=See You Later\n",
    "CYA=See You\n",
    "FAQ=Frequently Asked Questions\n",
    "FC=Fingers Crossed\n",
    "FWIW=For What It's Worth\n",
    "FYI=For Your Information\n",
    "GAL=Get A Life\n",
    "GG=Good Game\n",
    "GN=Good Night\n",
    "GMTA=Great Minds Think Alike\n",
    "GR8=Great!\n",
    "G9=Genius\n",
    "IC=I See\n",
    "ICQ=I Seek you (also a chat program)\n",
    "ILU=ILU: I Love You\n",
    "IMHO=In My Honest/Humble Opinion\n",
    "IMO=In My Opinion\n",
    "IOW=In Other Words\n",
    "IRL=In Real Life\n",
    "KISS=Keep It Simple, Stupid\n",
    "LDR=Long Distance Relationship\n",
    "LMAO=Laugh My A.. Off\n",
    "LOL=Laughing Out Loud\n",
    "LTNS=Long Time No See\n",
    "L8R=Later\n",
    "MTE=My Thoughts Exactly\n",
    "M8=Mate\n",
    "NRN=No Reply Necessary\n",
    "OIC=Oh I See\n",
    "PITA=Pain In The A..\n",
    "PRT=Party\n",
    "PRW=Parents Are Watching\n",
    "QPSA=Que Pasa?\n",
    "ROFL=Rolling On The Floor Laughing\n",
    "ROFLOL=Rolling On The Floor Laughing Out Loud\n",
    "ROTFLMAO=Rolling On The Floor Laughing My A.. Off\n",
    "SK8=Skate\n",
    "STATS=Your sex and age\n",
    "ASL=Age, Sex, Location\n",
    "THX=Thank You\n",
    "TTFN=Ta-Ta For Now!\n",
    "TTYL=Talk To You Later\n",
    "U=You\n",
    "U2=You Too\n",
    "U4E=Yours For Ever\n",
    "WB=Welcome Back\n",
    "WTF=What The F...\n",
    "WTG=Way To Go!\n",
    "WUF=Where Are You From?\n",
    "W8=Wait...\n",
    "7K=Sick:-D Laugher\n",
    "IG=Instagram\n",
    "FB=Facebook\n",
    "PPL=People\n",
    "R=Are\n",
    "PC=Computer\"\"\"\n",
    "\n",
    "# Making the dictionary of the above strings\n",
    "pattern=re.compile('\\\\n')\n",
    "slangs=pattern.sub(r'  ',slangs)\n",
    "slangs_dict={}\n",
    "for i in slangs.split('  '):\n",
    "    lst=i.split('=')\n",
    "    slangs_dict[lst[0]]=lst[1]\n",
    "\n",
    "def remove_slangs(text):\n",
    "    new_text=[]\n",
    "    for word in text.split():\n",
    "        if word.upper() in slangs_dict:\n",
    "            new_text.append(slangs_dict[word.upper()].lower())\n",
    "        else:\n",
    "            new_text.append(word)\n",
    "    return ' '.join(new_text)\n",
    "\n",
    "\n",
    "# 8 Removing stopwords\n",
    "STOPWORDS=stopwords.words('english')\n",
    "# STOPWORDS.extend(['Ù','ù','ŭ','Ŭ','û','Û','ü','Ü','å','ê','ò'])\n",
    "\n",
    "def remove_stopwords(text):\n",
    "    new_text=[]\n",
    "    for word in text.split():\n",
    "        if word in STOPWORDS:\n",
    "            new_text.append('')\n",
    "        else:\n",
    "            new_text.append(word)\n",
    "    new_text=list(filter(None,new_text))\n",
    "    return ' '.join(new_text)\n",
    "\n"
   ]
  },
  {
   "cell_type": "code",
   "execution_count": 57,
   "metadata": {
    "execution": {
     "iopub.execute_input": "2022-07-23T11:12:06.508407Z",
     "iopub.status.busy": "2022-07-23T11:12:06.507797Z",
     "iopub.status.idle": "2022-07-23T11:12:06.515217Z",
     "shell.execute_reply": "2022-07-23T11:12:06.514120Z",
     "shell.execute_reply.started": "2022-07-23T11:12:06.508367Z"
    }
   },
   "outputs": [],
   "source": [
    "def basic_preprocessing(text):\n",
    "    \n",
    "    text=lowercase(text)           # 1\n",
    "    text=decontracted(text)        # 2    \n",
    "    text=remove_url(text)          # 3\n",
    "    text=remove_html(text)         # 4\n",
    "    text=remove_punc(text)         # 5\n",
    "    text=remove_emoji(text)        # 6\n",
    "    text=remove_slangs(text)       # 7\n",
    "    text=remove_stopwords(text)    # 8\n",
    "    \n",
    "    return text"
   ]
  },
  {
   "cell_type": "code",
   "execution_count": 58,
   "metadata": {
    "execution": {
     "iopub.execute_input": "2022-07-23T11:12:06.689701Z",
     "iopub.status.busy": "2022-07-23T11:12:06.689393Z",
     "iopub.status.idle": "2022-07-23T11:12:07.442604Z",
     "shell.execute_reply": "2022-07-23T11:12:07.441585Z",
     "shell.execute_reply.started": "2022-07-23T11:12:06.689674Z"
    }
   },
   "outputs": [],
   "source": [
    "# preprocessing train data\n",
    "train_df_preprocessed=train_df.copy()\n",
    "train_df_preprocessed['text']=train_df['text'].apply(basic_preprocessing)\n",
    "\n",
    "# preprocessing test data\n",
    "X_test_preprocessed=test_df.copy()\n",
    "X_test_preprocessed['text']=X_test_preprocessed['text'].apply(basic_preprocessing)"
   ]
  },
  {
   "cell_type": "code",
   "execution_count": 59,
   "metadata": {
    "execution": {
     "iopub.execute_input": "2022-07-23T11:12:07.447699Z",
     "iopub.status.busy": "2022-07-23T11:12:07.444574Z",
     "iopub.status.idle": "2022-07-23T11:12:07.456641Z",
     "shell.execute_reply": "2022-07-23T11:12:07.455404Z",
     "shell.execute_reply.started": "2022-07-23T11:12:07.447670Z"
    }
   },
   "outputs": [
    {
     "data": {
      "text/html": [
       "<div>\n",
       "<style scoped>\n",
       "    .dataframe tbody tr th:only-of-type {\n",
       "        vertical-align: middle;\n",
       "    }\n",
       "\n",
       "    .dataframe tbody tr th {\n",
       "        vertical-align: top;\n",
       "    }\n",
       "\n",
       "    .dataframe thead th {\n",
       "        text-align: right;\n",
       "    }\n",
       "</style>\n",
       "<table border=\"1\" class=\"dataframe\">\n",
       "  <thead>\n",
       "    <tr style=\"text-align: right;\">\n",
       "      <th></th>\n",
       "      <th>text</th>\n",
       "      <th>target</th>\n",
       "    </tr>\n",
       "  </thead>\n",
       "  <tbody>\n",
       "    <tr>\n",
       "      <th>0</th>\n",
       "      <td>deeds reason earthquake may allah forgive us</td>\n",
       "      <td>1</td>\n",
       "    </tr>\n",
       "    <tr>\n",
       "      <th>1</th>\n",
       "      <td>forest fire near la ronge sask canada</td>\n",
       "      <td>1</td>\n",
       "    </tr>\n",
       "    <tr>\n",
       "      <th>2</th>\n",
       "      <td>residents asked ishelter place notified office...</td>\n",
       "      <td>1</td>\n",
       "    </tr>\n",
       "    <tr>\n",
       "      <th>3</th>\n",
       "      <td>13000 people receive wildfires evacuation orde...</td>\n",
       "      <td>1</td>\n",
       "    </tr>\n",
       "    <tr>\n",
       "      <th>4</th>\n",
       "      <td>got sent photo ruby alaska smoke wildfires pou...</td>\n",
       "      <td>1</td>\n",
       "    </tr>\n",
       "  </tbody>\n",
       "</table>\n",
       "</div>"
      ],
      "text/plain": [
       "                                                text  target\n",
       "0       deeds reason earthquake may allah forgive us       1\n",
       "1              forest fire near la ronge sask canada       1\n",
       "2  residents asked ishelter place notified office...       1\n",
       "3  13000 people receive wildfires evacuation orde...       1\n",
       "4  got sent photo ruby alaska smoke wildfires pou...       1"
      ]
     },
     "execution_count": 59,
     "metadata": {},
     "output_type": "execute_result"
    }
   ],
   "source": [
    "train_df_preprocessed.head()"
   ]
  },
  {
   "cell_type": "code",
   "execution_count": 60,
   "metadata": {
    "execution": {
     "iopub.execute_input": "2022-07-23T11:12:07.459020Z",
     "iopub.status.busy": "2022-07-23T11:12:07.458365Z",
     "iopub.status.idle": "2022-07-23T11:12:11.269106Z",
     "shell.execute_reply": "2022-07-23T11:12:11.268183Z",
     "shell.execute_reply.started": "2022-07-23T11:12:07.458952Z"
    }
   },
   "outputs": [],
   "source": [
    "## Lemmatizing the text\n",
    "lemmatizer=WordNetLemmatizer()\n",
    "train_df_preprocessed['text']=train_df_preprocessed['text'].apply((lambda x: [lemmatizer.lemmatize(word) for word in x])).apply(lambda x: ''.join(x))\n",
    "X_test_preprocessed['text']=X_test_preprocessed['text'].apply((lambda x: [lemmatizer.lemmatize(word) for word in x])).apply(lambda x: ''.join(x))"
   ]
  },
  {
   "cell_type": "code",
   "execution_count": 61,
   "metadata": {
    "execution": {
     "iopub.execute_input": "2022-07-23T11:12:11.271794Z",
     "iopub.status.busy": "2022-07-23T11:12:11.271421Z",
     "iopub.status.idle": "2022-07-23T11:12:11.280744Z",
     "shell.execute_reply": "2022-07-23T11:12:11.279552Z",
     "shell.execute_reply.started": "2022-07-23T11:12:11.271758Z"
    }
   },
   "outputs": [
    {
     "data": {
      "text/plain": [
       "0            deeds reason earthquake may allah forgive us\n",
       "1                   forest fire near la ronge sask canada\n",
       "2       residents asked ishelter place notified office...\n",
       "3       13000 people receive wildfires evacuation orde...\n",
       "4       got sent photo ruby alaska smoke wildfires pou...\n",
       "                              ...                        \n",
       "7608    two giant cranes holding bridge collapse nearb...\n",
       "7609    aria_ahrary thetawniest control wild fires cal...\n",
       "7610                      m194 0104 utc5km volcano hawaii\n",
       "7611    police investigating ebike collided car little...\n",
       "7612    latest homes razed northern california wildfir...\n",
       "Name: text, Length: 7613, dtype: object"
      ]
     },
     "execution_count": 61,
     "metadata": {},
     "output_type": "execute_result"
    }
   ],
   "source": [
    "train_df_preprocessed['text']"
   ]
  },
  {
   "cell_type": "code",
   "execution_count": 62,
   "metadata": {
    "execution": {
     "iopub.execute_input": "2022-07-23T11:12:11.283269Z",
     "iopub.status.busy": "2022-07-23T11:12:11.282482Z",
     "iopub.status.idle": "2022-07-23T11:12:11.292306Z",
     "shell.execute_reply": "2022-07-23T11:12:11.291342Z",
     "shell.execute_reply.started": "2022-07-23T11:12:11.283232Z"
    }
   },
   "outputs": [
    {
     "data": {
      "text/plain": [
       "0                             happened terrible car crash\n",
       "1       heard earthquake different cities stay safe ev...\n",
       "2       forest fire spot pond geese fleeing across str...\n",
       "3                   apocalypse lighting spokane wildfires\n",
       "4                  typhoon soudelor kills 28 china taiwan\n",
       "                              ...                        \n",
       "3258    earthquake safety los angeles safety fasteners...\n",
       "3259    storm ri worse last hurricane cityamp3others h...\n",
       "3260                        green line derailment chicago\n",
       "3261             meg issues hazardous weather outlook hwo\n",
       "3262    cityofcalgary activated municipal emergency pl...\n",
       "Name: text, Length: 3263, dtype: object"
      ]
     },
     "execution_count": 62,
     "metadata": {},
     "output_type": "execute_result"
    }
   ],
   "source": [
    "X_test_preprocessed['text']"
   ]
  },
  {
   "cell_type": "code",
   "execution_count": 63,
   "metadata": {
    "execution": {
     "iopub.execute_input": "2022-07-23T11:12:13.341280Z",
     "iopub.status.busy": "2022-07-23T11:12:13.340922Z",
     "iopub.status.idle": "2022-07-23T11:12:13.359072Z",
     "shell.execute_reply": "2022-07-23T11:12:13.358163Z",
     "shell.execute_reply.started": "2022-07-23T11:12:13.341251Z"
    }
   },
   "outputs": [
    {
     "name": "stdout",
     "output_type": "stream",
     "text": [
      "(6090,) (6090,)\n",
      "(1523,) (1523,)\n",
      "(3263, 1)\n"
     ]
    }
   ],
   "source": [
    "X=train_df_preprocessed[['text']]\n",
    "y=train_df_preprocessed['target']\n",
    "\n",
    "# Splitting the train data into train and cv\n",
    "\n",
    "X_train, X_val, y_train, y_val = train_test_split(X['text'], y, test_size=0.2, stratify=y, random_state=1)\n",
    "\n",
    "print(X_train.shape, y_train.shape)\n",
    "print(X_val.shape, y_val.shape)\n",
    "print(X_test_preprocessed.shape)"
   ]
  },
  {
   "cell_type": "code",
   "execution_count": 64,
   "metadata": {
    "execution": {
     "iopub.execute_input": "2022-07-23T11:12:16.101956Z",
     "iopub.status.busy": "2022-07-23T11:12:16.101619Z",
     "iopub.status.idle": "2022-07-23T11:12:16.116135Z",
     "shell.execute_reply": "2022-07-23T11:12:16.114888Z",
     "shell.execute_reply.started": "2022-07-23T11:12:16.101925Z"
    }
   },
   "outputs": [],
   "source": [
    "# Converting the data into formats accepted by Tensorflow\n",
    "\n",
    "X_train=np.asarray(X_train)\n",
    "X_val=np.asarray(X_val)\n",
    "X_test=np.asarray(X_test_preprocessed['text'].tolist())\n",
    "\n",
    "y_train=np.asarray(y_train)\n",
    "y_val=np.asarray(y_val)\n",
    "\n",
    "train_ds=tf.data.Dataset.from_tensor_slices((X_train, y_train))\n",
    "val_ds=tf.data.Dataset.from_tensor_slices((X_val, y_val))"
   ]
  },
  {
   "cell_type": "code",
   "execution_count": 65,
   "metadata": {
    "execution": {
     "iopub.execute_input": "2022-07-23T11:12:18.723775Z",
     "iopub.status.busy": "2022-07-23T11:12:18.722748Z",
     "iopub.status.idle": "2022-07-23T11:12:18.736500Z",
     "shell.execute_reply": "2022-07-23T11:12:18.735096Z",
     "shell.execute_reply.started": "2022-07-23T11:12:18.723716Z"
    }
   },
   "outputs": [
    {
     "name": "stdout",
     "output_type": "stream",
     "text": [
      "tf.Tensor(b'dk eyewitness travel guide denmark travel guide ebay auctions keep eye', shape=(), dtype=string) tf.Tensor(0, shape=(), dtype=int64)\n",
      "\n",
      "tf.Tensor(b'usatoday today frontpage bioterror lab faced secret sanctions rickperry make cut foxnew_', shape=(), dtype=string) tf.Tensor(1, shape=(), dtype=int64)\n",
      "\n"
     ]
    }
   ],
   "source": [
    "count=0\n",
    "\n",
    "for text,label in train_ds:\n",
    "    print(text, label)\n",
    "    count+=1\n",
    "    print()\n",
    "    if count==2:\n",
    "        break"
   ]
  },
  {
   "cell_type": "markdown",
   "metadata": {},
   "source": [
    "# Modelling "
   ]
  },
  {
   "cell_type": "markdown",
   "metadata": {},
   "source": [
    "### Embedding Layer"
   ]
  },
  {
   "cell_type": "code",
   "execution_count": 66,
   "metadata": {
    "execution": {
     "iopub.execute_input": "2022-07-23T11:12:28.094236Z",
     "iopub.status.busy": "2022-07-23T11:12:28.093829Z",
     "iopub.status.idle": "2022-07-23T11:12:28.099160Z",
     "shell.execute_reply": "2022-07-23T11:12:28.098244Z",
     "shell.execute_reply.started": "2022-07-23T11:12:28.094193Z"
    }
   },
   "outputs": [],
   "source": [
    "## ref - https://www.tensorflow.org/tutorials/keras/text_classification_with_hub"
   ]
  },
  {
   "cell_type": "code",
   "execution_count": 67,
   "metadata": {
    "execution": {
     "iopub.execute_input": "2022-07-23T11:12:31.581761Z",
     "iopub.status.busy": "2022-07-23T11:12:31.580625Z",
     "iopub.status.idle": "2022-07-23T11:12:32.295417Z",
     "shell.execute_reply": "2022-07-23T11:12:32.294214Z",
     "shell.execute_reply.started": "2022-07-23T11:12:31.581715Z"
    }
   },
   "outputs": [
    {
     "data": {
      "text/plain": [
       "<tf.Tensor: shape=(1, 50), dtype=float32, numpy=\n",
       "array([[-0.05420109, -0.0607433 , -0.35441524, -0.19294822, -0.2953102 ,\n",
       "        -0.09714822,  0.13874832, -0.00815275, -0.26929152, -0.0566027 ,\n",
       "         0.35724583,  0.26540744,  0.06549239,  0.06581312, -0.11541183,\n",
       "        -0.11294115,  0.05360693, -0.01213817,  0.05058906,  0.050937  ,\n",
       "        -0.20074105, -0.03912703,  0.04422737,  0.04506093, -0.11231333,\n",
       "         0.19723001, -0.33895952, -0.08257832,  0.0049157 ,  0.13493493,\n",
       "         0.17341818,  0.16783683, -0.26365295, -0.06455462, -0.20987959,\n",
       "        -0.227714  , -0.18767859,  0.04590833, -0.08284207,  0.14492832,\n",
       "         0.09737632,  0.09323228,  0.15853117,  0.13372202,  0.00984292,\n",
       "        -0.05737573, -0.16993521,  0.06093611,  0.47915918,  0.6256706 ]],\n",
       "      dtype=float32)>"
      ]
     },
     "execution_count": 67,
     "metadata": {},
     "output_type": "execute_result"
    }
   ],
   "source": [
    "embedding = \"https://tfhub.dev/google/nnlm-en-dim50/2\"\n",
    "# embedding= \"https://tfhub.dev/google/tf2-preview/gnews-swivel-20dim-with-oov/1\"\n",
    "hub_layer = hub.KerasLayer(embedding, input_shape=[],\n",
    "                          dtype=tf.string, trainable=True)\n",
    "\n",
    "hub_layer(X_train[:1])"
   ]
  },
  {
   "cell_type": "markdown",
   "metadata": {},
   "source": [
    "## 1) Bidirectional LSTM "
   ]
  },
  {
   "cell_type": "code",
   "execution_count": 153,
   "metadata": {
    "execution": {
     "iopub.execute_input": "2022-07-23T11:46:27.777939Z",
     "iopub.status.busy": "2022-07-23T11:46:27.777592Z",
     "iopub.status.idle": "2022-07-23T11:46:28.232768Z",
     "shell.execute_reply": "2022-07-23T11:46:28.231836Z",
     "shell.execute_reply.started": "2022-07-23T11:46:27.777908Z"
    }
   },
   "outputs": [],
   "source": [
    "model_bi_lstm = tf.keras.Sequential()\n",
    "model_bi_lstm.add(hub_layer)\n",
    "model_bi_lstm.add(tf.keras.layers.Reshape((50, 1)))   ## Embeddings are of dimension 50 \n",
    "model_bi_lstm.add(Bidirectional(LSTM(64, return_sequences=True)))\n",
    "model_bi_lstm.add(Flatten())\n",
    "model_bi_lstm.add(Dropout(0.5))\n",
    "model_bi_lstm.add(Dense(16, activation='relu', kernel_regularizer=regularizers.l2(0.01)))\n",
    "model_bi_lstm.add(Dropout(0.4))\n",
    "model_bi_lstm.add(Dense(4, activation='relu', kernel_regularizer=regularizers.l2(0.01)))\n",
    "model_bi_lstm.add(Dropout(0.4))\n",
    "model_bi_lstm.add(Dense(1,activation = 'sigmoid'))"
   ]
  },
  {
   "cell_type": "code",
   "execution_count": 154,
   "metadata": {
    "execution": {
     "iopub.execute_input": "2022-07-23T11:46:29.453542Z",
     "iopub.status.busy": "2022-07-23T11:46:29.452624Z",
     "iopub.status.idle": "2022-07-23T11:46:29.462245Z",
     "shell.execute_reply": "2022-07-23T11:46:29.461073Z",
     "shell.execute_reply.started": "2022-07-23T11:46:29.453480Z"
    }
   },
   "outputs": [
    {
     "name": "stdout",
     "output_type": "stream",
     "text": [
      "Model: \"sequential_24\"\n",
      "_________________________________________________________________\n",
      "Layer (type)                 Output Shape              Param #   \n",
      "=================================================================\n",
      "keras_layer_1 (KerasLayer)   (None, 50)                48190600  \n",
      "_________________________________________________________________\n",
      "reshape_22 (Reshape)         (None, 50, 1)             0         \n",
      "_________________________________________________________________\n",
      "bidirectional_28 (Bidirectio (None, 50, 128)           33792     \n",
      "_________________________________________________________________\n",
      "flatten_17 (Flatten)         (None, 6400)              0         \n",
      "_________________________________________________________________\n",
      "dropout_55 (Dropout)         (None, 6400)              0         \n",
      "_________________________________________________________________\n",
      "dense_55 (Dense)             (None, 16)                102416    \n",
      "_________________________________________________________________\n",
      "dropout_56 (Dropout)         (None, 16)                0         \n",
      "_________________________________________________________________\n",
      "dense_56 (Dense)             (None, 4)                 68        \n",
      "_________________________________________________________________\n",
      "dropout_57 (Dropout)         (None, 4)                 0         \n",
      "_________________________________________________________________\n",
      "dense_57 (Dense)             (None, 1)                 5         \n",
      "=================================================================\n",
      "Total params: 48,326,881\n",
      "Trainable params: 48,326,881\n",
      "Non-trainable params: 0\n",
      "_________________________________________________________________\n"
     ]
    }
   ],
   "source": [
    "model_bi_lstm.summary()"
   ]
  },
  {
   "cell_type": "code",
   "execution_count": 155,
   "metadata": {
    "execution": {
     "iopub.execute_input": "2022-07-23T11:46:31.029808Z",
     "iopub.status.busy": "2022-07-23T11:46:31.029103Z",
     "iopub.status.idle": "2022-07-23T11:46:31.041857Z",
     "shell.execute_reply": "2022-07-23T11:46:31.040632Z",
     "shell.execute_reply.started": "2022-07-23T11:46:31.029770Z"
    }
   },
   "outputs": [],
   "source": [
    "model_bi_lstm.compile(loss=tf.keras.losses.BinaryCrossentropy(), optimizer='adam', metrics=['Accuracy'])"
   ]
  },
  {
   "cell_type": "code",
   "execution_count": 156,
   "metadata": {
    "execution": {
     "iopub.execute_input": "2022-07-23T11:46:33.015117Z",
     "iopub.status.busy": "2022-07-23T11:46:33.014761Z",
     "iopub.status.idle": "2022-07-23T11:46:33.019597Z",
     "shell.execute_reply": "2022-07-23T11:46:33.018409Z",
     "shell.execute_reply.started": "2022-07-23T11:46:33.015083Z"
    }
   },
   "outputs": [],
   "source": [
    "# tf.keras.utils.plot_model(model, \"simple_model.png\", show_shapes=True )"
   ]
  },
  {
   "cell_type": "code",
   "execution_count": 157,
   "metadata": {
    "execution": {
     "iopub.execute_input": "2022-07-23T11:46:33.729413Z",
     "iopub.status.busy": "2022-07-23T11:46:33.728569Z",
     "iopub.status.idle": "2022-07-23T11:46:47.903655Z",
     "shell.execute_reply": "2022-07-23T11:46:47.902654Z",
     "shell.execute_reply.started": "2022-07-23T11:46:33.729373Z"
    }
   },
   "outputs": [
    {
     "name": "stdout",
     "output_type": "stream",
     "text": [
      "Epoch 1/10\n",
      "48/48 [==============================] - 4s 36ms/step - loss: 0.4704 - Accuracy: 0.8703 - val_loss: 1.1394 - val_Accuracy: 0.7551\n",
      "Epoch 2/10\n",
      "48/48 [==============================] - 1s 24ms/step - loss: 0.2724 - Accuracy: 0.8970 - val_loss: 1.0589 - val_Accuracy: 0.7367\n",
      "Epoch 3/10\n",
      "48/48 [==============================] - 1s 24ms/step - loss: 0.2446 - Accuracy: 0.8979 - val_loss: 1.2409 - val_Accuracy: 0.7584\n",
      "Epoch 4/10\n",
      "48/48 [==============================] - 1s 22ms/step - loss: 0.2202 - Accuracy: 0.8989 - val_loss: 1.6000 - val_Accuracy: 0.7610\n",
      "Epoch 5/10\n",
      "48/48 [==============================] - 1s 25ms/step - loss: 0.2114 - Accuracy: 0.8992 - val_loss: 1.5839 - val_Accuracy: 0.7078\n",
      "Epoch 6/10\n",
      "48/48 [==============================] - 1s 22ms/step - loss: 0.2047 - Accuracy: 0.9021 - val_loss: 1.4914 - val_Accuracy: 0.7387\n",
      "Epoch 7/10\n",
      "48/48 [==============================] - 1s 22ms/step - loss: 0.1835 - Accuracy: 0.9092 - val_loss: 1.6271 - val_Accuracy: 0.7564\n",
      "Epoch 8/10\n",
      "48/48 [==============================] - 1s 21ms/step - loss: 0.1759 - Accuracy: 0.9138 - val_loss: 2.2500 - val_Accuracy: 0.7557\n",
      "Epoch 9/10\n",
      "48/48 [==============================] - 1s 22ms/step - loss: 0.1722 - Accuracy: 0.9171 - val_loss: 1.6768 - val_Accuracy: 0.7551\n",
      "Epoch 10/10\n",
      "48/48 [==============================] - 1s 22ms/step - loss: 0.1830 - Accuracy: 0.9161 - val_loss: 1.5411 - val_Accuracy: 0.7577\n"
     ]
    }
   ],
   "source": [
    "epochs =10\n",
    "results_bi_lstm=model_bi_lstm.fit(X_train, y_train, batch_size=128,\n",
    "                 epochs=epochs,\n",
    "                 validation_data=(X_val,y_val),\n",
    "                 verbose=1)"
   ]
  },
  {
   "cell_type": "code",
   "execution_count": 118,
   "metadata": {
    "execution": {
     "iopub.execute_input": "2022-07-23T11:32:08.871838Z",
     "iopub.status.busy": "2022-07-23T11:32:08.871097Z",
     "iopub.status.idle": "2022-07-23T11:32:09.195619Z",
     "shell.execute_reply": "2022-07-23T11:32:09.194514Z",
     "shell.execute_reply.started": "2022-07-23T11:32:08.871800Z"
    }
   },
   "outputs": [
    {
     "name": "stdout",
     "output_type": "stream",
     "text": [
      "48/48 [==============================] - 0s 6ms/step - loss: 1.2445 - Accuracy: 0.7446\n"
     ]
    },
    {
     "data": {
      "text/plain": [
       "[1.2445424795150757, 0.7445830702781677]"
      ]
     },
     "execution_count": 118,
     "metadata": {},
     "output_type": "execute_result"
    }
   ],
   "source": [
    "model_bi_lstm.evaluate(X_val,y_val)"
   ]
  },
  {
   "cell_type": "code",
   "execution_count": 119,
   "metadata": {
    "execution": {
     "iopub.execute_input": "2022-07-23T11:32:12.010679Z",
     "iopub.status.busy": "2022-07-23T11:32:12.009871Z",
     "iopub.status.idle": "2022-07-23T11:32:12.400126Z",
     "shell.execute_reply": "2022-07-23T11:32:12.399088Z",
     "shell.execute_reply.started": "2022-07-23T11:32:12.010639Z"
    }
   },
   "outputs": [
    {
     "data": {
      "image/png": "[encoded data removed]",
      "text/plain": [
       "<Figure size 1152x432 with 2 Axes>"
      ]
     },
     "metadata": {
      "needs_background": "light"
     },
     "output_type": "display_data"
    }
   ],
   "source": [
    "plt.figure(figsize=(16,6))\n",
    "## Loss vs Epochs for train and validation data\n",
    "plt.subplot(1,2,1)\n",
    "plt.plot(results_bi_lstm.history['loss'], label='training data')\n",
    "plt.plot(results_bi_lstm.history['val_loss'], label='validation data')\n",
    "plt.title('Loss for Text Classification')\n",
    "plt.ylabel('Loss value')\n",
    "plt.xlabel('No. epoch')\n",
    "plt.legend(loc=\"upper left\")\n",
    "\n",
    "\n",
    "## Accuracy vs Epochs for train and validation data\n",
    "plt.subplot(1,2,2)\n",
    "plt.plot(results_bi_lstm.history['Accuracy'], label=' training data')\n",
    "plt.plot(results_bi_lstm.history['val_Accuracy'], label='validation data')\n",
    "plt.title('Accuracy for Text Classification')\n",
    "plt.ylabel('Accuracy value')\n",
    "plt.xlabel('No. epoch')\n",
    "plt.legend(loc=\"upper left\")\n",
    "\n",
    "plt.show()"
   ]
  },
  {
   "cell_type": "markdown",
   "metadata": {},
   "source": [
    "## 2) GRU"
   ]
  },
  {
   "cell_type": "code",
   "execution_count": 149,
   "metadata": {
    "execution": {
     "iopub.execute_input": "2022-07-23T11:45:14.501464Z",
     "iopub.status.busy": "2022-07-23T11:45:14.500565Z",
     "iopub.status.idle": "2022-07-23T11:45:14.929978Z",
     "shell.execute_reply": "2022-07-23T11:45:14.929008Z",
     "shell.execute_reply.started": "2022-07-23T11:45:14.501424Z"
    }
   },
   "outputs": [],
   "source": [
    "model_gru = tf.keras.Sequential()\n",
    "model_gru.add(hub_layer)\n",
    "model_gru.add(tf.keras.layers.Reshape((50, 1)))    ## Embeddings are of dimension 50\n",
    "model_gru.add(Bidirectional(GRU(100, return_sequences=True)))\n",
    "model.add(Flatten())\n",
    "model_bi_lstm.add(Dropout(0.5))\n",
    "model_gru.add(Dense(6, activation='relu', kernel_regularizer=regularizers.l2(0.01)))\n",
    "model_gru.add(Dropout(0.4))\n",
    "model_gru.add(Dense(4, activation='relu', kernel_regularizer=regularizers.l2(0.01)))\n",
    "model_gru.add(Dropout(0.4))\n",
    "model_gru.add(Dense(1,activation = 'sigmoid'))"
   ]
  },
  {
   "cell_type": "code",
   "execution_count": 150,
   "metadata": {
    "execution": {
     "iopub.execute_input": "2022-07-23T11:45:16.402114Z",
     "iopub.status.busy": "2022-07-23T11:45:16.401168Z",
     "iopub.status.idle": "2022-07-23T11:45:16.409161Z",
     "shell.execute_reply": "2022-07-23T11:45:16.408155Z",
     "shell.execute_reply.started": "2022-07-23T11:45:16.402072Z"
    }
   },
   "outputs": [
    {
     "name": "stdout",
     "output_type": "stream",
     "text": [
      "Model: \"sequential_23\"\n",
      "_________________________________________________________________\n",
      "Layer (type)                 Output Shape              Param #   \n",
      "=================================================================\n",
      "keras_layer_1 (KerasLayer)   (None, 50)                48190600  \n",
      "_________________________________________________________________\n",
      "reshape_21 (Reshape)         (None, 50, 1)             0         \n",
      "_________________________________________________________________\n",
      "bidirectional_27 (Bidirectio (None, 50, 200)           61800     \n",
      "_________________________________________________________________\n",
      "dense_52 (Dense)             (None, 50, 6)             1206      \n",
      "_________________________________________________________________\n",
      "dropout_53 (Dropout)         (None, 50, 6)             0         \n",
      "_________________________________________________________________\n",
      "dense_53 (Dense)             (None, 50, 4)             28        \n",
      "_________________________________________________________________\n",
      "dropout_54 (Dropout)         (None, 50, 4)             0         \n",
      "_________________________________________________________________\n",
      "dense_54 (Dense)             (None, 50, 1)             5         \n",
      "=================================================================\n",
      "Total params: 48,253,639\n",
      "Trainable params: 48,253,639\n",
      "Non-trainable params: 0\n",
      "_________________________________________________________________\n"
     ]
    }
   ],
   "source": [
    "model_gru.summary()"
   ]
  },
  {
   "cell_type": "code",
   "execution_count": 151,
   "metadata": {
    "execution": {
     "iopub.execute_input": "2022-07-23T11:45:17.921238Z",
     "iopub.status.busy": "2022-07-23T11:45:17.920542Z",
     "iopub.status.idle": "2022-07-23T11:45:17.932790Z",
     "shell.execute_reply": "2022-07-23T11:45:17.931692Z",
     "shell.execute_reply.started": "2022-07-23T11:45:17.921198Z"
    }
   },
   "outputs": [],
   "source": [
    "model_gru.compile(loss=tf.keras.losses.BinaryCrossentropy(), optimizer='adam', metrics=['Accuracy'])"
   ]
  },
  {
   "cell_type": "code",
   "execution_count": 152,
   "metadata": {
    "execution": {
     "iopub.execute_input": "2022-07-23T11:45:19.646221Z",
     "iopub.status.busy": "2022-07-23T11:45:19.645601Z",
     "iopub.status.idle": "2022-07-23T11:45:34.768233Z",
     "shell.execute_reply": "2022-07-23T11:45:34.767089Z",
     "shell.execute_reply.started": "2022-07-23T11:45:19.646162Z"
    }
   },
   "outputs": [
    {
     "name": "stdout",
     "output_type": "stream",
     "text": [
      "Epoch 1/10\n",
      "48/48 [==============================] - 5s 37ms/step - loss: 0.7661 - Accuracy: 0.6908 - val_loss: 0.7482 - val_Accuracy: 0.6335\n",
      "Epoch 2/10\n",
      "48/48 [==============================] - 1s 26ms/step - loss: 0.6191 - Accuracy: 0.8431 - val_loss: 0.7219 - val_Accuracy: 0.7182\n",
      "Epoch 3/10\n",
      "48/48 [==============================] - 1s 24ms/step - loss: 0.5452 - Accuracy: 0.8738 - val_loss: 0.6450 - val_Accuracy: 0.7442\n",
      "Epoch 4/10\n",
      "48/48 [==============================] - 1s 24ms/step - loss: 0.5347 - Accuracy: 0.8568 - val_loss: 0.8074 - val_Accuracy: 0.7251\n",
      "Epoch 5/10\n",
      "48/48 [==============================] - 1s 23ms/step - loss: 0.4885 - Accuracy: 0.8832 - val_loss: 0.7967 - val_Accuracy: 0.7401\n",
      "Epoch 6/10\n",
      "48/48 [==============================] - 1s 24ms/step - loss: 0.4981 - Accuracy: 0.8582 - val_loss: 0.6834 - val_Accuracy: 0.7410\n",
      "Epoch 7/10\n",
      "48/48 [==============================] - 1s 23ms/step - loss: 0.4829 - Accuracy: 0.8687 - val_loss: 0.7481 - val_Accuracy: 0.7436\n",
      "Epoch 8/10\n",
      "48/48 [==============================] - 1s 24ms/step - loss: 0.4569 - Accuracy: 0.8835 - val_loss: 0.7298 - val_Accuracy: 0.7541\n",
      "Epoch 9/10\n",
      "48/48 [==============================] - 1s 24ms/step - loss: 0.4381 - Accuracy: 0.8864 - val_loss: 0.7257 - val_Accuracy: 0.7603\n",
      "Epoch 10/10\n",
      "48/48 [==============================] - 1s 28ms/step - loss: 0.4256 - Accuracy: 0.8866 - val_loss: 0.7080 - val_Accuracy: 0.7617\n"
     ]
    }
   ],
   "source": [
    "epochs =10\n",
    "results_gru=model_gru.fit(X_train, y_train, batch_size=128,\n",
    "                 epochs=epochs,\n",
    "                 validation_data=(X_val,y_val),\n",
    "                 verbose=1)"
   ]
  },
  {
   "cell_type": "code",
   "execution_count": 83,
   "metadata": {
    "execution": {
     "iopub.execute_input": "2022-07-23T11:15:33.300850Z",
     "iopub.status.busy": "2022-07-23T11:15:33.300310Z",
     "iopub.status.idle": "2022-07-23T11:15:33.662224Z",
     "shell.execute_reply": "2022-07-23T11:15:33.661150Z",
     "shell.execute_reply.started": "2022-07-23T11:15:33.300806Z"
    }
   },
   "outputs": [
    {
     "name": "stdout",
     "output_type": "stream",
     "text": [
      "48/48 [==============================] - 0s 6ms/step - loss: 0.9834 - Accuracy: 0.7544\n"
     ]
    },
    {
     "data": {
      "text/plain": [
       "[0.9833686351776123, 0.7544320225715637]"
      ]
     },
     "execution_count": 83,
     "metadata": {},
     "output_type": "execute_result"
    }
   ],
   "source": [
    "model_gru.evaluate(X_val,y_val)"
   ]
  },
  {
   "cell_type": "code",
   "execution_count": 85,
   "metadata": {
    "execution": {
     "iopub.execute_input": "2022-07-23T11:15:47.677729Z",
     "iopub.status.busy": "2022-07-23T11:15:47.677090Z",
     "iopub.status.idle": "2022-07-23T11:15:48.128193Z",
     "shell.execute_reply": "2022-07-23T11:15:48.127227Z",
     "shell.execute_reply.started": "2022-07-23T11:15:47.677689Z"
    }
   },
   "outputs": [
    {
     "data": {
      "image/png": "[encoded data removed]",
      "text/plain": [
       "<Figure size 1152x432 with 2 Axes>"
      ]
     },
     "metadata": {
      "needs_background": "light"
     },
     "output_type": "display_data"
    }
   ],
   "source": [
    "plt.figure(figsize=(16,6))\n",
    "## Loss vs Epochs for train and validation data\n",
    "plt.subplot(1,2,1)\n",
    "plt.plot(results_gru.history['loss'], label='training data')\n",
    "plt.plot(results_gru.history['val_loss'], label='validation data')\n",
    "plt.title('Loss for Text Classification')\n",
    "plt.ylabel('Loss value')\n",
    "plt.xlabel('No. epoch')\n",
    "plt.legend(loc=\"upper left\")\n",
    "\n",
    "\n",
    "## Accuracy vs Epochs for train and validation data\n",
    "plt.subplot(1,2,2)\n",
    "plt.plot(results_gru.history['Accuracy'], label=' training data')\n",
    "plt.plot(results_gru.history['val_Accuracy'], label='validation data')\n",
    "plt.title('Accuracy for Text Classification')\n",
    "plt.ylabel('Accuracy value')\n",
    "plt.xlabel('No. epoch')\n",
    "plt.legend(loc=\"upper left\")\n",
    "\n",
    "plt.show()"
   ]
  }
 ],
 "metadata": {
  "kernelspec": {
   "display_name": "Python 3",
   "language": "python",
   "name": "python3"
  },
  "language_info": {
   "codemirror_mode": {
    "name": "ipython",
    "version": 3
   },
   "file_extension": ".py",
   "mimetype": "text/x-python",
   "name": "python",
   "nbconvert_exporter": "python",
   "pygments_lexer": "ipython3",
   "version": "3.8.5"
  }
 },
 "nbformat": 4,
 "nbformat_minor": 4
}
